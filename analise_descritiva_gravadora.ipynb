{
 "cells": [
  {
   "cell_type": "markdown",
   "metadata": {
    "cell_id": "00000-4b5fcaec-45b0-4e78-83b2-d1d392121fad",
    "deepnote_cell_height": 389.1875,
    "deepnote_cell_type": "markdown",
    "tags": []
   },
   "source": [
    "# Contexto do desafio\n",
    "\n",
    "Com a chegada de novos executivos na Label de música _Black Bear Records_, a empresa deve passar por grandes mudanças. Apesar de ter anos de prestígio no mundo da música, a gravadora têm ficado para trás nos seus resultados financeiros e está atrás de entender melhor como pode se adequar os novos tempos.  \n",
    "<br>\n",
    "Você e seu time de consultores foram contratados para analisar a situação geral da Gravadora, investigar seu portfólio e trazer insights que ajudem a empresa a montar uma estratégia de longo prazo que volte a colocar a _Black Bear_ de volta no topo.\n",
    "<br>  \n",
    "Para isso, vocês têm um conjunto de dados - uma tabela - com as principais informações do portfólio da empresa. Para analisar esses dados, vamos utilizar o que você já aprendeu de Python e Pandas! Para ajudar no processo, vamos tentar trazer as respostas para algumas das principais perguntas levantadas junto dos executivos da empresa, focando em trazer os highlights para pautar a discussão. \n",
    "<br>  \n",
    "Mãos à obra!"
   ]
  },
  {
   "cell_type": "markdown",
   "metadata": {
    "cell_id": "369aea63145b401bbbfdc12be792b15c",
    "deepnote_cell_height": 70,
    "deepnote_cell_type": "markdown",
    "tags": []
   },
   "source": [
    "## Importando bibliotecas e lendo arquivos"
   ]
  },
  {
   "cell_type": "code",
   "execution_count": 6,
   "metadata": {
    "cell_id": "00001-207339bc-d670-4bc4-9ddf-f2a3b6c087a9",
    "deepnote_cell_height": 153,
    "deepnote_cell_type": "code",
    "deepnote_to_be_reexecuted": false,
    "execution_millis": 659,
    "execution_start": 1652724222776,
    "source_hash": "75705ca",
    "tags": []
   },
   "outputs": [],
   "source": [
    "import pandas as pd\n",
    "import numpy as np\n",
    "\n",
    "artists_df = pd.read_csv('https://raw.githubusercontent.com/BrunoWLP/Analise_Descritiva-Gravadora_Musica/main/data/artists.csv')\n",
    "albums_df = pd.read_csv('https://raw.githubusercontent.com/BrunoWLP/Analise_Descritiva-Gravadora_Musica/main/data/albums.csv')"
   ]
  },
  {
   "cell_type": "code",
   "execution_count": 7,
   "metadata": {
    "cell_id": "00002-4aa2e990-e1be-41b5-8837-0533298f2548",
    "deepnote_cell_height": 247.796875,
    "deepnote_cell_type": "code",
    "deepnote_output_heights": [
     61
    ],
    "deepnote_to_be_reexecuted": false,
    "execution_millis": 175,
    "execution_start": 1652564378652,
    "source_hash": "da3eb645",
    "tags": []
   },
   "outputs": [
    {
     "data": {
      "text/html": [
       "<div>\n",
       "<style scoped>\n",
       "    .dataframe tbody tr th:only-of-type {\n",
       "        vertical-align: middle;\n",
       "    }\n",
       "\n",
       "    .dataframe tbody tr th {\n",
       "        vertical-align: top;\n",
       "    }\n",
       "\n",
       "    .dataframe thead th {\n",
       "        text-align: right;\n",
       "    }\n",
       "</style>\n",
       "<table border=\"1\" class=\"dataframe\">\n",
       "  <thead>\n",
       "    <tr style=\"text-align: right;\">\n",
       "      <th></th>\n",
       "      <th>id</th>\n",
       "      <th>real_name</th>\n",
       "      <th>art_name</th>\n",
       "      <th>role</th>\n",
       "      <th>year_of_birth</th>\n",
       "      <th>country</th>\n",
       "      <th>city</th>\n",
       "      <th>email</th>\n",
       "      <th>zip_code</th>\n",
       "      <th>first_release</th>\n",
       "      <th>latest_release</th>\n",
       "      <th>released_albums</th>\n",
       "    </tr>\n",
       "  </thead>\n",
       "  <tbody>\n",
       "    <tr>\n",
       "      <th>0</th>\n",
       "      <td>1</td>\n",
       "      <td>Kameko Nelson</td>\n",
       "      <td>NaN</td>\n",
       "      <td>female voice</td>\n",
       "      <td>1981</td>\n",
       "      <td>Slovenia</td>\n",
       "      <td>Vedrin</td>\n",
       "      <td>lorem.tristique.aliquet@nonummyFusce.co.uk</td>\n",
       "      <td>6914</td>\n",
       "      <td>2008</td>\n",
       "      <td>2008</td>\n",
       "      <td>1</td>\n",
       "    </tr>\n",
       "  </tbody>\n",
       "</table>\n",
       "</div>"
      ],
      "text/plain": [
       "   id      real_name art_name          role  year_of_birth   country    city  \\\n",
       "0   1  Kameko Nelson      NaN  female voice           1981  Slovenia  Vedrin   \n",
       "\n",
       "                                        email zip_code  first_release  \\\n",
       "0  lorem.tristique.aliquet@nonummyFusce.co.uk     6914           2008   \n",
       "\n",
       "   latest_release  released_albums  \n",
       "0            2008                1  "
      ]
     },
     "execution_count": 7,
     "metadata": {},
     "output_type": "execute_result"
    }
   ],
   "source": [
    "artists_df.head(1)"
   ]
  },
  {
   "cell_type": "code",
   "execution_count": null,
   "metadata": {
    "cell_id": "00003-46f4f6c2-220a-428f-a1b7-8e89fbcd605a",
    "deepnote_cell_height": 247.796875,
    "deepnote_cell_type": "code",
    "deepnote_output_heights": [
     61
    ],
    "deepnote_to_be_reexecuted": false,
    "execution_millis": 139,
    "execution_start": 1652564386322,
    "source_hash": "12318ca3",
    "tags": []
   },
   "outputs": [
    {
     "data": {
      "application/vnd.deepnote.dataframe.v3+json": {
       "column_count": 10,
       "columns": [
        {
         "dtype": "int64",
         "name": "id",
         "stats": {
          "histogram": [
           {
            "bin_end": 0.6,
            "bin_start": 0.5,
            "count": 0
           },
           {
            "bin_end": 0.7,
            "bin_start": 0.6,
            "count": 0
           },
           {
            "bin_end": 0.8,
            "bin_start": 0.7,
            "count": 0
           },
           {
            "bin_end": 0.9,
            "bin_start": 0.8,
            "count": 0
           },
           {
            "bin_end": 1,
            "bin_start": 0.9,
            "count": 0
           },
           {
            "bin_end": 1.1,
            "bin_start": 1,
            "count": 1
           },
           {
            "bin_end": 1.2000000000000002,
            "bin_start": 1.1,
            "count": 0
           },
           {
            "bin_end": 1.3,
            "bin_start": 1.2000000000000002,
            "count": 0
           },
           {
            "bin_end": 1.4,
            "bin_start": 1.3,
            "count": 0
           },
           {
            "bin_end": 1.5,
            "bin_start": 1.4,
            "count": 0
           }
          ],
          "max": "1",
          "min": "1",
          "nan_count": 0,
          "unique_count": 1
         }
        },
        {
         "dtype": "int64",
         "name": "artist_id",
         "stats": {
          "histogram": [
           {
            "bin_end": 1766.6,
            "bin_start": 1766.5,
            "count": 0
           },
           {
            "bin_end": 1766.7,
            "bin_start": 1766.6,
            "count": 0
           },
           {
            "bin_end": 1766.8,
            "bin_start": 1766.7,
            "count": 0
           },
           {
            "bin_end": 1766.9,
            "bin_start": 1766.8,
            "count": 0
           },
           {
            "bin_end": 1767,
            "bin_start": 1766.9,
            "count": 0
           },
           {
            "bin_end": 1767.1,
            "bin_start": 1767,
            "count": 1
           },
           {
            "bin_end": 1767.2,
            "bin_start": 1767.1,
            "count": 0
           },
           {
            "bin_end": 1767.3,
            "bin_start": 1767.2,
            "count": 0
           },
           {
            "bin_end": 1767.4,
            "bin_start": 1767.3,
            "count": 0
           },
           {
            "bin_end": 1767.5,
            "bin_start": 1767.4,
            "count": 0
           }
          ],
          "max": "1767",
          "min": "1767",
          "nan_count": 0,
          "unique_count": 1
         }
        },
        {
         "dtype": "object",
         "name": "album_title",
         "stats": {
          "categories": [
           {
            "count": 1,
            "name": "Call me Cat Moneyless That Doggies"
           }
          ],
          "nan_count": 0,
          "unique_count": 1
         }
        },
        {
         "dtype": "object",
         "name": "genre",
         "stats": {
          "categories": [
           {
            "count": 1,
            "name": "Folk"
           }
          ],
          "nan_count": 0,
          "unique_count": 1
         }
        },
        {
         "dtype": "int64",
         "name": "year_of_pub",
         "stats": {
          "histogram": [
           {
            "bin_end": 2005.6,
            "bin_start": 2005.5,
            "count": 0
           },
           {
            "bin_end": 2005.7,
            "bin_start": 2005.6,
            "count": 0
           },
           {
            "bin_end": 2005.8,
            "bin_start": 2005.7,
            "count": 0
           },
           {
            "bin_end": 2005.9,
            "bin_start": 2005.8,
            "count": 0
           },
           {
            "bin_end": 2006,
            "bin_start": 2005.9,
            "count": 0
           },
           {
            "bin_end": 2006.1,
            "bin_start": 2006,
            "count": 1
           },
           {
            "bin_end": 2006.2,
            "bin_start": 2006.1,
            "count": 0
           },
           {
            "bin_end": 2006.3,
            "bin_start": 2006.2,
            "count": 0
           },
           {
            "bin_end": 2006.4,
            "bin_start": 2006.3,
            "count": 0
           },
           {
            "bin_end": 2006.5,
            "bin_start": 2006.4,
            "count": 0
           }
          ],
          "max": "2006",
          "min": "2006",
          "nan_count": 0,
          "unique_count": 1
         }
        },
        {
         "dtype": "int64",
         "name": "num_of_tracks",
         "stats": {
          "histogram": [
           {
            "bin_end": 10.6,
            "bin_start": 10.5,
            "count": 0
           },
           {
            "bin_end": 10.7,
            "bin_start": 10.6,
            "count": 0
           },
           {
            "bin_end": 10.8,
            "bin_start": 10.7,
            "count": 0
           },
           {
            "bin_end": 10.9,
            "bin_start": 10.8,
            "count": 0
           },
           {
            "bin_end": 11,
            "bin_start": 10.9,
            "count": 0
           },
           {
            "bin_end": 11.1,
            "bin_start": 11,
            "count": 1
           },
           {
            "bin_end": 11.2,
            "bin_start": 11.1,
            "count": 0
           },
           {
            "bin_end": 11.3,
            "bin_start": 11.2,
            "count": 0
           },
           {
            "bin_end": 11.4,
            "bin_start": 11.3,
            "count": 0
           },
           {
            "bin_end": 11.5,
            "bin_start": 11.4,
            "count": 0
           }
          ],
          "max": "11",
          "min": "11",
          "nan_count": 0,
          "unique_count": 1
         }
        },
        {
         "dtype": "int64",
         "name": "num_of_sales",
         "stats": {
          "histogram": [
           {
            "bin_end": 905192.6,
            "bin_start": 905192.5,
            "count": 0
           },
           {
            "bin_end": 905192.7,
            "bin_start": 905192.6,
            "count": 0
           },
           {
            "bin_end": 905192.8,
            "bin_start": 905192.7,
            "count": 0
           },
           {
            "bin_end": 905192.9,
            "bin_start": 905192.8,
            "count": 0
           },
           {
            "bin_end": 905193,
            "bin_start": 905192.9,
            "count": 0
           },
           {
            "bin_end": 905193.1,
            "bin_start": 905193,
            "count": 1
           },
           {
            "bin_end": 905193.2,
            "bin_start": 905193.1,
            "count": 0
           },
           {
            "bin_end": 905193.3,
            "bin_start": 905193.2,
            "count": 0
           },
           {
            "bin_end": 905193.4,
            "bin_start": 905193.3,
            "count": 0
           },
           {
            "bin_end": 905193.5,
            "bin_start": 905193.4,
            "count": 0
           }
          ],
          "max": "905193",
          "min": "905193",
          "nan_count": 0,
          "unique_count": 1
         }
        },
        {
         "dtype": "float64",
         "name": "rolling_stone_critic",
         "stats": {
          "histogram": [
           {
            "bin_end": 3.6,
            "bin_start": 3.5,
            "count": 0
           },
           {
            "bin_end": 3.7,
            "bin_start": 3.6,
            "count": 0
           },
           {
            "bin_end": 3.8,
            "bin_start": 3.7,
            "count": 0
           },
           {
            "bin_end": 3.9,
            "bin_start": 3.8,
            "count": 0
           },
           {
            "bin_end": 4,
            "bin_start": 3.9,
            "count": 0
           },
           {
            "bin_end": 4.1,
            "bin_start": 4,
            "count": 1
           },
           {
            "bin_end": 4.2,
            "bin_start": 4.1,
            "count": 0
           },
           {
            "bin_end": 4.3,
            "bin_start": 4.2,
            "count": 0
           },
           {
            "bin_end": 4.4,
            "bin_start": 4.3,
            "count": 0
           },
           {
            "bin_end": 4.5,
            "bin_start": 4.4,
            "count": 0
           }
          ],
          "max": "4.0",
          "min": "4.0",
          "nan_count": 0,
          "unique_count": 1
         }
        },
        {
         "dtype": "float64",
         "name": "mtv_critic",
         "stats": {
          "histogram": [
           {
            "bin_end": 1.1,
            "bin_start": 1,
            "count": 0
           },
           {
            "bin_end": 1.2,
            "bin_start": 1.1,
            "count": 0
           },
           {
            "bin_end": 1.3,
            "bin_start": 1.2,
            "count": 0
           },
           {
            "bin_end": 1.4,
            "bin_start": 1.3,
            "count": 0
           },
           {
            "bin_end": 1.5,
            "bin_start": 1.4,
            "count": 0
           },
           {
            "bin_end": 1.6,
            "bin_start": 1.5,
            "count": 1
           },
           {
            "bin_end": 1.7000000000000002,
            "bin_start": 1.6,
            "count": 0
           },
           {
            "bin_end": 1.8,
            "bin_start": 1.7000000000000002,
            "count": 0
           },
           {
            "bin_end": 1.9,
            "bin_start": 1.8,
            "count": 0
           },
           {
            "bin_end": 2,
            "bin_start": 1.9,
            "count": 0
           }
          ],
          "max": "1.5",
          "min": "1.5",
          "nan_count": 0,
          "unique_count": 1
         }
        },
        {
         "dtype": "float64",
         "name": "music_maniac_critic",
         "stats": {
          "histogram": [
           {
            "bin_end": 2.6,
            "bin_start": 2.5,
            "count": 0
           },
           {
            "bin_end": 2.7,
            "bin_start": 2.6,
            "count": 0
           },
           {
            "bin_end": 2.8,
            "bin_start": 2.7,
            "count": 0
           },
           {
            "bin_end": 2.9,
            "bin_start": 2.8,
            "count": 0
           },
           {
            "bin_end": 3,
            "bin_start": 2.9,
            "count": 0
           },
           {
            "bin_end": 3.1,
            "bin_start": 3,
            "count": 1
           },
           {
            "bin_end": 3.2,
            "bin_start": 3.1,
            "count": 0
           },
           {
            "bin_end": 3.3,
            "bin_start": 3.2,
            "count": 0
           },
           {
            "bin_end": 3.4,
            "bin_start": 3.3,
            "count": 0
           },
           {
            "bin_end": 3.5,
            "bin_start": 3.4,
            "count": 0
           }
          ],
          "max": "3.0",
          "min": "3.0",
          "nan_count": 0,
          "unique_count": 1
         }
        },
        {
         "dtype": "int64",
         "name": "_deepnote_index_column"
        }
       ],
       "row_count": 1,
       "rows": [
        {
         "_deepnote_index_column": 0,
         "album_title": "Call me Cat Moneyless That Doggies",
         "artist_id": 1767,
         "genre": "Folk",
         "id": 1,
         "mtv_critic": 1.5,
         "music_maniac_critic": 3,
         "num_of_sales": 905193,
         "num_of_tracks": 11,
         "rolling_stone_critic": 4,
         "year_of_pub": 2006
        }
       ]
      },
      "text/html": [
       "<div>\n",
       "<style scoped>\n",
       "    .dataframe tbody tr th:only-of-type {\n",
       "        vertical-align: middle;\n",
       "    }\n",
       "\n",
       "    .dataframe tbody tr th {\n",
       "        vertical-align: top;\n",
       "    }\n",
       "\n",
       "    .dataframe thead th {\n",
       "        text-align: right;\n",
       "    }\n",
       "</style>\n",
       "<table border=\"1\" class=\"dataframe\">\n",
       "  <thead>\n",
       "    <tr style=\"text-align: right;\">\n",
       "      <th></th>\n",
       "      <th>id</th>\n",
       "      <th>artist_id</th>\n",
       "      <th>album_title</th>\n",
       "      <th>genre</th>\n",
       "      <th>year_of_pub</th>\n",
       "      <th>num_of_tracks</th>\n",
       "      <th>num_of_sales</th>\n",
       "      <th>rolling_stone_critic</th>\n",
       "      <th>mtv_critic</th>\n",
       "      <th>music_maniac_critic</th>\n",
       "    </tr>\n",
       "  </thead>\n",
       "  <tbody>\n",
       "    <tr>\n",
       "      <th>0</th>\n",
       "      <td>1</td>\n",
       "      <td>1767</td>\n",
       "      <td>Call me Cat Moneyless That Doggies</td>\n",
       "      <td>Folk</td>\n",
       "      <td>2006</td>\n",
       "      <td>11</td>\n",
       "      <td>905193</td>\n",
       "      <td>4.0</td>\n",
       "      <td>1.5</td>\n",
       "      <td>3.0</td>\n",
       "    </tr>\n",
       "  </tbody>\n",
       "</table>\n",
       "</div>"
      ],
      "text/plain": [
       "   id  artist_id                         album_title genre  year_of_pub  \\\n",
       "0   1       1767  Call me Cat Moneyless That Doggies  Folk         2006   \n",
       "\n",
       "   num_of_tracks  num_of_sales  rolling_stone_critic  mtv_critic  \\\n",
       "0             11        905193                   4.0         1.5   \n",
       "\n",
       "   music_maniac_critic  \n",
       "0                  3.0  "
      ]
     },
     "execution_count": 3,
     "metadata": {},
     "output_type": "execute_result"
    }
   ],
   "source": [
    "albums_df.head(1)"
   ]
  },
  {
   "cell_type": "code",
   "execution_count": 8,
   "metadata": {
    "cell_id": "15df4a99bcdd4e4ba21d2b6dd8327a58",
    "deepnote_cell_height": 719,
    "deepnote_cell_type": "code",
    "deepnote_to_be_reexecuted": false,
    "execution_millis": 51,
    "execution_start": 1652719453716,
    "source_hash": "b3d93949",
    "tags": []
   },
   "outputs": [
    {
     "name": "stdout",
     "output_type": "stream",
     "text": [
      "<class 'pandas.core.frame.DataFrame'>\n",
      "RangeIndex: 27536 entries, 0 to 27535\n",
      "Data columns (total 12 columns):\n",
      " #   Column           Non-Null Count  Dtype \n",
      "---  ------           --------------  ----- \n",
      " 0   id               27536 non-null  int64 \n",
      " 1   real_name        27536 non-null  object\n",
      " 2   art_name         18426 non-null  object\n",
      " 3   role             27536 non-null  object\n",
      " 4   year_of_birth    27536 non-null  int64 \n",
      " 5   country          27536 non-null  object\n",
      " 6   city             27536 non-null  object\n",
      " 7   email            27536 non-null  object\n",
      " 8   zip_code         27536 non-null  object\n",
      " 9   first_release    27536 non-null  int64 \n",
      " 10  latest_release   27536 non-null  int64 \n",
      " 11  released_albums  27536 non-null  int64 \n",
      "dtypes: int64(5), object(7)\n",
      "memory usage: 2.5+ MB\n",
      "None\n",
      "<class 'pandas.core.frame.DataFrame'>\n",
      "RangeIndex: 63817 entries, 0 to 63816\n",
      "Data columns (total 10 columns):\n",
      " #   Column                Non-Null Count  Dtype  \n",
      "---  ------                --------------  -----  \n",
      " 0   id                    63817 non-null  int64  \n",
      " 1   artist_id             63817 non-null  int64  \n",
      " 2   album_title           63817 non-null  object \n",
      " 3   genre                 63817 non-null  object \n",
      " 4   year_of_pub           63817 non-null  int64  \n",
      " 5   num_of_tracks         63817 non-null  int64  \n",
      " 6   num_of_sales          63817 non-null  int64  \n",
      " 7   rolling_stone_critic  63817 non-null  float64\n",
      " 8   mtv_critic            63817 non-null  float64\n",
      " 9   music_maniac_critic   63817 non-null  float64\n",
      "dtypes: float64(3), int64(5), object(2)\n",
      "memory usage: 4.9+ MB\n",
      "None\n"
     ]
    }
   ],
   "source": [
    "print(artists_df.info())\n",
    "print(albums_df.info())"
   ]
  },
  {
   "cell_type": "markdown",
   "metadata": {
    "cell_id": "00002-7d3b0aab-d877-4bb7-a3d4-ad1b7ede229a",
    "deepnote_cell_height": 346.796875,
    "deepnote_cell_type": "markdown",
    "tags": []
   },
   "source": [
    "# Perguntas a serem respondidas\n",
    "\n",
    "    1) Quantos artistas temos no catálogo? Quantos álbuns lançados? \n",
    "    2) Quantas nacionalidades? Qual o país com a maior concentração de artistas?\n",
    "    3) Quantos artistas foram adicionados ao catálogo nos último 3 anos?\n",
    "    4) Quais os 5 tipos de artista mais presentes no catálogo?\n",
    "    5) Qual faixa de idade mais comum entre os artistas do catálogo?\n",
    "    6) Quantos álbuns foram lançados nos últimos 5 anos?\n",
    "    7) Quais os 10 gêneros musicais mais presentes no catálogo? Quanto cada um representa do total de vendas?\n",
    "    8) Quais os gêneros com as melhores avaliações pela Rolling Stone? E quais os piores?\n",
    "    9) Quais os artistas de maior sucesso comercial? E de sucesso da crítica especializada?\n",
    "    10) Se tivéssemos que não renovar o contrato dos 20% artistas com pior desempenho na crítica, quanto estaríamos arriscando de vendas mensais?"
   ]
  },
  {
   "cell_type": "markdown",
   "metadata": {
    "cell_id": "00006-bfbe924e-151e-443b-ae40-38b8df7eb67b",
    "deepnote_cell_height": 62,
    "deepnote_cell_type": "markdown",
    "tags": []
   },
   "source": [
    "### 1) Quantos artistas temos no catálogo? Quantos álbuns lançados?"
   ]
  },
  {
   "cell_type": "code",
   "execution_count": null,
   "metadata": {
    "cell_id": "7a98948933b744bd969720b48436dc5b",
    "deepnote_cell_height": 118.1875,
    "deepnote_cell_type": "code",
    "deepnote_output_heights": [
     21.1875
    ],
    "deepnote_to_be_reexecuted": false,
    "execution_millis": 18,
    "execution_start": 1652564775693,
    "source_hash": "5813cc28",
    "tags": []
   },
   "outputs": [
    {
     "data": {
      "text/plain": [
       "27536"
      ]
     },
     "execution_count": 11,
     "metadata": {},
     "output_type": "execute_result"
    }
   ],
   "source": [
    "artists_df['id'].notna().sum()"
   ]
  },
  {
   "cell_type": "code",
   "execution_count": null,
   "metadata": {
    "cell_id": "00008-497882bf-9165-482f-96a2-60abe9114ba9",
    "deepnote_cell_height": 118.1875,
    "deepnote_cell_type": "code",
    "deepnote_output_heights": [
     21.1875
    ],
    "deepnote_to_be_reexecuted": false,
    "execution_millis": 2,
    "execution_start": 1652564777233,
    "source_hash": "e949aae5",
    "tags": []
   },
   "outputs": [
    {
     "data": {
      "text/plain": [
       "63817"
      ]
     },
     "execution_count": 12,
     "metadata": {},
     "output_type": "execute_result"
    }
   ],
   "source": [
    "albums_df['id'].notna().sum()"
   ]
  },
  {
   "cell_type": "markdown",
   "metadata": {
    "cell_id": "f0482e746e3049159f56efee6e3fc4ae",
    "deepnote_cell_type": "text-cell-p",
    "is_collapsed": false,
    "tags": []
   },
   "source": [
    "27.536 artistas no catálogo e 63.817 álbuns lançados."
   ]
  },
  {
   "cell_type": "markdown",
   "metadata": {
    "cell_id": "00009-38468f41-7016-42fc-aaa4-0da851710842",
    "deepnote_cell_height": 94,
    "deepnote_cell_type": "markdown",
    "tags": []
   },
   "source": [
    "### 2) Quantas nacionalidades? Qual o país com a maior concentração de artistas?"
   ]
  },
  {
   "cell_type": "code",
   "execution_count": null,
   "metadata": {
    "cell_id": "b79cad2824b94950b7131d0cc7587005",
    "deepnote_cell_height": 118.1875,
    "deepnote_cell_type": "code",
    "deepnote_output_heights": [
     21.1875
    ],
    "deepnote_to_be_reexecuted": false,
    "execution_millis": 1,
    "execution_start": 1652564839550,
    "source_hash": "ff4a2bb3",
    "tags": []
   },
   "outputs": [
    {
     "data": {
      "text/plain": [
       "0"
      ]
     },
     "execution_count": 15,
     "metadata": {},
     "output_type": "execute_result"
    }
   ],
   "source": [
    "artists_df['country'].isnull().sum()"
   ]
  },
  {
   "cell_type": "code",
   "execution_count": null,
   "metadata": {
    "cell_id": "00011-12cbb48d-4b5b-469c-a035-fdde363d4afa",
    "deepnote_cell_height": 154.1875,
    "deepnote_cell_type": "code",
    "deepnote_output_heights": [
     21.1875
    ],
    "deepnote_to_be_reexecuted": false,
    "execution_millis": 0,
    "execution_start": 1639178083797,
    "source_hash": "eb12c451",
    "tags": []
   },
   "outputs": [
    {
     "data": {
      "text/plain": [
       "249"
      ]
     },
     "execution_count": 6,
     "metadata": {},
     "output_type": "execute_result"
    }
   ],
   "source": [
    "# Nacionalidades\n",
    "\n",
    "artists_df['country'].nunique()"
   ]
  },
  {
   "cell_type": "markdown",
   "metadata": {
    "cell_id": "f344bb6eced34566af3f7307c310ea73",
    "deepnote_cell_type": "text-cell-p",
    "is_collapsed": false,
    "tags": []
   },
   "source": [
    "249 nacionalidades"
   ]
  },
  {
   "cell_type": "code",
   "execution_count": null,
   "metadata": {
    "cell_id": "00010-c1f16ff3-c410-46a9-9e29-a674c0edb8c2",
    "deepnote_cell_height": 431,
    "deepnote_cell_type": "code",
    "deepnote_to_be_reexecuted": false,
    "execution_millis": 69,
    "execution_start": 1652565217055,
    "source_hash": "b75f33e8",
    "tags": []
   },
   "outputs": [
    {
     "data": {
      "application/vnd.deepnote.dataframe.v3+json": {
       "column_count": 1,
       "columns": [
        {
         "dtype": "int64",
         "name": "id",
         "stats": {
          "histogram": [
           {
            "bin_end": 133.9,
            "bin_start": 132,
            "count": 1
           },
           {
            "bin_end": 135.8,
            "bin_start": 133.9,
            "count": 2
           },
           {
            "bin_end": 137.7,
            "bin_start": 135.8,
            "count": 0
           },
           {
            "bin_end": 139.6,
            "bin_start": 137.7,
            "count": 1
           },
           {
            "bin_end": 141.5,
            "bin_start": 139.6,
            "count": 0
           },
           {
            "bin_end": 143.4,
            "bin_start": 141.5,
            "count": 0
           },
           {
            "bin_end": 145.3,
            "bin_start": 143.4,
            "count": 0
           },
           {
            "bin_end": 147.2,
            "bin_start": 145.3,
            "count": 0
           },
           {
            "bin_end": 149.1,
            "bin_start": 147.2,
            "count": 0
           },
           {
            "bin_end": 151,
            "bin_start": 149.1,
            "count": 1
           }
          ],
          "max": "151",
          "min": "132",
          "nan_count": 0,
          "unique_count": 5
         }
        },
        {
         "dtype": "object",
         "name": "_deepnote_index_column"
        }
       ],
       "row_count": 5,
       "rows": [
        {
         "_deepnote_index_column": "Cape Verde",
         "id": 151
        },
        {
         "_deepnote_index_column": "Bolivia",
         "id": 139
        },
        {
         "_deepnote_index_column": "Curaçao",
         "id": 135
        },
        {
         "_deepnote_index_column": "Cameroon",
         "id": 134
        },
        {
         "_deepnote_index_column": "Dominican Republic",
         "id": 132
        }
       ]
      },
      "text/html": [
       "<div>\n",
       "<style scoped>\n",
       "    .dataframe tbody tr th:only-of-type {\n",
       "        vertical-align: middle;\n",
       "    }\n",
       "\n",
       "    .dataframe tbody tr th {\n",
       "        vertical-align: top;\n",
       "    }\n",
       "\n",
       "    .dataframe thead th {\n",
       "        text-align: right;\n",
       "    }\n",
       "</style>\n",
       "<table border=\"1\" class=\"dataframe\">\n",
       "  <thead>\n",
       "    <tr style=\"text-align: right;\">\n",
       "      <th></th>\n",
       "      <th>id</th>\n",
       "    </tr>\n",
       "    <tr>\n",
       "      <th>country</th>\n",
       "      <th></th>\n",
       "    </tr>\n",
       "  </thead>\n",
       "  <tbody>\n",
       "    <tr>\n",
       "      <th>Cape Verde</th>\n",
       "      <td>151</td>\n",
       "    </tr>\n",
       "    <tr>\n",
       "      <th>Bolivia</th>\n",
       "      <td>139</td>\n",
       "    </tr>\n",
       "    <tr>\n",
       "      <th>Curaçao</th>\n",
       "      <td>135</td>\n",
       "    </tr>\n",
       "    <tr>\n",
       "      <th>Cameroon</th>\n",
       "      <td>134</td>\n",
       "    </tr>\n",
       "    <tr>\n",
       "      <th>Dominican Republic</th>\n",
       "      <td>132</td>\n",
       "    </tr>\n",
       "  </tbody>\n",
       "</table>\n",
       "</div>"
      ],
      "text/plain": [
       "                     id\n",
       "country                \n",
       "Cape Verde          151\n",
       "Bolivia             139\n",
       "Curaçao             135\n",
       "Cameroon            134\n",
       "Dominican Republic  132"
      ]
     },
     "execution_count": 23,
     "metadata": {},
     "output_type": "execute_result"
    }
   ],
   "source": [
    "# Ordem decrescente dos países com maior concentração de artistas\n",
    "\n",
    "artists_df.groupby('country').agg({'id': 'count'}).sort_values(by='id', ascending=False).head()"
   ]
  },
  {
   "cell_type": "markdown",
   "metadata": {
    "cell_id": "00012-f140d779-a90d-4bb7-891c-ac94eb6271c8",
    "deepnote_cell_height": 62,
    "deepnote_cell_type": "markdown",
    "tags": []
   },
   "source": [
    "### 3) Quantos artistas foram adicionados ao catálogo nos último 3 anos?"
   ]
  },
  {
   "cell_type": "code",
   "execution_count": null,
   "metadata": {
    "cell_id": "1dfb73ca603c4e9db6a1a4c384bff55d",
    "deepnote_cell_height": 519,
    "deepnote_cell_type": "code",
    "deepnote_output_heights": [
     386
    ],
    "deepnote_to_be_reexecuted": false,
    "execution_millis": 558,
    "execution_start": 1652565469867,
    "source_hash": "851dd6fa",
    "tags": []
   },
   "outputs": [
    {
     "data": {
      "text/plain": [
       "[2000,\n",
       " 2001,\n",
       " 2002,\n",
       " 2003,\n",
       " 2004,\n",
       " 2005,\n",
       " 2006,\n",
       " 2007,\n",
       " 2008,\n",
       " 2009,\n",
       " 2010,\n",
       " 2011,\n",
       " 2012,\n",
       " 2013,\n",
       " 2014,\n",
       " 2015,\n",
       " 2016,\n",
       " 2017,\n",
       " 2018,\n",
       " 2019]"
      ]
     },
     "execution_count": 26,
     "metadata": {},
     "output_type": "execute_result"
    }
   ],
   "source": [
    "# Quantos anos estão presentes nos dados? Quais são os últimos anos?\n",
    "\n",
    "sorted(artists_df['first_release'].unique())"
   ]
  },
  {
   "cell_type": "markdown",
   "metadata": {
    "cell_id": "6de49750f5c048d798e5f872ef0e7ab3",
    "deepnote_cell_type": "text-cell-p",
    "is_collapsed": false,
    "tags": []
   },
   "source": [
    "Tendo em vista que temos dados até 2019, vou assumir esse como o ano de referência."
   ]
  },
  {
   "cell_type": "code",
   "execution_count": null,
   "metadata": {
    "cell_id": "00011-6a35929c-aff4-43d2-a3cd-cdd717d27eb1",
    "deepnote_cell_height": 136.1875,
    "deepnote_cell_type": "code",
    "deepnote_output_heights": [
     21.1875
    ],
    "deepnote_to_be_reexecuted": false,
    "execution_millis": 25,
    "execution_start": 1652565688925,
    "source_hash": "d2d67641",
    "tags": []
   },
   "outputs": [
    {
     "data": {
      "text/plain": [
       "1537"
      ]
     },
     "execution_count": 28,
     "metadata": {},
     "output_type": "execute_result"
    }
   ],
   "source": [
    "artists_df.loc[artists_df['first_release'] >= 2017, 'id'].nunique()\n"
   ]
  },
  {
   "cell_type": "markdown",
   "metadata": {
    "cell_id": "a18a751bbeb3414aa189fa95e84afb23",
    "deepnote_cell_type": "text-cell-p",
    "is_collapsed": false,
    "tags": []
   },
   "source": [
    "1537 artistas adicionados entre 2017-2019."
   ]
  },
  {
   "cell_type": "markdown",
   "metadata": {
    "cell_id": "00014-5f7015cf-37c1-49f3-86bb-fd3d71378d16",
    "deepnote_cell_height": 62,
    "deepnote_cell_type": "markdown",
    "tags": []
   },
   "source": [
    "### 4) Quais os 5 tipos de artista mais presentes no catálogo?"
   ]
  },
  {
   "cell_type": "code",
   "execution_count": null,
   "metadata": {
    "cell_id": "d8c0e52ea8a24af59048d1ef8ad66931",
    "deepnote_cell_height": 233.375,
    "deepnote_cell_type": "code",
    "deepnote_output_heights": [
     136.390625
    ],
    "deepnote_to_be_reexecuted": false,
    "execution_millis": 24,
    "execution_start": 1652566093115,
    "source_hash": "dd33e5c4",
    "tags": []
   },
   "outputs": [
    {
     "data": {
      "text/plain": [
       "role\n",
       "rapper     2743\n",
       "singer     2671\n",
       "DJ         1868\n",
       "drummer    1786\n",
       "artist     1778\n",
       "Name: id, dtype: int64"
      ]
     },
     "execution_count": 38,
     "metadata": {},
     "output_type": "execute_result"
    }
   ],
   "source": [
    "artists_df.groupby('role')['id'].count().sort_values(ascending=False).head()"
   ]
  },
  {
   "cell_type": "markdown",
   "metadata": {
    "cell_id": "00016-c82e327a-370d-45a0-baf8-ec199e16c99f",
    "deepnote_cell_height": 62,
    "deepnote_cell_type": "markdown",
    "tags": []
   },
   "source": [
    "### 5) Qual faixa de idade mais comum entre os artistas do catálogo?"
   ]
  },
  {
   "cell_type": "code",
   "execution_count": null,
   "metadata": {
    "cell_id": "00017-3979167f-4be8-464b-b647-f4de0d3b563b",
    "deepnote_cell_height": 268.1875,
    "deepnote_cell_type": "code",
    "deepnote_output_heights": [
     117.1875
    ],
    "deepnote_to_be_reexecuted": false,
    "execution_millis": 2,
    "execution_start": 1652716570852,
    "source_hash": "69a1f976",
    "tags": []
   },
   "outputs": [
    {
     "data": {
      "text/plain": [
       "0    38\n",
       "1    64\n",
       "2    26\n",
       "3    31\n",
       "4    30\n",
       "Name: idade, dtype: int64"
      ]
     },
     "execution_count": 2,
     "metadata": {},
     "output_type": "execute_result"
    }
   ],
   "source": [
    "# Criação de nova coluna calculada para descobrir a idade\n",
    "\n",
    "artists_df['idade'] = 2019 - artists_df['year_of_birth']\n",
    "artists_df['idade'].head()"
   ]
  },
  {
   "cell_type": "markdown",
   "metadata": {
    "cell_id": "8863ce1dd2d94b3b968231ad229cb35f",
    "deepnote_cell_height": 133.59375,
    "deepnote_cell_type": "markdown",
    "tags": []
   },
   "source": [
    "Melhor que utilizar o ano atual para o cálculo, o ideal seria importar a biblioteca datetime e usar a linha:<br>\n",
    "```artists_df['idade'] = datetime.today().year - artists_df['year_of_birth']```\n",
    "\n",
    "Pensando em reprodutibilidade do código, ele geraria o resultado correto independente do ano.\n",
    "Como assumi 2019 como \"ano atual\", vou utilizar ele diretamente."
   ]
  },
  {
   "cell_type": "code",
   "execution_count": null,
   "metadata": {
    "cell_id": "d4902cde7f834bf2bdddc4dff9ef0045",
    "deepnote_cell_height": 652,
    "deepnote_cell_type": "code",
    "deepnote_to_be_reexecuted": false,
    "execution_millis": 43,
    "execution_start": 1652722459304,
    "source_hash": "fbddd1d2",
    "tags": []
   },
   "outputs": [
    {
     "data": {
      "application/vnd.deepnote.dataframe.v3+json": {
       "column_count": 1,
       "columns": [
        {
         "dtype": "int64",
         "name": "qtde_artistas",
         "stats": {
          "histogram": [
           {
            "bin_end": 1169.9,
            "bin_start": 626,
            "count": 1
           },
           {
            "bin_end": 1713.8,
            "bin_start": 1169.9,
            "count": 0
           },
           {
            "bin_end": 2257.7,
            "bin_start": 1713.8,
            "count": 0
           },
           {
            "bin_end": 2801.6,
            "bin_start": 2257.7,
            "count": 0
           },
           {
            "bin_end": 3345.5,
            "bin_start": 2801.6,
            "count": 1
           },
           {
            "bin_end": 3889.3999999999996,
            "bin_start": 3345.5,
            "count": 0
           },
           {
            "bin_end": 4433.299999999999,
            "bin_start": 3889.3999999999996,
            "count": 0
           },
           {
            "bin_end": 4977.2,
            "bin_start": 4433.299999999999,
            "count": 0
           },
           {
            "bin_end": 5521.099999999999,
            "bin_start": 4977.2,
            "count": 0
           },
           {
            "bin_end": 6065,
            "bin_start": 5521.099999999999,
            "count": 4
           }
          ],
          "max": "6065",
          "min": "626",
          "nan_count": 0,
          "unique_count": 6
         }
        },
        {
         "dtype": "float64",
         "name": "_deepnote_index_column"
        }
       ],
       "row_count": 6,
       "rows": [
        {
         "_deepnote_index_column": 30,
         "qtde_artistas": 6065
        },
        {
         "_deepnote_index_column": 50,
         "qtde_artistas": 6023
        },
        {
         "_deepnote_index_column": 40,
         "qtde_artistas": 5976
        },
        {
         "_deepnote_index_column": 20,
         "qtde_artistas": 5954
        },
        {
         "_deepnote_index_column": 60,
         "qtde_artistas": 2892
        },
        {
         "_deepnote_index_column": 10,
         "qtde_artistas": 626
        }
       ]
      },
      "text/html": [
       "<div>\n",
       "<style scoped>\n",
       "    .dataframe tbody tr th:only-of-type {\n",
       "        vertical-align: middle;\n",
       "    }\n",
       "\n",
       "    .dataframe tbody tr th {\n",
       "        vertical-align: top;\n",
       "    }\n",
       "\n",
       "    .dataframe thead th {\n",
       "        text-align: right;\n",
       "    }\n",
       "</style>\n",
       "<table border=\"1\" class=\"dataframe\">\n",
       "  <thead>\n",
       "    <tr style=\"text-align: right;\">\n",
       "      <th></th>\n",
       "      <th>qtde_artistas</th>\n",
       "    </tr>\n",
       "    <tr>\n",
       "      <th>faixa_idade</th>\n",
       "      <th></th>\n",
       "    </tr>\n",
       "  </thead>\n",
       "  <tbody>\n",
       "    <tr>\n",
       "      <th>30.0</th>\n",
       "      <td>6065</td>\n",
       "    </tr>\n",
       "    <tr>\n",
       "      <th>50.0</th>\n",
       "      <td>6023</td>\n",
       "    </tr>\n",
       "    <tr>\n",
       "      <th>40.0</th>\n",
       "      <td>5976</td>\n",
       "    </tr>\n",
       "    <tr>\n",
       "      <th>20.0</th>\n",
       "      <td>5954</td>\n",
       "    </tr>\n",
       "    <tr>\n",
       "      <th>60.0</th>\n",
       "      <td>2892</td>\n",
       "    </tr>\n",
       "    <tr>\n",
       "      <th>10.0</th>\n",
       "      <td>626</td>\n",
       "    </tr>\n",
       "  </tbody>\n",
       "</table>\n",
       "</div>"
      ],
      "text/plain": [
       "             qtde_artistas\n",
       "faixa_idade               \n",
       "30.0                  6065\n",
       "50.0                  6023\n",
       "40.0                  5976\n",
       "20.0                  5954\n",
       "60.0                  2892\n",
       "10.0                   626"
      ]
     },
     "execution_count": 67,
     "metadata": {},
     "output_type": "execute_result"
    }
   ],
   "source": [
    "# Faixa de idade: 20-29, 30-39, etc\n",
    "\n",
    "df = artists_df.copy()\n",
    "\n",
    "df['faixa_idade'] = df['idade']\n",
    "\n",
    "df.loc[:, 'faixa_idade'] = np.floor((df['idade']) / 10) * 10 \n",
    "# divide-se a idade por 10 para que o floor seja aplicado; entra na faixa após a multiplicação por 10\n",
    "\n",
    "df = df.groupby('faixa_idade').agg({'id':'count'}).sort_values(by='id', ascending=False)\n",
    "df.rename(columns={'id': 'qtde_artistas'}, inplace=True)\n",
    "\n",
    "df"
   ]
  },
  {
   "cell_type": "markdown",
   "metadata": {
    "cell_id": "00018-4a7f784f-771f-4ad8-abfc-3ef26eb5d9c8",
    "deepnote_cell_height": 62,
    "deepnote_cell_type": "markdown",
    "tags": []
   },
   "source": [
    "### 6) Quantos álbuns foram lançados nos últimos 5 anos?"
   ]
  },
  {
   "cell_type": "code",
   "execution_count": null,
   "metadata": {
    "cell_id": "00020-c2948073-26e9-444b-81b4-efd869cda5ac",
    "deepnote_cell_height": 118.1875,
    "deepnote_cell_type": "code",
    "deepnote_output_heights": [
     21.1875
    ],
    "deepnote_to_be_reexecuted": false,
    "execution_millis": 2,
    "execution_start": 1652717315112,
    "source_hash": "9cb557f0",
    "tags": []
   },
   "outputs": [
    {
     "data": {
      "text/plain": [
       "19356"
      ]
     },
     "execution_count": 12,
     "metadata": {},
     "output_type": "execute_result"
    }
   ],
   "source": [
    "albums_df['id'].loc[albums_df['year_of_pub'] >= 2014].count()"
   ]
  },
  {
   "cell_type": "markdown",
   "metadata": {
    "cell_id": "b9a83d34acd746b5ae2e50ce1e3710c8",
    "deepnote_cell_type": "text-cell-p",
    "is_collapsed": false,
    "tags": []
   },
   "source": [
    "19.356 álbuns foram lançados desde 2014."
   ]
  },
  {
   "cell_type": "markdown",
   "metadata": {
    "cell_id": "00022-8e4a4963-690f-4d21-b8f0-301bf0da19a5",
    "deepnote_cell_height": 94,
    "deepnote_cell_type": "markdown",
    "tags": []
   },
   "source": [
    "### 7) Quais os 10 gêneros musicais mais presentes no catálogo? Quanto cada um representa do total de vendas?"
   ]
  },
  {
   "cell_type": "code",
   "execution_count": 9,
   "metadata": {
    "cell_id": "00021-9f044688-526c-4f20-9399-910610877241",
    "deepnote_cell_height": 726,
    "deepnote_cell_type": "code",
    "deepnote_output_heights": [
     322
    ],
    "deepnote_to_be_reexecuted": false,
    "execution_millis": 27,
    "execution_start": 1652719728866,
    "source_hash": "174afbef",
    "tags": []
   },
   "outputs": [
    {
     "data": {
      "text/html": [
       "<div>\n",
       "<style scoped>\n",
       "    .dataframe tbody tr th:only-of-type {\n",
       "        vertical-align: middle;\n",
       "    }\n",
       "\n",
       "    .dataframe tbody tr th {\n",
       "        vertical-align: top;\n",
       "    }\n",
       "\n",
       "    .dataframe thead th {\n",
       "        text-align: right;\n",
       "    }\n",
       "</style>\n",
       "<table border=\"1\" class=\"dataframe\">\n",
       "  <thead>\n",
       "    <tr style=\"text-align: right;\">\n",
       "      <th></th>\n",
       "      <th>genre</th>\n",
       "      <th>qty_sales</th>\n",
       "    </tr>\n",
       "  </thead>\n",
       "  <tbody>\n",
       "    <tr>\n",
       "      <th>0</th>\n",
       "      <td>Indie</td>\n",
       "      <td>5947</td>\n",
       "    </tr>\n",
       "    <tr>\n",
       "      <th>1</th>\n",
       "      <td>Pop</td>\n",
       "      <td>4930</td>\n",
       "    </tr>\n",
       "    <tr>\n",
       "      <th>2</th>\n",
       "      <td>Rap</td>\n",
       "      <td>3709</td>\n",
       "    </tr>\n",
       "    <tr>\n",
       "      <th>3</th>\n",
       "      <td>Latino</td>\n",
       "      <td>2489</td>\n",
       "    </tr>\n",
       "    <tr>\n",
       "      <th>4</th>\n",
       "      <td>Pop-Rock</td>\n",
       "      <td>2482</td>\n",
       "    </tr>\n",
       "    <tr>\n",
       "      <th>5</th>\n",
       "      <td>Dance</td>\n",
       "      <td>2460</td>\n",
       "    </tr>\n",
       "    <tr>\n",
       "      <th>6</th>\n",
       "      <td>Rock</td>\n",
       "      <td>2431</td>\n",
       "    </tr>\n",
       "    <tr>\n",
       "      <th>7</th>\n",
       "      <td>Punk</td>\n",
       "      <td>2413</td>\n",
       "    </tr>\n",
       "    <tr>\n",
       "      <th>8</th>\n",
       "      <td>Compilation</td>\n",
       "      <td>1299</td>\n",
       "    </tr>\n",
       "    <tr>\n",
       "      <th>9</th>\n",
       "      <td>Country</td>\n",
       "      <td>1294</td>\n",
       "    </tr>\n",
       "  </tbody>\n",
       "</table>\n",
       "</div>"
      ],
      "text/plain": [
       "         genre  qty_sales\n",
       "0        Indie       5947\n",
       "1          Pop       4930\n",
       "2          Rap       3709\n",
       "3       Latino       2489\n",
       "4     Pop-Rock       2482\n",
       "5        Dance       2460\n",
       "6         Rock       2431\n",
       "7         Punk       2413\n",
       "8  Compilation       1299\n",
       "9      Country       1294"
      ]
     },
     "execution_count": 9,
     "metadata": {},
     "output_type": "execute_result"
    }
   ],
   "source": [
    "# Gêneros mais presentes\n",
    "\n",
    "top_ten_genre = albums_df.groupby('genre', as_index=False).agg({'id': 'count'}\n",
    "    ).sort_values(by='id', ascending=False).reset_index(drop=True)\n",
    "\n",
    "top_ten_genre.rename(columns={'id': 'qty_sales'}, inplace=True)\n",
    "top_ten_genre.head(10)\n"
   ]
  },
  {
   "cell_type": "code",
   "execution_count": 10,
   "metadata": {
    "cell_id": "82e2fc3ddb904956a5b3ed80c29b0450",
    "deepnote_cell_height": 726,
    "deepnote_cell_type": "code",
    "deepnote_to_be_reexecuted": false,
    "execution_millis": 26,
    "execution_start": 1652718834772,
    "source_hash": "9c40f6f9",
    "tags": []
   },
   "outputs": [
    {
     "data": {
      "text/html": [
       "<div>\n",
       "<style scoped>\n",
       "    .dataframe tbody tr th:only-of-type {\n",
       "        vertical-align: middle;\n",
       "    }\n",
       "\n",
       "    .dataframe tbody tr th {\n",
       "        vertical-align: top;\n",
       "    }\n",
       "\n",
       "    .dataframe thead th {\n",
       "        text-align: right;\n",
       "    }\n",
       "</style>\n",
       "<table border=\"1\" class=\"dataframe\">\n",
       "  <thead>\n",
       "    <tr style=\"text-align: right;\">\n",
       "      <th></th>\n",
       "      <th>genre</th>\n",
       "      <th>qty_sales</th>\n",
       "      <th>num_of_sales</th>\n",
       "    </tr>\n",
       "  </thead>\n",
       "  <tbody>\n",
       "    <tr>\n",
       "      <th>0</th>\n",
       "      <td>Indie</td>\n",
       "      <td>5947</td>\n",
       "      <td>2985458455</td>\n",
       "    </tr>\n",
       "    <tr>\n",
       "      <th>1</th>\n",
       "      <td>Pop</td>\n",
       "      <td>4930</td>\n",
       "      <td>2494235976</td>\n",
       "    </tr>\n",
       "    <tr>\n",
       "      <th>2</th>\n",
       "      <td>Rap</td>\n",
       "      <td>3709</td>\n",
       "      <td>1843054863</td>\n",
       "    </tr>\n",
       "    <tr>\n",
       "      <th>3</th>\n",
       "      <td>Latino</td>\n",
       "      <td>2489</td>\n",
       "      <td>1253417813</td>\n",
       "    </tr>\n",
       "    <tr>\n",
       "      <th>4</th>\n",
       "      <td>Pop-Rock</td>\n",
       "      <td>2482</td>\n",
       "      <td>1230952047</td>\n",
       "    </tr>\n",
       "  </tbody>\n",
       "</table>\n",
       "</div>"
      ],
      "text/plain": [
       "      genre  qty_sales  num_of_sales\n",
       "0     Indie       5947    2985458455\n",
       "1       Pop       4930    2494235976\n",
       "2       Rap       3709    1843054863\n",
       "3    Latino       2489    1253417813\n",
       "4  Pop-Rock       2482    1230952047"
      ]
     },
     "execution_count": 10,
     "metadata": {},
     "output_type": "execute_result"
    }
   ],
   "source": [
    "# Quanto cada gênero representa em vendas\n",
    "# Primeiro passo: Total de vendas por gênero\n",
    "\n",
    "top_ten_sales = albums_df.groupby('genre', as_index=False).agg({'id': 'count', 'num_of_sales': 'sum'}\n",
    "    ).sort_values(by='num_of_sales', ascending=False).reset_index(drop=True)\n",
    "\n",
    "top_ten_sales.rename(columns={'id': 'qty_sales'}, inplace=True)\n",
    "top_ten_sales.head()"
   ]
  },
  {
   "cell_type": "code",
   "execution_count": null,
   "metadata": {
    "cell_id": "7b4ecb31c43f4957b29e4fc8310ea7bd",
    "deepnote_cell_height": 690,
    "deepnote_cell_type": "code",
    "deepnote_output_heights": [
     611
    ],
    "deepnote_to_be_reexecuted": false,
    "execution_millis": 8,
    "execution_start": 1652720306530,
    "source_hash": "f4446aa2",
    "tags": []
   },
   "outputs": [
    {
     "data": {
      "application/vnd.deepnote.dataframe.v3+json": {
       "column_count": 4,
       "columns": [
        {
         "dtype": "object",
         "name": "genre",
         "stats": {
          "categories": [
           {
            "count": 1,
            "name": "Indie"
           },
           {
            "count": 1,
            "name": "Pop"
           },
           {
            "count": 8,
            "name": "8 others"
           }
          ],
          "nan_count": 0,
          "unique_count": 10
         }
        },
        {
         "dtype": "int64",
         "name": "qty_sales",
         "stats": {
          "histogram": [
           {
            "bin_end": 1746.7,
            "bin_start": 1280,
            "count": 2
           },
           {
            "bin_end": 2213.4,
            "bin_start": 1746.7,
            "count": 0
           },
           {
            "bin_end": 2680.1,
            "bin_start": 2213.4,
            "count": 5
           },
           {
            "bin_end": 3146.8,
            "bin_start": 2680.1,
            "count": 0
           },
           {
            "bin_end": 3613.5,
            "bin_start": 3146.8,
            "count": 0
           },
           {
            "bin_end": 4080.2,
            "bin_start": 3613.5,
            "count": 1
           },
           {
            "bin_end": 4546.9,
            "bin_start": 4080.2,
            "count": 0
           },
           {
            "bin_end": 5013.6,
            "bin_start": 4546.9,
            "count": 1
           },
           {
            "bin_end": 5480.3,
            "bin_start": 5013.6,
            "count": 0
           },
           {
            "bin_end": 5947,
            "bin_start": 5480.3,
            "count": 1
           }
          ],
          "max": "5947",
          "min": "1280",
          "nan_count": 0,
          "unique_count": 10
         }
        },
        {
         "dtype": "int64",
         "name": "num_of_sales",
         "stats": {
          "histogram": [
           {
            "bin_end": 889072081.3,
            "bin_start": 656140262,
            "count": 2
           },
           {
            "bin_end": 1122003900.6,
            "bin_start": 889072081.3,
            "count": 0
           },
           {
            "bin_end": 1354935719.9,
            "bin_start": 1122003900.6,
            "count": 5
           },
           {
            "bin_end": 1587867539.2,
            "bin_start": 1354935719.9,
            "count": 0
           },
           {
            "bin_end": 1820799358.5,
            "bin_start": 1587867539.2,
            "count": 0
           },
           {
            "bin_end": 2053731177.8000002,
            "bin_start": 1820799358.5,
            "count": 1
           },
           {
            "bin_end": 2286662997.1000004,
            "bin_start": 2053731177.8000002,
            "count": 0
           },
           {
            "bin_end": 2519594816.4,
            "bin_start": 2286662997.1000004,
            "count": 1
           },
           {
            "bin_end": 2752526635.7,
            "bin_start": 2519594816.4,
            "count": 0
           },
           {
            "bin_end": 2985458455,
            "bin_start": 2752526635.7,
            "count": 1
           }
          ],
          "max": "2985458455",
          "min": "656140262",
          "nan_count": 0,
          "unique_count": 10
         }
        },
        {
         "dtype": "float64",
         "name": "total_sales%",
         "stats": {
          "histogram": [
           {
            "bin_end": 2.791,
            "bin_start": 2.06,
            "count": 2
           },
           {
            "bin_end": 3.522,
            "bin_start": 2.791,
            "count": 0
           },
           {
            "bin_end": 4.253,
            "bin_start": 3.522,
            "count": 5
           },
           {
            "bin_end": 4.984,
            "bin_start": 4.253,
            "count": 0
           },
           {
            "bin_end": 5.715,
            "bin_start": 4.984,
            "count": 0
           },
           {
            "bin_end": 6.446,
            "bin_start": 5.715,
            "count": 1
           },
           {
            "bin_end": 7.177,
            "bin_start": 6.446,
            "count": 0
           },
           {
            "bin_end": 7.9079999999999995,
            "bin_start": 7.177,
            "count": 1
           },
           {
            "bin_end": 8.639,
            "bin_start": 7.9079999999999995,
            "count": 0
           },
           {
            "bin_end": 9.37,
            "bin_start": 8.639,
            "count": 1
           }
          ],
          "max": "9.37",
          "min": "2.06",
          "nan_count": 0,
          "unique_count": 9
         }
        },
        {
         "dtype": "int64",
         "name": "_deepnote_index_column"
        }
       ],
       "row_count": 10,
       "rows": [
        {
         "_deepnote_index_column": 0,
         "genre": "Indie",
         "num_of_sales": 2985458455,
         "qty_sales": 5947,
         "total_sales%": 9.37
        },
        {
         "_deepnote_index_column": 1,
         "genre": "Pop",
         "num_of_sales": 2494235976,
         "qty_sales": 4930,
         "total_sales%": 7.83
        },
        {
         "_deepnote_index_column": 2,
         "genre": "Rap",
         "num_of_sales": 1843054863,
         "qty_sales": 3709,
         "total_sales%": 5.79
        },
        {
         "_deepnote_index_column": 3,
         "genre": "Latino",
         "num_of_sales": 1253417813,
         "qty_sales": 2489,
         "total_sales%": 3.94
        },
        {
         "_deepnote_index_column": 4,
         "genre": "Pop-Rock",
         "num_of_sales": 1230952047,
         "qty_sales": 2482,
         "total_sales%": 3.87
        },
        {
         "_deepnote_index_column": 5,
         "genre": "Dance",
         "num_of_sales": 1213471819,
         "qty_sales": 2460,
         "total_sales%": 3.81
        },
        {
         "_deepnote_index_column": 6,
         "genre": "Rock",
         "num_of_sales": 1208839731,
         "qty_sales": 2431,
         "total_sales%": 3.8
        },
        {
         "_deepnote_index_column": 7,
         "genre": "Punk",
         "num_of_sales": 1205791976,
         "qty_sales": 2413,
         "total_sales%": 3.79
        },
        {
         "_deepnote_index_column": 8,
         "genre": "Heavy Metal",
         "num_of_sales": 656182270,
         "qty_sales": 1280,
         "total_sales%": 2.06
        },
        {
         "_deepnote_index_column": 9,
         "genre": "Compilation",
         "num_of_sales": 656140262,
         "qty_sales": 1299,
         "total_sales%": 2.06
        }
       ]
      },
      "text/html": [
       "<div>\n",
       "<style scoped>\n",
       "    .dataframe tbody tr th:only-of-type {\n",
       "        vertical-align: middle;\n",
       "    }\n",
       "\n",
       "    .dataframe tbody tr th {\n",
       "        vertical-align: top;\n",
       "    }\n",
       "\n",
       "    .dataframe thead th {\n",
       "        text-align: right;\n",
       "    }\n",
       "</style>\n",
       "<table border=\"1\" class=\"dataframe\">\n",
       "  <thead>\n",
       "    <tr style=\"text-align: right;\">\n",
       "      <th></th>\n",
       "      <th>genre</th>\n",
       "      <th>qty_sales</th>\n",
       "      <th>num_of_sales</th>\n",
       "      <th>total_sales%</th>\n",
       "    </tr>\n",
       "  </thead>\n",
       "  <tbody>\n",
       "    <tr>\n",
       "      <th>0</th>\n",
       "      <td>Indie</td>\n",
       "      <td>5947</td>\n",
       "      <td>2985458455</td>\n",
       "      <td>9.37</td>\n",
       "    </tr>\n",
       "    <tr>\n",
       "      <th>1</th>\n",
       "      <td>Pop</td>\n",
       "      <td>4930</td>\n",
       "      <td>2494235976</td>\n",
       "      <td>7.83</td>\n",
       "    </tr>\n",
       "    <tr>\n",
       "      <th>2</th>\n",
       "      <td>Rap</td>\n",
       "      <td>3709</td>\n",
       "      <td>1843054863</td>\n",
       "      <td>5.79</td>\n",
       "    </tr>\n",
       "    <tr>\n",
       "      <th>3</th>\n",
       "      <td>Latino</td>\n",
       "      <td>2489</td>\n",
       "      <td>1253417813</td>\n",
       "      <td>3.94</td>\n",
       "    </tr>\n",
       "    <tr>\n",
       "      <th>4</th>\n",
       "      <td>Pop-Rock</td>\n",
       "      <td>2482</td>\n",
       "      <td>1230952047</td>\n",
       "      <td>3.87</td>\n",
       "    </tr>\n",
       "    <tr>\n",
       "      <th>5</th>\n",
       "      <td>Dance</td>\n",
       "      <td>2460</td>\n",
       "      <td>1213471819</td>\n",
       "      <td>3.81</td>\n",
       "    </tr>\n",
       "    <tr>\n",
       "      <th>6</th>\n",
       "      <td>Rock</td>\n",
       "      <td>2431</td>\n",
       "      <td>1208839731</td>\n",
       "      <td>3.80</td>\n",
       "    </tr>\n",
       "    <tr>\n",
       "      <th>7</th>\n",
       "      <td>Punk</td>\n",
       "      <td>2413</td>\n",
       "      <td>1205791976</td>\n",
       "      <td>3.79</td>\n",
       "    </tr>\n",
       "    <tr>\n",
       "      <th>8</th>\n",
       "      <td>Heavy Metal</td>\n",
       "      <td>1280</td>\n",
       "      <td>656182270</td>\n",
       "      <td>2.06</td>\n",
       "    </tr>\n",
       "    <tr>\n",
       "      <th>9</th>\n",
       "      <td>Compilation</td>\n",
       "      <td>1299</td>\n",
       "      <td>656140262</td>\n",
       "      <td>2.06</td>\n",
       "    </tr>\n",
       "  </tbody>\n",
       "</table>\n",
       "</div>"
      ],
      "text/plain": [
       "         genre  qty_sales  num_of_sales  total_sales%\n",
       "0        Indie       5947    2985458455          9.37\n",
       "1          Pop       4930    2494235976          7.83\n",
       "2          Rap       3709    1843054863          5.79\n",
       "3       Latino       2489    1253417813          3.94\n",
       "4     Pop-Rock       2482    1230952047          3.87\n",
       "5        Dance       2460    1213471819          3.81\n",
       "6         Rock       2431    1208839731          3.80\n",
       "7         Punk       2413    1205791976          3.79\n",
       "8  Heavy Metal       1280     656182270          2.06\n",
       "9  Compilation       1299     656140262          2.06"
      ]
     },
     "execution_count": 49,
     "metadata": {},
     "output_type": "execute_result"
    }
   ],
   "source": [
    "# Segundo passo: Criando campo calculado (% do total de vendas)\n",
    "\n",
    "top_ten_sales['total_sales%'] = (\n",
    "    (top_ten_sales['num_of_sales'] / sum(top_ten_sales['num_of_sales'])) * 100).round(2)\n",
    "\n",
    "top_ten_sales.head(10)"
   ]
  },
  {
   "cell_type": "markdown",
   "metadata": {
    "cell_id": "00025-bb86afbf-96d2-4beb-872d-27f74ecc00b6",
    "deepnote_cell_height": 94,
    "deepnote_cell_type": "markdown",
    "tags": []
   },
   "source": [
    "### 8) Quais os gêneros com as melhores avaliações pela Rolling Stone? E quais os piores?"
   ]
  },
  {
   "cell_type": "code",
   "execution_count": null,
   "metadata": {
    "cell_id": "00024-a7525dde-4c9e-4ef2-be91-11709731c446",
    "deepnote_cell_height": 485,
    "deepnote_cell_type": "code",
    "deepnote_output_heights": [
     322
    ],
    "deepnote_to_be_reexecuted": false,
    "execution_millis": 69,
    "execution_start": 1652724253697,
    "source_hash": "9cc10fe0",
    "tags": []
   },
   "outputs": [
    {
     "data": {
      "application/vnd.deepnote.dataframe.v3+json": {
       "column_count": 1,
       "columns": [
        {
         "dtype": "float64",
         "name": "rolling_stone_critic",
         "stats": {
          "histogram": [
           {
            "bin_end": 2.7922,
            "bin_start": 2.791,
            "count": 1
           },
           {
            "bin_end": 2.7934,
            "bin_start": 2.7922,
            "count": 0
           },
           {
            "bin_end": 2.7946,
            "bin_start": 2.7934,
            "count": 0
           },
           {
            "bin_end": 2.7958,
            "bin_start": 2.7946,
            "count": 0
           },
           {
            "bin_end": 2.7969999999999997,
            "bin_start": 2.7958,
            "count": 0
           },
           {
            "bin_end": 2.7982,
            "bin_start": 2.7969999999999997,
            "count": 1
           },
           {
            "bin_end": 2.7994,
            "bin_start": 2.7982,
            "count": 1
           },
           {
            "bin_end": 2.8005999999999998,
            "bin_start": 2.7994,
            "count": 0
           },
           {
            "bin_end": 2.8018,
            "bin_start": 2.8005999999999998,
            "count": 1
           },
           {
            "bin_end": 2.803,
            "bin_start": 2.8018,
            "count": 1
           }
          ],
          "max": "2.803",
          "min": "2.791",
          "nan_count": 0,
          "unique_count": 5
         }
        },
        {
         "dtype": "object",
         "name": "_deepnote_index_column"
        }
       ],
       "row_count": 5,
       "rows": [
        {
         "_deepnote_index_column": "Rap",
         "rolling_stone_critic": 2.803
        },
        {
         "_deepnote_index_column": "K-Pop",
         "rolling_stone_critic": 2.801
        },
        {
         "_deepnote_index_column": "Folk",
         "rolling_stone_critic": 2.799
        },
        {
         "_deepnote_index_column": "Electro-Pop",
         "rolling_stone_critic": 2.797
        },
        {
         "_deepnote_index_column": "Blues",
         "rolling_stone_critic": 2.791
        }
       ]
      },
      "text/html": [
       "<div>\n",
       "<style scoped>\n",
       "    .dataframe tbody tr th:only-of-type {\n",
       "        vertical-align: middle;\n",
       "    }\n",
       "\n",
       "    .dataframe tbody tr th {\n",
       "        vertical-align: top;\n",
       "    }\n",
       "\n",
       "    .dataframe thead th {\n",
       "        text-align: right;\n",
       "    }\n",
       "</style>\n",
       "<table border=\"1\" class=\"dataframe\">\n",
       "  <thead>\n",
       "    <tr style=\"text-align: right;\">\n",
       "      <th></th>\n",
       "      <th>rolling_stone_critic</th>\n",
       "    </tr>\n",
       "    <tr>\n",
       "      <th>genre</th>\n",
       "      <th></th>\n",
       "    </tr>\n",
       "  </thead>\n",
       "  <tbody>\n",
       "    <tr>\n",
       "      <th>Rap</th>\n",
       "      <td>2.803</td>\n",
       "    </tr>\n",
       "    <tr>\n",
       "      <th>K-Pop</th>\n",
       "      <td>2.801</td>\n",
       "    </tr>\n",
       "    <tr>\n",
       "      <th>Folk</th>\n",
       "      <td>2.799</td>\n",
       "    </tr>\n",
       "    <tr>\n",
       "      <th>Electro-Pop</th>\n",
       "      <td>2.797</td>\n",
       "    </tr>\n",
       "    <tr>\n",
       "      <th>Blues</th>\n",
       "      <td>2.791</td>\n",
       "    </tr>\n",
       "  </tbody>\n",
       "</table>\n",
       "</div>"
      ],
      "text/plain": [
       "             rolling_stone_critic\n",
       "genre                            \n",
       "Rap                         2.803\n",
       "K-Pop                       2.801\n",
       "Folk                        2.799\n",
       "Electro-Pop                 2.797\n",
       "Blues                       2.791"
      ]
     },
     "execution_count": 2,
     "metadata": {},
     "output_type": "execute_result"
    }
   ],
   "source": [
    "# 5 melhores avaliações pela média\n",
    "\n",
    "ratings = albums_df.groupby('genre').agg({'rolling_stone_critic': 'mean'}\n",
    "    ).sort_values(by='rolling_stone_critic', ascending=False).round(3)\n",
    "\n",
    "ratings.head()"
   ]
  },
  {
   "cell_type": "code",
   "execution_count": null,
   "metadata": {
    "cell_id": "00026-470b0a00-a16d-479f-bad4-422ace9e4f52",
    "deepnote_cell_height": 431,
    "deepnote_cell_type": "code",
    "deepnote_output_heights": [
     322
    ],
    "deepnote_to_be_reexecuted": false,
    "execution_millis": 6,
    "execution_start": 1652724265187,
    "source_hash": "6eded02f",
    "tags": []
   },
   "outputs": [
    {
     "data": {
      "application/vnd.deepnote.dataframe.v3+json": {
       "column_count": 1,
       "columns": [
        {
         "dtype": "float64",
         "name": "rolling_stone_critic",
         "stats": {
          "histogram": [
           {
            "bin_end": 2.6416,
            "bin_start": 2.637,
            "count": 1
           },
           {
            "bin_end": 2.6462,
            "bin_start": 2.6416,
            "count": 0
           },
           {
            "bin_end": 2.6508,
            "bin_start": 2.6462,
            "count": 1
           },
           {
            "bin_end": 2.6553999999999998,
            "bin_start": 2.6508,
            "count": 0
           },
           {
            "bin_end": 2.66,
            "bin_start": 2.6553999999999998,
            "count": 0
           },
           {
            "bin_end": 2.6646,
            "bin_start": 2.66,
            "count": 0
           },
           {
            "bin_end": 2.6692,
            "bin_start": 2.6646,
            "count": 0
           },
           {
            "bin_end": 2.6738,
            "bin_start": 2.6692,
            "count": 0
           },
           {
            "bin_end": 2.6784,
            "bin_start": 2.6738,
            "count": 2
           },
           {
            "bin_end": 2.683,
            "bin_start": 2.6784,
            "count": 1
           }
          ],
          "max": "2.683",
          "min": "2.637",
          "nan_count": 0,
          "unique_count": 4
         }
        },
        {
         "dtype": "object",
         "name": "_deepnote_index_column"
        }
       ],
       "row_count": 5,
       "rows": [
        {
         "_deepnote_index_column": "Techno",
         "rolling_stone_critic": 2.637
        },
        {
         "_deepnote_index_column": "Brit-Pop",
         "rolling_stone_critic": 2.647
        },
        {
         "_deepnote_index_column": "Retro",
         "rolling_stone_critic": 2.677
        },
        {
         "_deepnote_index_column": "J-Rock",
         "rolling_stone_critic": 2.677
        },
        {
         "_deepnote_index_column": "Black Metal",
         "rolling_stone_critic": 2.683
        }
       ]
      },
      "text/html": [
       "<div>\n",
       "<style scoped>\n",
       "    .dataframe tbody tr th:only-of-type {\n",
       "        vertical-align: middle;\n",
       "    }\n",
       "\n",
       "    .dataframe tbody tr th {\n",
       "        vertical-align: top;\n",
       "    }\n",
       "\n",
       "    .dataframe thead th {\n",
       "        text-align: right;\n",
       "    }\n",
       "</style>\n",
       "<table border=\"1\" class=\"dataframe\">\n",
       "  <thead>\n",
       "    <tr style=\"text-align: right;\">\n",
       "      <th></th>\n",
       "      <th>rolling_stone_critic</th>\n",
       "    </tr>\n",
       "    <tr>\n",
       "      <th>genre</th>\n",
       "      <th></th>\n",
       "    </tr>\n",
       "  </thead>\n",
       "  <tbody>\n",
       "    <tr>\n",
       "      <th>Techno</th>\n",
       "      <td>2.637</td>\n",
       "    </tr>\n",
       "    <tr>\n",
       "      <th>Brit-Pop</th>\n",
       "      <td>2.647</td>\n",
       "    </tr>\n",
       "    <tr>\n",
       "      <th>Retro</th>\n",
       "      <td>2.677</td>\n",
       "    </tr>\n",
       "    <tr>\n",
       "      <th>J-Rock</th>\n",
       "      <td>2.677</td>\n",
       "    </tr>\n",
       "    <tr>\n",
       "      <th>Black Metal</th>\n",
       "      <td>2.683</td>\n",
       "    </tr>\n",
       "  </tbody>\n",
       "</table>\n",
       "</div>"
      ],
      "text/plain": [
       "             rolling_stone_critic\n",
       "genre                            \n",
       "Techno                      2.637\n",
       "Brit-Pop                    2.647\n",
       "Retro                       2.677\n",
       "J-Rock                      2.677\n",
       "Black Metal                 2.683"
      ]
     },
     "execution_count": 3,
     "metadata": {},
     "output_type": "execute_result"
    }
   ],
   "source": [
    "# 5 piores avaliações pela média\n",
    "\n",
    "ratings.sort_values(by='rolling_stone_critic').head()"
   ]
  },
  {
   "cell_type": "markdown",
   "metadata": {
    "cell_id": "00027-75c1c208-a215-4539-a339-d880a721159c",
    "deepnote_cell_height": 94,
    "deepnote_cell_type": "markdown",
    "tags": []
   },
   "source": [
    "### 9) Quais os artistas de maior sucesso comercial? E de sucesso da crítica especializada?"
   ]
  },
  {
   "cell_type": "code",
   "execution_count": null,
   "metadata": {
    "cell_id": "e21eadc1a401479a9885c761f5876efb",
    "deepnote_cell_height": 629,
    "deepnote_cell_type": "code",
    "deepnote_to_be_reexecuted": false,
    "execution_millis": 44,
    "execution_start": 1652725705217,
    "source_hash": "27e13499",
    "tags": []
   },
   "outputs": [
    {
     "data": {
      "application/vnd.deepnote.dataframe.v3+json": {
       "column_count": 2,
       "columns": [
        {
         "dtype": "object",
         "name": "artista",
         "stats": {
          "categories": [
           {
            "count": 1,
            "name": "Kim Hays"
           },
           {
            "count": 1,
            "name": "Traditional price Difficult former"
           },
           {
            "count": 3,
            "name": "3 others"
           }
          ],
          "nan_count": 0,
          "unique_count": 5
         }
        },
        {
         "dtype": "int64",
         "name": "num_of_sales",
         "stats": {
          "histogram": [
           {
            "bin_end": 5367350.8,
            "bin_start": 5267296,
            "count": 1
           },
           {
            "bin_end": 5467405.6,
            "bin_start": 5367350.8,
            "count": 0
           },
           {
            "bin_end": 5567460.4,
            "bin_start": 5467405.6,
            "count": 0
           },
           {
            "bin_end": 5667515.2,
            "bin_start": 5567460.4,
            "count": 2
           },
           {
            "bin_end": 5767570,
            "bin_start": 5667515.2,
            "count": 0
           },
           {
            "bin_end": 5867624.8,
            "bin_start": 5767570,
            "count": 0
           },
           {
            "bin_end": 5967679.6,
            "bin_start": 5867624.8,
            "count": 0
           },
           {
            "bin_end": 6067734.4,
            "bin_start": 5967679.6,
            "count": 0
           },
           {
            "bin_end": 6167789.2,
            "bin_start": 6067734.4,
            "count": 1
           },
           {
            "bin_end": 6267844,
            "bin_start": 6167789.2,
            "count": 1
           }
          ],
          "max": "6267844",
          "min": "5267296",
          "nan_count": 0,
          "unique_count": 5
         }
        },
        {
         "dtype": "int64",
         "name": "_deepnote_index_column"
        }
       ],
       "row_count": 5,
       "rows": [
        {
         "_deepnote_index_column": 11290,
         "artista": "Kim Hays",
         "num_of_sales": 6267844
        },
        {
         "_deepnote_index_column": 33896,
         "artista": "Traditional price Difficult former",
         "num_of_sales": 6072907
        },
        {
         "_deepnote_index_column": 44614,
         "artista": "Bunbury Invention Leif",
         "num_of_sales": 5643206
        },
        {
         "_deepnote_index_column": 7889,
         "artista": "Remarkable Gentle",
         "num_of_sales": 5573891
        },
        {
         "_deepnote_index_column": 27648,
         "artista": "Ibuprofen Believe Dispotix",
         "num_of_sales": 5267296
        }
       ]
      },
      "text/html": [
       "<div>\n",
       "<style scoped>\n",
       "    .dataframe tbody tr th:only-of-type {\n",
       "        vertical-align: middle;\n",
       "    }\n",
       "\n",
       "    .dataframe tbody tr th {\n",
       "        vertical-align: top;\n",
       "    }\n",
       "\n",
       "    .dataframe thead th {\n",
       "        text-align: right;\n",
       "    }\n",
       "</style>\n",
       "<table border=\"1\" class=\"dataframe\">\n",
       "  <thead>\n",
       "    <tr style=\"text-align: right;\">\n",
       "      <th></th>\n",
       "      <th>artista</th>\n",
       "      <th>num_of_sales</th>\n",
       "    </tr>\n",
       "    <tr>\n",
       "      <th>artist_id</th>\n",
       "      <th></th>\n",
       "      <th></th>\n",
       "    </tr>\n",
       "  </thead>\n",
       "  <tbody>\n",
       "    <tr>\n",
       "      <th>11290</th>\n",
       "      <td>Kim Hays</td>\n",
       "      <td>6267844</td>\n",
       "    </tr>\n",
       "    <tr>\n",
       "      <th>33896</th>\n",
       "      <td>Traditional price Difficult former</td>\n",
       "      <td>6072907</td>\n",
       "    </tr>\n",
       "    <tr>\n",
       "      <th>44614</th>\n",
       "      <td>Bunbury Invention Leif</td>\n",
       "      <td>5643206</td>\n",
       "    </tr>\n",
       "    <tr>\n",
       "      <th>7889</th>\n",
       "      <td>Remarkable Gentle</td>\n",
       "      <td>5573891</td>\n",
       "    </tr>\n",
       "    <tr>\n",
       "      <th>27648</th>\n",
       "      <td>Ibuprofen Believe Dispotix</td>\n",
       "      <td>5267296</td>\n",
       "    </tr>\n",
       "  </tbody>\n",
       "</table>\n",
       "</div>"
      ],
      "text/plain": [
       "                                      artista  num_of_sales\n",
       "artist_id                                                  \n",
       "11290                                Kim Hays       6267844\n",
       "33896      Traditional price Difficult former       6072907\n",
       "44614                  Bunbury Invention Leif       5643206\n",
       "7889                        Remarkable Gentle       5573891\n",
       "27648              Ibuprofen Believe Dispotix       5267296"
      ]
     },
     "execution_count": 16,
     "metadata": {},
     "output_type": "execute_result"
    }
   ],
   "source": [
    "# Agrupamento pelo artist_id, usando-o como índice; df com nº de vendas e média da crítica\n",
    "df = albums_df.groupby(['artist_id']).agg({'num_of_sales': 'sum', 'rolling_stone_critic':'mean'})\n",
    "\n",
    "# Novo df com base no artists_df, que tem id como índice (para fazer join na sequencia)\n",
    "artistas = artists_df.set_index('id').loc[:, ['real_name', 'art_name']]\n",
    "\n",
    "# Criação da coluna 'artista' que contém o nome artístico; caso vazio é preenchido com o nome real\n",
    "artistas['artista'] = artistas['art_name'].fillna(artistas['real_name'])\n",
    "\n",
    "# join dos df; basea-se no índice para unir\n",
    "artistas = df.join(artistas['artista'])\n",
    "\n",
    "# Os 5 artistas de maior sucesso comercial\n",
    "artistas.iloc[:, [2, 0]].sort_values(by='num_of_sales', ascending=False).head()"
   ]
  },
  {
   "cell_type": "code",
   "execution_count": null,
   "metadata": {
    "cell_id": "211933b74a204f7c8b8e7d3b4b463a3f",
    "deepnote_cell_height": 431,
    "deepnote_cell_type": "code",
    "deepnote_to_be_reexecuted": false,
    "execution_millis": 18,
    "execution_start": 1652727553434,
    "source_hash": "4d146aa9",
    "tags": []
   },
   "outputs": [
    {
     "data": {
      "application/vnd.deepnote.dataframe.v3+json": {
       "column_count": 2,
       "columns": [
        {
         "dtype": "object",
         "name": "artista",
         "stats": {
          "categories": [
           {
            "count": 1,
            "name": "Ted Read"
           },
           {
            "count": 1,
            "name": "Taylos Reporter"
           },
           {
            "count": 3,
            "name": "3 others"
           }
          ],
          "nan_count": 0,
          "unique_count": 5
         }
        },
        {
         "dtype": "float64",
         "name": "rolling_stone_critic",
         "stats": {
          "histogram": [
           {
            "bin_end": 4.6,
            "bin_start": 4.5,
            "count": 0
           },
           {
            "bin_end": 4.7,
            "bin_start": 4.6,
            "count": 0
           },
           {
            "bin_end": 4.8,
            "bin_start": 4.7,
            "count": 0
           },
           {
            "bin_end": 4.9,
            "bin_start": 4.8,
            "count": 0
           },
           {
            "bin_end": 5,
            "bin_start": 4.9,
            "count": 0
           },
           {
            "bin_end": 5.1,
            "bin_start": 5,
            "count": 5
           },
           {
            "bin_end": 5.2,
            "bin_start": 5.1,
            "count": 0
           },
           {
            "bin_end": 5.3,
            "bin_start": 5.2,
            "count": 0
           },
           {
            "bin_end": 5.4,
            "bin_start": 5.3,
            "count": 0
           },
           {
            "bin_end": 5.5,
            "bin_start": 5.4,
            "count": 0
           }
          ],
          "max": "5.0",
          "min": "5.0",
          "nan_count": 0,
          "unique_count": 1
         }
        },
        {
         "dtype": "int64",
         "name": "_deepnote_index_column"
        }
       ],
       "row_count": 5,
       "rows": [
        {
         "_deepnote_index_column": 27527,
         "artista": "Ted Read",
         "rolling_stone_critic": 5
        },
        {
         "_deepnote_index_column": 48116,
         "artista": "Taylos Reporter",
         "rolling_stone_critic": 5
        },
        {
         "_deepnote_index_column": 7101,
         "artista": "Omega Potassium",
         "rolling_stone_critic": 5
        },
        {
         "_deepnote_index_column": 23761,
         "artista": "Crestor Believe alleged",
         "rolling_stone_critic": 5
        },
        {
         "_deepnote_index_column": 23708,
         "artista": "Suspend Polish Terrible impossible",
         "rolling_stone_critic": 5
        }
       ]
      },
      "text/html": [
       "<div>\n",
       "<style scoped>\n",
       "    .dataframe tbody tr th:only-of-type {\n",
       "        vertical-align: middle;\n",
       "    }\n",
       "\n",
       "    .dataframe tbody tr th {\n",
       "        vertical-align: top;\n",
       "    }\n",
       "\n",
       "    .dataframe thead th {\n",
       "        text-align: right;\n",
       "    }\n",
       "</style>\n",
       "<table border=\"1\" class=\"dataframe\">\n",
       "  <thead>\n",
       "    <tr style=\"text-align: right;\">\n",
       "      <th></th>\n",
       "      <th>artista</th>\n",
       "      <th>rolling_stone_critic</th>\n",
       "    </tr>\n",
       "    <tr>\n",
       "      <th>artist_id</th>\n",
       "      <th></th>\n",
       "      <th></th>\n",
       "    </tr>\n",
       "  </thead>\n",
       "  <tbody>\n",
       "    <tr>\n",
       "      <th>27527</th>\n",
       "      <td>Ted Read</td>\n",
       "      <td>5.0</td>\n",
       "    </tr>\n",
       "    <tr>\n",
       "      <th>48116</th>\n",
       "      <td>Taylos Reporter</td>\n",
       "      <td>5.0</td>\n",
       "    </tr>\n",
       "    <tr>\n",
       "      <th>7101</th>\n",
       "      <td>Omega Potassium</td>\n",
       "      <td>5.0</td>\n",
       "    </tr>\n",
       "    <tr>\n",
       "      <th>23761</th>\n",
       "      <td>Crestor Believe alleged</td>\n",
       "      <td>5.0</td>\n",
       "    </tr>\n",
       "    <tr>\n",
       "      <th>23708</th>\n",
       "      <td>Suspend Polish Terrible impossible</td>\n",
       "      <td>5.0</td>\n",
       "    </tr>\n",
       "  </tbody>\n",
       "</table>\n",
       "</div>"
      ],
      "text/plain": [
       "                                      artista  rolling_stone_critic\n",
       "artist_id                                                          \n",
       "27527                                Ted Read                   5.0\n",
       "48116                         Taylos Reporter                   5.0\n",
       "7101                          Omega Potassium                   5.0\n",
       "23761                 Crestor Believe alleged                   5.0\n",
       "23708      Suspend Polish Terrible impossible                   5.0"
      ]
     },
     "execution_count": 28,
     "metadata": {},
     "output_type": "execute_result"
    }
   ],
   "source": [
    "# Os 5 artistas de maior sucesso da crítica\n",
    "\n",
    "artistas.iloc[:, [2, 1]].sort_values(by='rolling_stone_critic', ascending=False).head()"
   ]
  },
  {
   "cell_type": "markdown",
   "metadata": {
    "cell_id": "00030-19a925cb-3ab4-4d73-902f-d4aa6c421a20",
    "deepnote_cell_height": 94,
    "deepnote_cell_type": "markdown",
    "tags": []
   },
   "source": [
    "### 10) Se tivéssemos que não renovar o contrato dos 20% artistas com pior desempenho na crítica, quanto estaríamos arriscando de vendas?"
   ]
  },
  {
   "cell_type": "code",
   "execution_count": null,
   "metadata": {
    "cell_id": "9062d6b43451410db7a784b1790c01e8",
    "deepnote_cell_height": 270,
    "deepnote_cell_type": "code",
    "deepnote_to_be_reexecuted": false,
    "execution_millis": 1,
    "execution_start": 1652727061937,
    "source_hash": "96a33cc4",
    "tags": []
   },
   "outputs": [
    {
     "name": "stdout",
     "output_type": "stream",
     "text": [
      "Index(['id', 'real_name', 'art_name', 'role', 'year_of_birth', 'country',\n",
      "       'city', 'email', 'zip_code', 'first_release', 'latest_release',\n",
      "       'released_albums'],\n",
      "      dtype='object')\n",
      "Index(['id', 'artist_id', 'album_title', 'genre', 'year_of_pub',\n",
      "       'num_of_tracks', 'num_of_sales', 'rolling_stone_critic', 'mtv_critic',\n",
      "       'music_maniac_critic'],\n",
      "      dtype='object')\n"
     ]
    }
   ],
   "source": [
    "print(artists_df.columns)\n",
    "print(albums_df.columns)"
   ]
  },
  {
   "cell_type": "markdown",
   "metadata": {
    "cell_id": "e17d765cddc54f72b1e997a181d7a5e3",
    "deepnote_cell_type": "text-cell-p",
    "is_collapsed": false,
    "tags": []
   },
   "source": [
    "As colunas desnecessárias serão removidas e a união dos datasets será feita pela coluna 'id'."
   ]
  },
  {
   "cell_type": "code",
   "execution_count": 15,
   "metadata": {
    "cell_id": "00030-1107676b-1233-4d88-8e42-bb18521855a4",
    "deepnote_cell_height": 189,
    "deepnote_cell_type": "code",
    "deepnote_output_heights": [
     21.1875
    ],
    "deepnote_to_be_reexecuted": false,
    "execution_millis": 6,
    "execution_start": 1652728175160,
    "source_hash": "2a8136bd",
    "tags": []
   },
   "outputs": [],
   "source": [
    "# Filtro das colunas desnecessárias de ambas as tabelas antes de fazer união delas\n",
    "\n",
    "art = artists_df.drop(columns=['year_of_birth', 'role',\n",
    "    'country', 'city','first_release', 'latest_release', 'email', 'zip_code'])\n",
    "\n",
    "alb = albums_df.drop(columns=['artist_id', 'album_title', 'genre', 'num_of_tracks', 'year_of_pub'])\n"
   ]
  },
  {
   "cell_type": "code",
   "execution_count": 16,
   "metadata": {
    "cell_id": "dffb12a8aa504c47a646fbf462c8b7c4",
    "deepnote_cell_height": 449,
    "deepnote_cell_type": "code",
    "deepnote_to_be_reexecuted": false,
    "execution_millis": 19,
    "execution_start": 1652728811053,
    "source_hash": "68161034",
    "tags": []
   },
   "outputs": [
    {
     "data": {
      "text/html": [
       "<div>\n",
       "<style scoped>\n",
       "    .dataframe tbody tr th:only-of-type {\n",
       "        vertical-align: middle;\n",
       "    }\n",
       "\n",
       "    .dataframe tbody tr th {\n",
       "        vertical-align: top;\n",
       "    }\n",
       "\n",
       "    .dataframe thead th {\n",
       "        text-align: right;\n",
       "    }\n",
       "</style>\n",
       "<table border=\"1\" class=\"dataframe\">\n",
       "  <thead>\n",
       "    <tr style=\"text-align: right;\">\n",
       "      <th></th>\n",
       "      <th>id</th>\n",
       "      <th>num_of_sales</th>\n",
       "      <th>rolling_stone_critic</th>\n",
       "      <th>mtv_critic</th>\n",
       "      <th>music_maniac_critic</th>\n",
       "      <th>all_critics</th>\n",
       "    </tr>\n",
       "  </thead>\n",
       "  <tbody>\n",
       "    <tr>\n",
       "      <th>0</th>\n",
       "      <td>1</td>\n",
       "      <td>905193</td>\n",
       "      <td>4.0</td>\n",
       "      <td>1.5</td>\n",
       "      <td>3.0</td>\n",
       "      <td>2.833</td>\n",
       "    </tr>\n",
       "    <tr>\n",
       "      <th>1</th>\n",
       "      <td>2</td>\n",
       "      <td>969122</td>\n",
       "      <td>3.0</td>\n",
       "      <td>4.0</td>\n",
       "      <td>5.0</td>\n",
       "      <td>4.000</td>\n",
       "    </tr>\n",
       "    <tr>\n",
       "      <th>2</th>\n",
       "      <td>4</td>\n",
       "      <td>610116</td>\n",
       "      <td>1.5</td>\n",
       "      <td>2.0</td>\n",
       "      <td>4.0</td>\n",
       "      <td>2.500</td>\n",
       "    </tr>\n",
       "    <tr>\n",
       "      <th>3</th>\n",
       "      <td>5</td>\n",
       "      <td>151111</td>\n",
       "      <td>4.5</td>\n",
       "      <td>2.5</td>\n",
       "      <td>1.0</td>\n",
       "      <td>2.667</td>\n",
       "    </tr>\n",
       "    <tr>\n",
       "      <th>4</th>\n",
       "      <td>6</td>\n",
       "      <td>537615</td>\n",
       "      <td>4.5</td>\n",
       "      <td>1.5</td>\n",
       "      <td>2.0</td>\n",
       "      <td>2.667</td>\n",
       "    </tr>\n",
       "  </tbody>\n",
       "</table>\n",
       "</div>"
      ],
      "text/plain": [
       "   id  num_of_sales  rolling_stone_critic  mtv_critic  music_maniac_critic  \\\n",
       "0   1        905193                   4.0         1.5                  3.0   \n",
       "1   2        969122                   3.0         4.0                  5.0   \n",
       "2   4        610116                   1.5         2.0                  4.0   \n",
       "3   5        151111                   4.5         2.5                  1.0   \n",
       "4   6        537615                   4.5         1.5                  2.0   \n",
       "\n",
       "   all_critics  \n",
       "0        2.833  \n",
       "1        4.000  \n",
       "2        2.500  \n",
       "3        2.667  \n",
       "4        2.667  "
      ]
     },
     "execution_count": 16,
     "metadata": {},
     "output_type": "execute_result"
    }
   ],
   "source": [
    "alb['all_critics'] = (\n",
    "    (alb['rolling_stone_critic'] + alb['mtv_critic'] + alb['music_maniac_critic']) / 3).round(3)\n",
    "\n",
    "alb.head()"
   ]
  },
  {
   "cell_type": "code",
   "execution_count": 17,
   "metadata": {
    "cell_id": "00032-80cdaa6f-79de-4f3a-90a7-b7ad139dc700",
    "deepnote_cell_height": 465.796875,
    "deepnote_cell_type": "code",
    "deepnote_output_heights": [
     177
    ],
    "deepnote_to_be_reexecuted": false,
    "execution_millis": 48,
    "execution_start": 1652728288077,
    "source_hash": "dc848e4c",
    "tags": []
   },
   "outputs": [
    {
     "data": {
      "text/html": [
       "<div>\n",
       "<style scoped>\n",
       "    .dataframe tbody tr th:only-of-type {\n",
       "        vertical-align: middle;\n",
       "    }\n",
       "\n",
       "    .dataframe tbody tr th {\n",
       "        vertical-align: top;\n",
       "    }\n",
       "\n",
       "    .dataframe thead th {\n",
       "        text-align: right;\n",
       "    }\n",
       "</style>\n",
       "<table border=\"1\" class=\"dataframe\">\n",
       "  <thead>\n",
       "    <tr style=\"text-align: right;\">\n",
       "      <th></th>\n",
       "      <th>id</th>\n",
       "      <th>real_name</th>\n",
       "      <th>art_name</th>\n",
       "      <th>released_albums</th>\n",
       "      <th>num_of_sales</th>\n",
       "      <th>rolling_stone_critic</th>\n",
       "      <th>mtv_critic</th>\n",
       "      <th>music_maniac_critic</th>\n",
       "      <th>all_critics</th>\n",
       "    </tr>\n",
       "  </thead>\n",
       "  <tbody>\n",
       "    <tr>\n",
       "      <th>0</th>\n",
       "      <td>1</td>\n",
       "      <td>Kameko Nelson</td>\n",
       "      <td>NaN</td>\n",
       "      <td>1</td>\n",
       "      <td>905193</td>\n",
       "      <td>4.0</td>\n",
       "      <td>1.5</td>\n",
       "      <td>3.0</td>\n",
       "      <td>2.833</td>\n",
       "    </tr>\n",
       "    <tr>\n",
       "      <th>1</th>\n",
       "      <td>2</td>\n",
       "      <td>Sacha Cameron</td>\n",
       "      <td>Bianco Ibureno Chloride</td>\n",
       "      <td>1</td>\n",
       "      <td>969122</td>\n",
       "      <td>3.0</td>\n",
       "      <td>4.0</td>\n",
       "      <td>5.0</td>\n",
       "      <td>4.000</td>\n",
       "    </tr>\n",
       "    <tr>\n",
       "      <th>2</th>\n",
       "      <td>5</td>\n",
       "      <td>Sonia U. Jensen</td>\n",
       "      <td>Asleep lonely Big Morgan</td>\n",
       "      <td>2</td>\n",
       "      <td>151111</td>\n",
       "      <td>4.5</td>\n",
       "      <td>2.5</td>\n",
       "      <td>1.0</td>\n",
       "      <td>2.667</td>\n",
       "    </tr>\n",
       "    <tr>\n",
       "      <th>3</th>\n",
       "      <td>6</td>\n",
       "      <td>Xanthus Wyatt</td>\n",
       "      <td>Paint of Heart Lorazepam</td>\n",
       "      <td>4</td>\n",
       "      <td>537615</td>\n",
       "      <td>4.5</td>\n",
       "      <td>1.5</td>\n",
       "      <td>2.0</td>\n",
       "      <td>2.667</td>\n",
       "    </tr>\n",
       "    <tr>\n",
       "      <th>4</th>\n",
       "      <td>7</td>\n",
       "      <td>Guinevere L. Fitzpatrick</td>\n",
       "      <td>Global The Africa Times</td>\n",
       "      <td>2</td>\n",
       "      <td>254802</td>\n",
       "      <td>5.0</td>\n",
       "      <td>2.0</td>\n",
       "      <td>2.5</td>\n",
       "      <td>3.167</td>\n",
       "    </tr>\n",
       "  </tbody>\n",
       "</table>\n",
       "</div>"
      ],
      "text/plain": [
       "   id                 real_name                  art_name  released_albums  \\\n",
       "0   1             Kameko Nelson                       NaN                1   \n",
       "1   2             Sacha Cameron   Bianco Ibureno Chloride                1   \n",
       "2   5           Sonia U. Jensen  Asleep lonely Big Morgan                2   \n",
       "3   6             Xanthus Wyatt  Paint of Heart Lorazepam                4   \n",
       "4   7  Guinevere L. Fitzpatrick   Global The Africa Times                2   \n",
       "\n",
       "   num_of_sales  rolling_stone_critic  mtv_critic  music_maniac_critic  \\\n",
       "0        905193                   4.0         1.5                  3.0   \n",
       "1        969122                   3.0         4.0                  5.0   \n",
       "2        151111                   4.5         2.5                  1.0   \n",
       "3        537615                   4.5         1.5                  2.0   \n",
       "4        254802                   5.0         2.0                  2.5   \n",
       "\n",
       "   all_critics  \n",
       "0        2.833  \n",
       "1        4.000  \n",
       "2        2.667  \n",
       "3        2.667  \n",
       "4        3.167  "
      ]
     },
     "execution_count": 17,
     "metadata": {},
     "output_type": "execute_result"
    }
   ],
   "source": [
    "# O resultado após o merge é uma tabela mais compacta\n",
    "\n",
    "df_m = art.merge(alb, on='id')\n",
    "df_m.head()"
   ]
  },
  {
   "cell_type": "code",
   "execution_count": 18,
   "metadata": {
    "cell_id": "dab51b3ff89e4bc2af33de4853bfe802",
    "deepnote_cell_height": 117,
    "deepnote_cell_type": "code",
    "deepnote_table_loading": false,
    "deepnote_table_state": {
     "filters": [
      {
       "id": "artista",
       "type": "contains",
       "value": "Hayes"
      }
     ],
     "pageIndex": 0,
     "pageSize": 10,
     "sortBy": []
    },
    "deepnote_to_be_reexecuted": false,
    "execution_millis": 1,
    "execution_start": 1652728619396,
    "source_hash": "539cd2de",
    "tags": []
   },
   "outputs": [],
   "source": [
    "# Como feito anteriormente: criação da coluna 'artista'contendo nome artístico; se vazio recebe o nome real\n",
    "\n",
    "df_m['artista'] = df_m['art_name'].fillna(df_m['real_name'])"
   ]
  },
  {
   "cell_type": "code",
   "execution_count": 19,
   "metadata": {
    "cell_id": "b72c3f92f6dc43b191a767ac21977909",
    "deepnote_cell_height": 449,
    "deepnote_cell_type": "code",
    "deepnote_to_be_reexecuted": false,
    "execution_millis": 27,
    "execution_start": 1652730142131,
    "source_hash": "f525625e",
    "tags": []
   },
   "outputs": [
    {
     "data": {
      "text/html": [
       "<div>\n",
       "<style scoped>\n",
       "    .dataframe tbody tr th:only-of-type {\n",
       "        vertical-align: middle;\n",
       "    }\n",
       "\n",
       "    .dataframe tbody tr th {\n",
       "        vertical-align: top;\n",
       "    }\n",
       "\n",
       "    .dataframe thead th {\n",
       "        text-align: right;\n",
       "    }\n",
       "</style>\n",
       "<table border=\"1\" class=\"dataframe\">\n",
       "  <thead>\n",
       "    <tr style=\"text-align: right;\">\n",
       "      <th></th>\n",
       "      <th>artista</th>\n",
       "      <th>all_critics</th>\n",
       "      <th>rank</th>\n",
       "    </tr>\n",
       "  </thead>\n",
       "  <tbody>\n",
       "    <tr>\n",
       "      <th>0</th>\n",
       "      <td>Kameko Nelson</td>\n",
       "      <td>2.833</td>\n",
       "      <td>53.571429</td>\n",
       "    </tr>\n",
       "    <tr>\n",
       "      <th>1</th>\n",
       "      <td>Bianco Ibureno Chloride</td>\n",
       "      <td>4.000</td>\n",
       "      <td>78.571429</td>\n",
       "    </tr>\n",
       "    <tr>\n",
       "      <th>2</th>\n",
       "      <td>Asleep lonely Big Morgan</td>\n",
       "      <td>2.667</td>\n",
       "      <td>50.000000</td>\n",
       "    </tr>\n",
       "    <tr>\n",
       "      <th>3</th>\n",
       "      <td>Paint of Heart Lorazepam</td>\n",
       "      <td>2.667</td>\n",
       "      <td>50.000000</td>\n",
       "    </tr>\n",
       "    <tr>\n",
       "      <th>4</th>\n",
       "      <td>Global The Africa Times</td>\n",
       "      <td>3.167</td>\n",
       "      <td>60.714286</td>\n",
       "    </tr>\n",
       "  </tbody>\n",
       "</table>\n",
       "</div>"
      ],
      "text/plain": [
       "                    artista  all_critics       rank\n",
       "0             Kameko Nelson        2.833  53.571429\n",
       "1   Bianco Ibureno Chloride        4.000  78.571429\n",
       "2  Asleep lonely Big Morgan        2.667  50.000000\n",
       "3  Paint of Heart Lorazepam        2.667  50.000000\n",
       "4   Global The Africa Times        3.167  60.714286"
      ]
     },
     "execution_count": 19,
     "metadata": {},
     "output_type": "execute_result"
    }
   ],
   "source": [
    "# encontrar os 20% piores de acordo com all critics\n",
    "\n",
    "df_m['rank'] = 100 * df_m['all_critics'].rank(method='dense', pct=True)\n",
    "df_m[['artista', 'all_critics', 'rank']].head()"
   ]
  },
  {
   "cell_type": "code",
   "execution_count": 22,
   "metadata": {
    "cell_id": "81b83409035f4af7baa515a75846b7b8",
    "deepnote_cell_height": 207,
    "deepnote_cell_type": "code",
    "deepnote_output_heights": [
     21.1875
    ],
    "deepnote_to_be_reexecuted": false,
    "execution_millis": 1,
    "execution_start": 1652730951908,
    "source_hash": "6a6c8132",
    "tags": []
   },
   "outputs": [],
   "source": [
    "# Quantos dinheiros os 20% piores arrecadaram\n",
    "piores = df_m['num_of_sales'].loc[(df_m['rank'] <= 20)].sum()\n",
    "\n",
    "# Quantos % representa do total\n",
    "share = 100 * piores / alb['num_of_sales'].sum()\n",
    "\n",
    "# Quantas pessoas cortadas\n",
    "corte = df_m['artista'].loc[df_m['rank'] <= 20].count()"
   ]
  },
  {
   "cell_type": "code",
   "execution_count": 23,
   "metadata": {
    "cell_id": "65bd06793243415a9d2aaf5ac670896c",
    "deepnote_cell_height": 188,
    "deepnote_cell_type": "code",
    "deepnote_output_heights": [
     21.1875
    ],
    "deepnote_to_be_reexecuted": false,
    "execution_millis": 301,
    "execution_start": 1652730952512,
    "owner_user_id": "d0aabf1f-174b-4a51-a777-8bd80c6c2a7f",
    "source_hash": "12573adf",
    "tags": []
   },
   "outputs": [
    {
     "name": "stdout",
     "output_type": "stream",
     "text": [
      "Os 20% piores representam 0.988% das vendas,\n",
      "Totalizando 314718970 dinheiros\n",
      "640 artistas não teriam o contrato renovado.\n"
     ]
    }
   ],
   "source": [
    "print(f'Os 20% piores representam {share:.3f}% das vendas,\\n'\n",
    "    f'Totalizando {piores} dinheiros\\n'\n",
    "    f'{corte} artistas não teriam o contrato renovado.')"
   ]
  },
  {
   "cell_type": "markdown",
   "metadata": {
    "created_in_deepnote_cell": true,
    "deepnote_cell_type": "markdown",
    "tags": []
   },
   "source": [
    "<a style='text-decoration:none;line-height:16px;display:flex;color:#5B5B62;padding:10px;justify-content:end;' href='https://deepnote.com?utm_source=created-in-deepnote-cell&projectId=6c57ce19-4c83-42d2-828d-d933e5de0771' target=\"_blank\">\n",
    "<img alt='Created in deepnote.com' style='display:inline;max-height:16px;margin:0px;margin-right:7.5px;' src='data:image/svg+xml;base64,PD94bWwgdmVyc2lvbj0iMS4wIiBlbmNvZGluZz0iVVRGLTgiPz4KPHN2ZyB3aWR0aD0iODBweCIgaGVpZ2h0PSI4MHB4IiB2aWV3Qm94PSIwIDAgODAgODAiIHZlcnNpb249IjEuMSIgeG1sbnM9Imh0dHA6Ly93d3cudzMub3JnLzIwMDAvc3ZnIiB4bWxuczp4bGluaz0iaHR0cDovL3d3dy53My5vcmcvMTk5OS94bGluayI+CiAgICA8IS0tIEdlbmVyYXRvcjogU2tldGNoIDU0LjEgKDc2NDkwKSAtIGh0dHBzOi8vc2tldGNoYXBwLmNvbSAtLT4KICAgIDx0aXRsZT5Hcm91cCAzPC90aXRsZT4KICAgIDxkZXNjPkNyZWF0ZWQgd2l0aCBTa2V0Y2guPC9kZXNjPgogICAgPGcgaWQ9IkxhbmRpbmciIHN0cm9rZT0ibm9uZSIgc3Ryb2tlLXdpZHRoPSIxIiBmaWxsPSJub25lIiBmaWxsLXJ1bGU9ImV2ZW5vZGQiPgogICAgICAgIDxnIGlkPSJBcnRib2FyZCIgdHJhbnNmb3JtPSJ0cmFuc2xhdGUoLTEyMzUuMDAwMDAwLCAtNzkuMDAwMDAwKSI+CiAgICAgICAgICAgIDxnIGlkPSJHcm91cC0zIiB0cmFuc2Zvcm09InRyYW5zbGF0ZSgxMjM1LjAwMDAwMCwgNzkuMDAwMDAwKSI+CiAgICAgICAgICAgICAgICA8cG9seWdvbiBpZD0iUGF0aC0yMCIgZmlsbD0iIzAyNjVCNCIgcG9pbnRzPSIyLjM3NjIzNzYyIDgwIDM4LjA0NzY2NjcgODAgNTcuODIxNzgyMiA3My44MDU3NTkyIDU3LjgyMTc4MjIgMzIuNzU5MjczOSAzOS4xNDAyMjc4IDMxLjY4MzE2ODMiPjwvcG9seWdvbj4KICAgICAgICAgICAgICAgIDxwYXRoIGQ9Ik0zNS4wMDc3MTgsODAgQzQyLjkwNjIwMDcsNzYuNDU0OTM1OCA0Ny41NjQ5MTY3LDcxLjU0MjI2NzEgNDguOTgzODY2LDY1LjI2MTk5MzkgQzUxLjExMjI4OTksNTUuODQxNTg0MiA0MS42NzcxNzk1LDQ5LjIxMjIyODQgMjUuNjIzOTg0Niw0OS4yMTIyMjg0IEMyNS40ODQ5Mjg5LDQ5LjEyNjg0NDggMjkuODI2MTI5Niw0My4yODM4MjQ4IDM4LjY0NzU4NjksMzEuNjgzMTY4MyBMNzIuODcxMjg3MSwzMi41NTQ0MjUgTDY1LjI4MDk3Myw2Ny42NzYzNDIxIEw1MS4xMTIyODk5LDc3LjM3NjE0NCBMMzUuMDA3NzE4LDgwIFoiIGlkPSJQYXRoLTIyIiBmaWxsPSIjMDAyODY4Ij48L3BhdGg+CiAgICAgICAgICAgICAgICA8cGF0aCBkPSJNMCwzNy43MzA0NDA1IEwyNy4xMTQ1MzcsMC4yNTcxMTE0MzYgQzYyLjM3MTUxMjMsLTEuOTkwNzE3MDEgODAsMTAuNTAwMzkyNyA4MCwzNy43MzA0NDA1IEM4MCw2NC45NjA0ODgyIDY0Ljc3NjUwMzgsNzkuMDUwMzQxNCAzNC4zMjk1MTEzLDgwIEM0Ny4wNTUzNDg5LDc3LjU2NzA4MDggNTMuNDE4MjY3Nyw3MC4zMTM2MTAzIDUzLjQxODI2NzcsNTguMjM5NTg4NSBDNTMuNDE4MjY3Nyw0MC4xMjg1NTU3IDM2LjMwMzk1NDQsMzcuNzMwNDQwNSAyNS4yMjc0MTcsMzcuNzMwNDQwNSBDMTcuODQzMDU4NiwzNy43MzA0NDA1IDkuNDMzOTE5NjYsMzcuNzMwNDQwNSAwLDM3LjczMDQ0MDUgWiIgaWQ9IlBhdGgtMTkiIGZpbGw9IiMzNzkzRUYiPjwvcGF0aD4KICAgICAgICAgICAgPC9nPgogICAgICAgIDwvZz4KICAgIDwvZz4KPC9zdmc+' > </img>\n",
    "Created in <span style='font-weight:600;margin-left:4px;'>Deepnote</span></a>"
   ]
  }
 ],
 "metadata": {
  "deepnote": {
   "is_reactive": false
  },
  "deepnote_execution_queue": [],
  "deepnote_notebook_id": "28c8c4a4-584c-4022-99ac-c96d19d4d92b",
  "interpreter": {
   "hash": "b7a7b41232c6df95e77b4964cd228024a28a5df1a879f95669443e1af125a7db"
  },
  "kernelspec": {
   "display_name": "Python 3.8.11 ('data_science')",
   "language": "python",
   "name": "python3"
  },
  "language_info": {
   "codemirror_mode": {
    "name": "ipython",
    "version": 3
   },
   "file_extension": ".py",
   "mimetype": "text/x-python",
   "name": "python",
   "nbconvert_exporter": "python",
   "pygments_lexer": "ipython3",
   "version": "3.8.11"
  },
  "orig_nbformat": 2
 },
 "nbformat": 4,
 "nbformat_minor": 2
}
