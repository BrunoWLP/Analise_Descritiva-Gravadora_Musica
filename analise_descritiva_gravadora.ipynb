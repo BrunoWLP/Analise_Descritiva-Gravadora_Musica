{
 "cells": [
  {
   "cell_type": "markdown",
   "source": "# Contexto do desafio\n\nCom a chegada de novos executivos na Label de música _Black Bear Records_, a empresa deve passar por grandes mudanças. Apesar de ter anos de prestígio no mundo da música, a gravadora têm ficado para trás nos seus resultados financeiros e está atrás de entender melhor como pode se adequar os novos tempos.  \n<br>\nVocê e seu time de consultores foram contratados para analisar a situação geral da Gravadora, investigar seu portfólio e trazer insights que ajudem a empresa a montar uma estratégia de longo prazo que volte a colocar a _Black Bear_ de volta no topo.\n<br>  \nPara isso, vocês têm um conjunto de dados - uma tabela - com as principais informações do portfólio da empresa. Para analisar esses dados, vamos utilizar o que você já aprendeu de Python e Pandas! Para ajudar no processo, vamos tentar trazer as respostas para algumas das principais perguntas levantadas junto dos executivos da empresa, focando em trazer os highlights para pautar a discussão. \n<br>  \nMãos à obra!",
   "metadata": {
    "tags": [],
    "cell_id": "00000-4b5fcaec-45b0-4e78-83b2-d1d392121fad",
    "deepnote_cell_type": "markdown",
    "deepnote_cell_height": 389.1875
   }
  },
  {
   "cell_type": "markdown",
   "source": "## Importando bibliotecas e lendo arquivos",
   "metadata": {
    "cell_id": "369aea63145b401bbbfdc12be792b15c",
    "tags": [],
    "deepnote_cell_type": "markdown",
    "deepnote_cell_height": 70
   }
  },
  {
   "cell_type": "code",
   "metadata": {
    "tags": [],
    "cell_id": "00001-207339bc-d670-4bc4-9ddf-f2a3b6c087a9",
    "deepnote_to_be_reexecuted": false,
    "source_hash": "75705ca",
    "execution_start": 1652724222776,
    "execution_millis": 659,
    "deepnote_cell_type": "code",
    "deepnote_cell_height": 153
   },
   "source": "import pandas as pd\nimport numpy as np\n\nartists_df = pd.read_csv('artists.csv')\nalbums_df = pd.read_csv('albums.csv')",
   "execution_count": 1,
   "outputs": []
  },
  {
   "cell_type": "code",
   "metadata": {
    "tags": [],
    "cell_id": "00002-4aa2e990-e1be-41b5-8837-0533298f2548",
    "deepnote_to_be_reexecuted": false,
    "source_hash": "da3eb645",
    "execution_start": 1652564378652,
    "execution_millis": 175,
    "deepnote_cell_type": "code",
    "deepnote_cell_height": 247.796875,
    "deepnote_output_heights": [
     61
    ]
   },
   "source": "artists_df.head(1)",
   "execution_count": null,
   "outputs": [
    {
     "output_type": "execute_result",
     "execution_count": 2,
     "data": {
      "application/vnd.deepnote.dataframe.v3+json": {
       "column_count": 12,
       "row_count": 1,
       "columns": [
        {
         "name": "id",
         "dtype": "int64",
         "stats": {
          "unique_count": 1,
          "nan_count": 0,
          "min": "1",
          "max": "1",
          "histogram": [
           {
            "bin_start": 0.5,
            "bin_end": 0.6,
            "count": 0
           },
           {
            "bin_start": 0.6,
            "bin_end": 0.7,
            "count": 0
           },
           {
            "bin_start": 0.7,
            "bin_end": 0.8,
            "count": 0
           },
           {
            "bin_start": 0.8,
            "bin_end": 0.9,
            "count": 0
           },
           {
            "bin_start": 0.9,
            "bin_end": 1,
            "count": 0
           },
           {
            "bin_start": 1,
            "bin_end": 1.1,
            "count": 1
           },
           {
            "bin_start": 1.1,
            "bin_end": 1.2000000000000002,
            "count": 0
           },
           {
            "bin_start": 1.2000000000000002,
            "bin_end": 1.3,
            "count": 0
           },
           {
            "bin_start": 1.3,
            "bin_end": 1.4,
            "count": 0
           },
           {
            "bin_start": 1.4,
            "bin_end": 1.5,
            "count": 0
           }
          ]
         }
        },
        {
         "name": "real_name",
         "dtype": "object",
         "stats": {
          "unique_count": 1,
          "nan_count": 0,
          "categories": [
           {
            "name": "Kameko Nelson",
            "count": 1
           }
          ]
         }
        },
        {
         "name": "art_name",
         "dtype": "object",
         "stats": {
          "unique_count": 0,
          "nan_count": 1,
          "categories": [
           {
            "name": "Missing",
            "count": 1
           }
          ]
         }
        },
        {
         "name": "role",
         "dtype": "object",
         "stats": {
          "unique_count": 1,
          "nan_count": 0,
          "categories": [
           {
            "name": "female voice",
            "count": 1
           }
          ]
         }
        },
        {
         "name": "year_of_birth",
         "dtype": "int64",
         "stats": {
          "unique_count": 1,
          "nan_count": 0,
          "min": "1981",
          "max": "1981",
          "histogram": [
           {
            "bin_start": 1980.5,
            "bin_end": 1980.6,
            "count": 0
           },
           {
            "bin_start": 1980.6,
            "bin_end": 1980.7,
            "count": 0
           },
           {
            "bin_start": 1980.7,
            "bin_end": 1980.8,
            "count": 0
           },
           {
            "bin_start": 1980.8,
            "bin_end": 1980.9,
            "count": 0
           },
           {
            "bin_start": 1980.9,
            "bin_end": 1981,
            "count": 0
           },
           {
            "bin_start": 1981,
            "bin_end": 1981.1,
            "count": 1
           },
           {
            "bin_start": 1981.1,
            "bin_end": 1981.2,
            "count": 0
           },
           {
            "bin_start": 1981.2,
            "bin_end": 1981.3,
            "count": 0
           },
           {
            "bin_start": 1981.3,
            "bin_end": 1981.4,
            "count": 0
           },
           {
            "bin_start": 1981.4,
            "bin_end": 1981.5,
            "count": 0
           }
          ]
         }
        },
        {
         "name": "country",
         "dtype": "object",
         "stats": {
          "unique_count": 1,
          "nan_count": 0,
          "categories": [
           {
            "name": "Slovenia",
            "count": 1
           }
          ]
         }
        },
        {
         "name": "city",
         "dtype": "object",
         "stats": {
          "unique_count": 1,
          "nan_count": 0,
          "categories": [
           {
            "name": "Vedrin",
            "count": 1
           }
          ]
         }
        },
        {
         "name": "email",
         "dtype": "object",
         "stats": {
          "unique_count": 1,
          "nan_count": 0,
          "categories": [
           {
            "name": "lorem.tristique.aliquet@nonummyFusce.co.uk",
            "count": 1
           }
          ]
         }
        },
        {
         "name": "zip_code",
         "dtype": "object",
         "stats": {
          "unique_count": 1,
          "nan_count": 0,
          "categories": [
           {
            "name": "6914",
            "count": 1
           }
          ]
         }
        },
        {
         "name": "first_release",
         "dtype": "int64",
         "stats": {
          "unique_count": 1,
          "nan_count": 0,
          "min": "2008",
          "max": "2008",
          "histogram": [
           {
            "bin_start": 2007.5,
            "bin_end": 2007.6,
            "count": 0
           },
           {
            "bin_start": 2007.6,
            "bin_end": 2007.7,
            "count": 0
           },
           {
            "bin_start": 2007.7,
            "bin_end": 2007.8,
            "count": 0
           },
           {
            "bin_start": 2007.8,
            "bin_end": 2007.9,
            "count": 0
           },
           {
            "bin_start": 2007.9,
            "bin_end": 2008,
            "count": 0
           },
           {
            "bin_start": 2008,
            "bin_end": 2008.1,
            "count": 1
           },
           {
            "bin_start": 2008.1,
            "bin_end": 2008.2,
            "count": 0
           },
           {
            "bin_start": 2008.2,
            "bin_end": 2008.3,
            "count": 0
           },
           {
            "bin_start": 2008.3,
            "bin_end": 2008.4,
            "count": 0
           },
           {
            "bin_start": 2008.4,
            "bin_end": 2008.5,
            "count": 0
           }
          ]
         }
        },
        {
         "name": "latest_release",
         "dtype": "int64",
         "stats": {
          "unique_count": 1,
          "nan_count": 0,
          "min": "2008",
          "max": "2008",
          "histogram": [
           {
            "bin_start": 2007.5,
            "bin_end": 2007.6,
            "count": 0
           },
           {
            "bin_start": 2007.6,
            "bin_end": 2007.7,
            "count": 0
           },
           {
            "bin_start": 2007.7,
            "bin_end": 2007.8,
            "count": 0
           },
           {
            "bin_start": 2007.8,
            "bin_end": 2007.9,
            "count": 0
           },
           {
            "bin_start": 2007.9,
            "bin_end": 2008,
            "count": 0
           },
           {
            "bin_start": 2008,
            "bin_end": 2008.1,
            "count": 1
           },
           {
            "bin_start": 2008.1,
            "bin_end": 2008.2,
            "count": 0
           },
           {
            "bin_start": 2008.2,
            "bin_end": 2008.3,
            "count": 0
           },
           {
            "bin_start": 2008.3,
            "bin_end": 2008.4,
            "count": 0
           },
           {
            "bin_start": 2008.4,
            "bin_end": 2008.5,
            "count": 0
           }
          ]
         }
        },
        {
         "name": "released_albums",
         "dtype": "int64",
         "stats": {
          "unique_count": 1,
          "nan_count": 0,
          "min": "1",
          "max": "1",
          "histogram": [
           {
            "bin_start": 0.5,
            "bin_end": 0.6,
            "count": 0
           },
           {
            "bin_start": 0.6,
            "bin_end": 0.7,
            "count": 0
           },
           {
            "bin_start": 0.7,
            "bin_end": 0.8,
            "count": 0
           },
           {
            "bin_start": 0.8,
            "bin_end": 0.9,
            "count": 0
           },
           {
            "bin_start": 0.9,
            "bin_end": 1,
            "count": 0
           },
           {
            "bin_start": 1,
            "bin_end": 1.1,
            "count": 1
           },
           {
            "bin_start": 1.1,
            "bin_end": 1.2000000000000002,
            "count": 0
           },
           {
            "bin_start": 1.2000000000000002,
            "bin_end": 1.3,
            "count": 0
           },
           {
            "bin_start": 1.3,
            "bin_end": 1.4,
            "count": 0
           },
           {
            "bin_start": 1.4,
            "bin_end": 1.5,
            "count": 0
           }
          ]
         }
        },
        {
         "name": "_deepnote_index_column",
         "dtype": "int64"
        }
       ],
       "rows": [
        {
         "id": 1,
         "real_name": "Kameko Nelson",
         "art_name": "nan",
         "role": "female voice",
         "year_of_birth": 1981,
         "country": "Slovenia",
         "city": "Vedrin",
         "email": "lorem.tristique.aliquet@nonummyFusce.co.uk",
         "zip_code": "6914",
         "first_release": 2008,
         "latest_release": 2008,
         "released_albums": 1,
         "_deepnote_index_column": 0
        }
       ]
      },
      "text/plain": "   id      real_name art_name          role  year_of_birth   country    city  \\\n0   1  Kameko Nelson      NaN  female voice           1981  Slovenia  Vedrin   \n\n                                        email zip_code  first_release  \\\n0  lorem.tristique.aliquet@nonummyFusce.co.uk     6914           2008   \n\n   latest_release  released_albums  \n0            2008                1  ",
      "text/html": "<div>\n<style scoped>\n    .dataframe tbody tr th:only-of-type {\n        vertical-align: middle;\n    }\n\n    .dataframe tbody tr th {\n        vertical-align: top;\n    }\n\n    .dataframe thead th {\n        text-align: right;\n    }\n</style>\n<table border=\"1\" class=\"dataframe\">\n  <thead>\n    <tr style=\"text-align: right;\">\n      <th></th>\n      <th>id</th>\n      <th>real_name</th>\n      <th>art_name</th>\n      <th>role</th>\n      <th>year_of_birth</th>\n      <th>country</th>\n      <th>city</th>\n      <th>email</th>\n      <th>zip_code</th>\n      <th>first_release</th>\n      <th>latest_release</th>\n      <th>released_albums</th>\n    </tr>\n  </thead>\n  <tbody>\n    <tr>\n      <th>0</th>\n      <td>1</td>\n      <td>Kameko Nelson</td>\n      <td>NaN</td>\n      <td>female voice</td>\n      <td>1981</td>\n      <td>Slovenia</td>\n      <td>Vedrin</td>\n      <td>lorem.tristique.aliquet@nonummyFusce.co.uk</td>\n      <td>6914</td>\n      <td>2008</td>\n      <td>2008</td>\n      <td>1</td>\n    </tr>\n  </tbody>\n</table>\n</div>"
     },
     "metadata": {}
    }
   ]
  },
  {
   "cell_type": "code",
   "metadata": {
    "tags": [],
    "cell_id": "00003-46f4f6c2-220a-428f-a1b7-8e89fbcd605a",
    "deepnote_to_be_reexecuted": false,
    "source_hash": "12318ca3",
    "execution_start": 1652564386322,
    "execution_millis": 139,
    "deepnote_cell_type": "code",
    "deepnote_cell_height": 247.796875,
    "deepnote_output_heights": [
     61
    ]
   },
   "source": "albums_df.head(1)",
   "execution_count": null,
   "outputs": [
    {
     "output_type": "execute_result",
     "execution_count": 3,
     "data": {
      "application/vnd.deepnote.dataframe.v3+json": {
       "column_count": 10,
       "row_count": 1,
       "columns": [
        {
         "name": "id",
         "dtype": "int64",
         "stats": {
          "unique_count": 1,
          "nan_count": 0,
          "min": "1",
          "max": "1",
          "histogram": [
           {
            "bin_start": 0.5,
            "bin_end": 0.6,
            "count": 0
           },
           {
            "bin_start": 0.6,
            "bin_end": 0.7,
            "count": 0
           },
           {
            "bin_start": 0.7,
            "bin_end": 0.8,
            "count": 0
           },
           {
            "bin_start": 0.8,
            "bin_end": 0.9,
            "count": 0
           },
           {
            "bin_start": 0.9,
            "bin_end": 1,
            "count": 0
           },
           {
            "bin_start": 1,
            "bin_end": 1.1,
            "count": 1
           },
           {
            "bin_start": 1.1,
            "bin_end": 1.2000000000000002,
            "count": 0
           },
           {
            "bin_start": 1.2000000000000002,
            "bin_end": 1.3,
            "count": 0
           },
           {
            "bin_start": 1.3,
            "bin_end": 1.4,
            "count": 0
           },
           {
            "bin_start": 1.4,
            "bin_end": 1.5,
            "count": 0
           }
          ]
         }
        },
        {
         "name": "artist_id",
         "dtype": "int64",
         "stats": {
          "unique_count": 1,
          "nan_count": 0,
          "min": "1767",
          "max": "1767",
          "histogram": [
           {
            "bin_start": 1766.5,
            "bin_end": 1766.6,
            "count": 0
           },
           {
            "bin_start": 1766.6,
            "bin_end": 1766.7,
            "count": 0
           },
           {
            "bin_start": 1766.7,
            "bin_end": 1766.8,
            "count": 0
           },
           {
            "bin_start": 1766.8,
            "bin_end": 1766.9,
            "count": 0
           },
           {
            "bin_start": 1766.9,
            "bin_end": 1767,
            "count": 0
           },
           {
            "bin_start": 1767,
            "bin_end": 1767.1,
            "count": 1
           },
           {
            "bin_start": 1767.1,
            "bin_end": 1767.2,
            "count": 0
           },
           {
            "bin_start": 1767.2,
            "bin_end": 1767.3,
            "count": 0
           },
           {
            "bin_start": 1767.3,
            "bin_end": 1767.4,
            "count": 0
           },
           {
            "bin_start": 1767.4,
            "bin_end": 1767.5,
            "count": 0
           }
          ]
         }
        },
        {
         "name": "album_title",
         "dtype": "object",
         "stats": {
          "unique_count": 1,
          "nan_count": 0,
          "categories": [
           {
            "name": "Call me Cat Moneyless That Doggies",
            "count": 1
           }
          ]
         }
        },
        {
         "name": "genre",
         "dtype": "object",
         "stats": {
          "unique_count": 1,
          "nan_count": 0,
          "categories": [
           {
            "name": "Folk",
            "count": 1
           }
          ]
         }
        },
        {
         "name": "year_of_pub",
         "dtype": "int64",
         "stats": {
          "unique_count": 1,
          "nan_count": 0,
          "min": "2006",
          "max": "2006",
          "histogram": [
           {
            "bin_start": 2005.5,
            "bin_end": 2005.6,
            "count": 0
           },
           {
            "bin_start": 2005.6,
            "bin_end": 2005.7,
            "count": 0
           },
           {
            "bin_start": 2005.7,
            "bin_end": 2005.8,
            "count": 0
           },
           {
            "bin_start": 2005.8,
            "bin_end": 2005.9,
            "count": 0
           },
           {
            "bin_start": 2005.9,
            "bin_end": 2006,
            "count": 0
           },
           {
            "bin_start": 2006,
            "bin_end": 2006.1,
            "count": 1
           },
           {
            "bin_start": 2006.1,
            "bin_end": 2006.2,
            "count": 0
           },
           {
            "bin_start": 2006.2,
            "bin_end": 2006.3,
            "count": 0
           },
           {
            "bin_start": 2006.3,
            "bin_end": 2006.4,
            "count": 0
           },
           {
            "bin_start": 2006.4,
            "bin_end": 2006.5,
            "count": 0
           }
          ]
         }
        },
        {
         "name": "num_of_tracks",
         "dtype": "int64",
         "stats": {
          "unique_count": 1,
          "nan_count": 0,
          "min": "11",
          "max": "11",
          "histogram": [
           {
            "bin_start": 10.5,
            "bin_end": 10.6,
            "count": 0
           },
           {
            "bin_start": 10.6,
            "bin_end": 10.7,
            "count": 0
           },
           {
            "bin_start": 10.7,
            "bin_end": 10.8,
            "count": 0
           },
           {
            "bin_start": 10.8,
            "bin_end": 10.9,
            "count": 0
           },
           {
            "bin_start": 10.9,
            "bin_end": 11,
            "count": 0
           },
           {
            "bin_start": 11,
            "bin_end": 11.1,
            "count": 1
           },
           {
            "bin_start": 11.1,
            "bin_end": 11.2,
            "count": 0
           },
           {
            "bin_start": 11.2,
            "bin_end": 11.3,
            "count": 0
           },
           {
            "bin_start": 11.3,
            "bin_end": 11.4,
            "count": 0
           },
           {
            "bin_start": 11.4,
            "bin_end": 11.5,
            "count": 0
           }
          ]
         }
        },
        {
         "name": "num_of_sales",
         "dtype": "int64",
         "stats": {
          "unique_count": 1,
          "nan_count": 0,
          "min": "905193",
          "max": "905193",
          "histogram": [
           {
            "bin_start": 905192.5,
            "bin_end": 905192.6,
            "count": 0
           },
           {
            "bin_start": 905192.6,
            "bin_end": 905192.7,
            "count": 0
           },
           {
            "bin_start": 905192.7,
            "bin_end": 905192.8,
            "count": 0
           },
           {
            "bin_start": 905192.8,
            "bin_end": 905192.9,
            "count": 0
           },
           {
            "bin_start": 905192.9,
            "bin_end": 905193,
            "count": 0
           },
           {
            "bin_start": 905193,
            "bin_end": 905193.1,
            "count": 1
           },
           {
            "bin_start": 905193.1,
            "bin_end": 905193.2,
            "count": 0
           },
           {
            "bin_start": 905193.2,
            "bin_end": 905193.3,
            "count": 0
           },
           {
            "bin_start": 905193.3,
            "bin_end": 905193.4,
            "count": 0
           },
           {
            "bin_start": 905193.4,
            "bin_end": 905193.5,
            "count": 0
           }
          ]
         }
        },
        {
         "name": "rolling_stone_critic",
         "dtype": "float64",
         "stats": {
          "unique_count": 1,
          "nan_count": 0,
          "min": "4.0",
          "max": "4.0",
          "histogram": [
           {
            "bin_start": 3.5,
            "bin_end": 3.6,
            "count": 0
           },
           {
            "bin_start": 3.6,
            "bin_end": 3.7,
            "count": 0
           },
           {
            "bin_start": 3.7,
            "bin_end": 3.8,
            "count": 0
           },
           {
            "bin_start": 3.8,
            "bin_end": 3.9,
            "count": 0
           },
           {
            "bin_start": 3.9,
            "bin_end": 4,
            "count": 0
           },
           {
            "bin_start": 4,
            "bin_end": 4.1,
            "count": 1
           },
           {
            "bin_start": 4.1,
            "bin_end": 4.2,
            "count": 0
           },
           {
            "bin_start": 4.2,
            "bin_end": 4.3,
            "count": 0
           },
           {
            "bin_start": 4.3,
            "bin_end": 4.4,
            "count": 0
           },
           {
            "bin_start": 4.4,
            "bin_end": 4.5,
            "count": 0
           }
          ]
         }
        },
        {
         "name": "mtv_critic",
         "dtype": "float64",
         "stats": {
          "unique_count": 1,
          "nan_count": 0,
          "min": "1.5",
          "max": "1.5",
          "histogram": [
           {
            "bin_start": 1,
            "bin_end": 1.1,
            "count": 0
           },
           {
            "bin_start": 1.1,
            "bin_end": 1.2,
            "count": 0
           },
           {
            "bin_start": 1.2,
            "bin_end": 1.3,
            "count": 0
           },
           {
            "bin_start": 1.3,
            "bin_end": 1.4,
            "count": 0
           },
           {
            "bin_start": 1.4,
            "bin_end": 1.5,
            "count": 0
           },
           {
            "bin_start": 1.5,
            "bin_end": 1.6,
            "count": 1
           },
           {
            "bin_start": 1.6,
            "bin_end": 1.7000000000000002,
            "count": 0
           },
           {
            "bin_start": 1.7000000000000002,
            "bin_end": 1.8,
            "count": 0
           },
           {
            "bin_start": 1.8,
            "bin_end": 1.9,
            "count": 0
           },
           {
            "bin_start": 1.9,
            "bin_end": 2,
            "count": 0
           }
          ]
         }
        },
        {
         "name": "music_maniac_critic",
         "dtype": "float64",
         "stats": {
          "unique_count": 1,
          "nan_count": 0,
          "min": "3.0",
          "max": "3.0",
          "histogram": [
           {
            "bin_start": 2.5,
            "bin_end": 2.6,
            "count": 0
           },
           {
            "bin_start": 2.6,
            "bin_end": 2.7,
            "count": 0
           },
           {
            "bin_start": 2.7,
            "bin_end": 2.8,
            "count": 0
           },
           {
            "bin_start": 2.8,
            "bin_end": 2.9,
            "count": 0
           },
           {
            "bin_start": 2.9,
            "bin_end": 3,
            "count": 0
           },
           {
            "bin_start": 3,
            "bin_end": 3.1,
            "count": 1
           },
           {
            "bin_start": 3.1,
            "bin_end": 3.2,
            "count": 0
           },
           {
            "bin_start": 3.2,
            "bin_end": 3.3,
            "count": 0
           },
           {
            "bin_start": 3.3,
            "bin_end": 3.4,
            "count": 0
           },
           {
            "bin_start": 3.4,
            "bin_end": 3.5,
            "count": 0
           }
          ]
         }
        },
        {
         "name": "_deepnote_index_column",
         "dtype": "int64"
        }
       ],
       "rows": [
        {
         "id": 1,
         "artist_id": 1767,
         "album_title": "Call me Cat Moneyless That Doggies",
         "genre": "Folk",
         "year_of_pub": 2006,
         "num_of_tracks": 11,
         "num_of_sales": 905193,
         "rolling_stone_critic": 4,
         "mtv_critic": 1.5,
         "music_maniac_critic": 3,
         "_deepnote_index_column": 0
        }
       ]
      },
      "text/plain": "   id  artist_id                         album_title genre  year_of_pub  \\\n0   1       1767  Call me Cat Moneyless That Doggies  Folk         2006   \n\n   num_of_tracks  num_of_sales  rolling_stone_critic  mtv_critic  \\\n0             11        905193                   4.0         1.5   \n\n   music_maniac_critic  \n0                  3.0  ",
      "text/html": "<div>\n<style scoped>\n    .dataframe tbody tr th:only-of-type {\n        vertical-align: middle;\n    }\n\n    .dataframe tbody tr th {\n        vertical-align: top;\n    }\n\n    .dataframe thead th {\n        text-align: right;\n    }\n</style>\n<table border=\"1\" class=\"dataframe\">\n  <thead>\n    <tr style=\"text-align: right;\">\n      <th></th>\n      <th>id</th>\n      <th>artist_id</th>\n      <th>album_title</th>\n      <th>genre</th>\n      <th>year_of_pub</th>\n      <th>num_of_tracks</th>\n      <th>num_of_sales</th>\n      <th>rolling_stone_critic</th>\n      <th>mtv_critic</th>\n      <th>music_maniac_critic</th>\n    </tr>\n  </thead>\n  <tbody>\n    <tr>\n      <th>0</th>\n      <td>1</td>\n      <td>1767</td>\n      <td>Call me Cat Moneyless That Doggies</td>\n      <td>Folk</td>\n      <td>2006</td>\n      <td>11</td>\n      <td>905193</td>\n      <td>4.0</td>\n      <td>1.5</td>\n      <td>3.0</td>\n    </tr>\n  </tbody>\n</table>\n</div>"
     },
     "metadata": {}
    }
   ]
  },
  {
   "cell_type": "code",
   "source": "print(artists_df.info())\nprint(albums_df.info())",
   "metadata": {
    "cell_id": "15df4a99bcdd4e4ba21d2b6dd8327a58",
    "tags": [],
    "deepnote_to_be_reexecuted": false,
    "source_hash": "b3d93949",
    "execution_start": 1652719453716,
    "execution_millis": 51,
    "deepnote_cell_type": "code",
    "deepnote_cell_height": 719
   },
   "outputs": [
    {
     "name": "stdout",
     "text": "<class 'pandas.core.frame.DataFrame'>\nRangeIndex: 27536 entries, 0 to 27535\nData columns (total 13 columns):\n #   Column           Non-Null Count  Dtype \n---  ------           --------------  ----- \n 0   id               27536 non-null  int64 \n 1   real_name        27536 non-null  object\n 2   art_name         18426 non-null  object\n 3   role             27536 non-null  object\n 4   year_of_birth    27536 non-null  int64 \n 5   country          27536 non-null  object\n 6   city             27536 non-null  object\n 7   email            27536 non-null  object\n 8   zip_code         27536 non-null  object\n 9   first_release    27536 non-null  int64 \n 10  latest_release   27536 non-null  int64 \n 11  released_albums  27536 non-null  int64 \n 12  idade            27536 non-null  int64 \ndtypes: int64(6), object(7)\nmemory usage: 2.7+ MB\nNone\n<class 'pandas.core.frame.DataFrame'>\nRangeIndex: 63817 entries, 0 to 63816\nData columns (total 10 columns):\n #   Column                Non-Null Count  Dtype  \n---  ------                --------------  -----  \n 0   id                    63817 non-null  int64  \n 1   artist_id             63817 non-null  int64  \n 2   album_title           63817 non-null  object \n 3   genre                 63817 non-null  object \n 4   year_of_pub           63817 non-null  int64  \n 5   num_of_tracks         63817 non-null  int64  \n 6   num_of_sales          63817 non-null  int64  \n 7   rolling_stone_critic  63817 non-null  float64\n 8   mtv_critic            63817 non-null  float64\n 9   music_maniac_critic   63817 non-null  float64\ndtypes: float64(3), int64(5), object(2)\nmemory usage: 4.9+ MB\nNone\n",
     "output_type": "stream"
    }
   ],
   "execution_count": null
  },
  {
   "cell_type": "markdown",
   "source": "# Perguntas a serem respondidas\n\n    1) Quantos artistas temos no catálogo? Quantos álbuns lançados? \n    2) Quantas nacionalidades? Qual o país com a maior concentração de artistas?\n    3) Quantos artistas foram adicionados ao catálogo nos último 3 anos?\n    4) Quais os 5 tipos de artista mais presentes no catálogo?\n    5) Qual faixa de idade mais comum entre os artistas do catálogo?\n    6) Quantos álbuns foram lançados nos últimos 5 anos?\n    7) Quais os 10 gêneros musicais mais presentes no catálogo? Quanto cada um representa do total de vendas?\n    8) Quais os gêneros com as melhores avaliações pela Rolling Stone? E quais os piores?\n    9) Quais os artistas de maior sucesso comercial? E de sucesso da crítica especializada?\n    10) Se tivéssemos que não renovar o contrato dos 20% artistas com pior desempenho na crítica, quanto estaríamos arriscando de vendas mensais?",
   "metadata": {
    "tags": [],
    "cell_id": "00002-7d3b0aab-d877-4bb7-a3d4-ad1b7ede229a",
    "deepnote_cell_type": "markdown",
    "deepnote_cell_height": 346.796875
   }
  },
  {
   "cell_type": "markdown",
   "source": "### 1) Quantos artistas temos no catálogo? Quantos álbuns lançados?",
   "metadata": {
    "tags": [],
    "cell_id": "00006-bfbe924e-151e-443b-ae40-38b8df7eb67b",
    "deepnote_cell_type": "markdown",
    "deepnote_cell_height": 62
   }
  },
  {
   "cell_type": "code",
   "metadata": {
    "cell_id": "7a98948933b744bd969720b48436dc5b",
    "tags": [],
    "deepnote_to_be_reexecuted": false,
    "source_hash": "5813cc28",
    "execution_start": 1652564775693,
    "execution_millis": 18,
    "deepnote_cell_type": "code",
    "deepnote_cell_height": 118.1875,
    "deepnote_output_heights": [
     21.1875
    ]
   },
   "source": "artists_df['id'].notna().sum()",
   "execution_count": null,
   "outputs": [
    {
     "output_type": "execute_result",
     "execution_count": 11,
     "data": {
      "text/plain": "27536"
     },
     "metadata": {}
    }
   ]
  },
  {
   "cell_type": "code",
   "metadata": {
    "tags": [],
    "cell_id": "00008-497882bf-9165-482f-96a2-60abe9114ba9",
    "deepnote_to_be_reexecuted": false,
    "source_hash": "e949aae5",
    "execution_start": 1652564777233,
    "execution_millis": 2,
    "deepnote_cell_type": "code",
    "deepnote_cell_height": 118.1875,
    "deepnote_output_heights": [
     21.1875
    ]
   },
   "source": "albums_df['id'].notna().sum()",
   "execution_count": null,
   "outputs": [
    {
     "output_type": "execute_result",
     "execution_count": 12,
     "data": {
      "text/plain": "63817"
     },
     "metadata": {}
    }
   ]
  },
  {
   "cell_type": "markdown",
   "source": "27.536 artistas no catálogo e 63.817 álbuns lançados.",
   "metadata": {
    "cell_id": "f0482e746e3049159f56efee6e3fc4ae",
    "tags": [],
    "is_collapsed": false,
    "deepnote_cell_type": "text-cell-p"
   }
  },
  {
   "cell_type": "markdown",
   "source": "### 2) Quantas nacionalidades? Qual o país com a maior concentração de artistas?",
   "metadata": {
    "tags": [],
    "cell_id": "00009-38468f41-7016-42fc-aaa4-0da851710842",
    "deepnote_cell_type": "markdown",
    "deepnote_cell_height": 94
   }
  },
  {
   "cell_type": "code",
   "metadata": {
    "cell_id": "b79cad2824b94950b7131d0cc7587005",
    "tags": [],
    "deepnote_to_be_reexecuted": false,
    "source_hash": "ff4a2bb3",
    "execution_start": 1652564839550,
    "execution_millis": 1,
    "deepnote_cell_type": "code",
    "deepnote_cell_height": 118.1875,
    "deepnote_output_heights": [
     21.1875
    ]
   },
   "source": "artists_df['country'].isnull().sum()",
   "execution_count": null,
   "outputs": [
    {
     "output_type": "execute_result",
     "execution_count": 15,
     "data": {
      "text/plain": "0"
     },
     "metadata": {}
    }
   ]
  },
  {
   "cell_type": "code",
   "metadata": {
    "tags": [],
    "cell_id": "00011-12cbb48d-4b5b-469c-a035-fdde363d4afa",
    "deepnote_to_be_reexecuted": false,
    "source_hash": "eb12c451",
    "execution_start": 1639178083797,
    "execution_millis": 0,
    "deepnote_cell_type": "code",
    "deepnote_cell_height": 154.1875,
    "deepnote_output_heights": [
     21.1875
    ]
   },
   "source": "# Nacionalidades\n\nartists_df['country'].nunique()",
   "execution_count": null,
   "outputs": [
    {
     "output_type": "execute_result",
     "execution_count": 6,
     "data": {
      "text/plain": "249"
     },
     "metadata": {}
    }
   ]
  },
  {
   "cell_type": "markdown",
   "source": "249 nacionalidades",
   "metadata": {
    "cell_id": "f344bb6eced34566af3f7307c310ea73",
    "tags": [],
    "is_collapsed": false,
    "deepnote_cell_type": "text-cell-p"
   }
  },
  {
   "cell_type": "code",
   "metadata": {
    "tags": [],
    "cell_id": "00010-c1f16ff3-c410-46a9-9e29-a674c0edb8c2",
    "deepnote_to_be_reexecuted": false,
    "source_hash": "b75f33e8",
    "execution_start": 1652565217055,
    "execution_millis": 69,
    "deepnote_cell_type": "code",
    "deepnote_cell_height": 431
   },
   "source": "# Ordem decrescente dos países com maior concentração de artistas\n\nartists_df.groupby('country').agg({'id': 'count'}).sort_values(by='id', ascending=False).head()",
   "execution_count": null,
   "outputs": [
    {
     "output_type": "execute_result",
     "execution_count": 23,
     "data": {
      "application/vnd.deepnote.dataframe.v3+json": {
       "column_count": 1,
       "row_count": 5,
       "columns": [
        {
         "name": "id",
         "dtype": "int64",
         "stats": {
          "unique_count": 5,
          "nan_count": 0,
          "min": "132",
          "max": "151",
          "histogram": [
           {
            "bin_start": 132,
            "bin_end": 133.9,
            "count": 1
           },
           {
            "bin_start": 133.9,
            "bin_end": 135.8,
            "count": 2
           },
           {
            "bin_start": 135.8,
            "bin_end": 137.7,
            "count": 0
           },
           {
            "bin_start": 137.7,
            "bin_end": 139.6,
            "count": 1
           },
           {
            "bin_start": 139.6,
            "bin_end": 141.5,
            "count": 0
           },
           {
            "bin_start": 141.5,
            "bin_end": 143.4,
            "count": 0
           },
           {
            "bin_start": 143.4,
            "bin_end": 145.3,
            "count": 0
           },
           {
            "bin_start": 145.3,
            "bin_end": 147.2,
            "count": 0
           },
           {
            "bin_start": 147.2,
            "bin_end": 149.1,
            "count": 0
           },
           {
            "bin_start": 149.1,
            "bin_end": 151,
            "count": 1
           }
          ]
         }
        },
        {
         "name": "_deepnote_index_column",
         "dtype": "object"
        }
       ],
       "rows": [
        {
         "id": 151,
         "_deepnote_index_column": "Cape Verde"
        },
        {
         "id": 139,
         "_deepnote_index_column": "Bolivia"
        },
        {
         "id": 135,
         "_deepnote_index_column": "Curaçao"
        },
        {
         "id": 134,
         "_deepnote_index_column": "Cameroon"
        },
        {
         "id": 132,
         "_deepnote_index_column": "Dominican Republic"
        }
       ]
      },
      "text/plain": "                     id\ncountry                \nCape Verde          151\nBolivia             139\nCuraçao             135\nCameroon            134\nDominican Republic  132",
      "text/html": "<div>\n<style scoped>\n    .dataframe tbody tr th:only-of-type {\n        vertical-align: middle;\n    }\n\n    .dataframe tbody tr th {\n        vertical-align: top;\n    }\n\n    .dataframe thead th {\n        text-align: right;\n    }\n</style>\n<table border=\"1\" class=\"dataframe\">\n  <thead>\n    <tr style=\"text-align: right;\">\n      <th></th>\n      <th>id</th>\n    </tr>\n    <tr>\n      <th>country</th>\n      <th></th>\n    </tr>\n  </thead>\n  <tbody>\n    <tr>\n      <th>Cape Verde</th>\n      <td>151</td>\n    </tr>\n    <tr>\n      <th>Bolivia</th>\n      <td>139</td>\n    </tr>\n    <tr>\n      <th>Curaçao</th>\n      <td>135</td>\n    </tr>\n    <tr>\n      <th>Cameroon</th>\n      <td>134</td>\n    </tr>\n    <tr>\n      <th>Dominican Republic</th>\n      <td>132</td>\n    </tr>\n  </tbody>\n</table>\n</div>"
     },
     "metadata": {}
    }
   ]
  },
  {
   "cell_type": "markdown",
   "source": "### 3) Quantos artistas foram adicionados ao catálogo nos último 3 anos?",
   "metadata": {
    "tags": [],
    "cell_id": "00012-f140d779-a90d-4bb7-891c-ac94eb6271c8",
    "deepnote_cell_type": "markdown",
    "deepnote_cell_height": 62
   }
  },
  {
   "cell_type": "code",
   "metadata": {
    "cell_id": "1dfb73ca603c4e9db6a1a4c384bff55d",
    "tags": [],
    "deepnote_to_be_reexecuted": false,
    "source_hash": "851dd6fa",
    "execution_start": 1652565469867,
    "execution_millis": 558,
    "deepnote_cell_type": "code",
    "deepnote_cell_height": 519,
    "deepnote_output_heights": [
     386
    ]
   },
   "source": "# Quantos anos estão presentes nos dados? Quais são os últimos anos?\n\nsorted(artists_df['first_release'].unique())",
   "execution_count": null,
   "outputs": [
    {
     "output_type": "execute_result",
     "execution_count": 26,
     "data": {
      "text/plain": "[2000,\n 2001,\n 2002,\n 2003,\n 2004,\n 2005,\n 2006,\n 2007,\n 2008,\n 2009,\n 2010,\n 2011,\n 2012,\n 2013,\n 2014,\n 2015,\n 2016,\n 2017,\n 2018,\n 2019]"
     },
     "metadata": {}
    }
   ]
  },
  {
   "cell_type": "markdown",
   "source": "Tendo em vista que temos dados até 2019, vou assumir esse como o ano de referência.",
   "metadata": {
    "cell_id": "6de49750f5c048d798e5f872ef0e7ab3",
    "tags": [],
    "is_collapsed": false,
    "deepnote_cell_type": "text-cell-p"
   }
  },
  {
   "cell_type": "code",
   "metadata": {
    "tags": [],
    "cell_id": "00011-6a35929c-aff4-43d2-a3cd-cdd717d27eb1",
    "deepnote_to_be_reexecuted": false,
    "source_hash": "d2d67641",
    "execution_start": 1652565688925,
    "execution_millis": 25,
    "deepnote_cell_type": "code",
    "deepnote_cell_height": 136.1875,
    "deepnote_output_heights": [
     21.1875
    ]
   },
   "source": "artists_df.loc[artists_df['first_release'] >= 2017, 'id'].nunique()\n",
   "execution_count": null,
   "outputs": [
    {
     "output_type": "execute_result",
     "execution_count": 28,
     "data": {
      "text/plain": "1537"
     },
     "metadata": {}
    }
   ]
  },
  {
   "cell_type": "markdown",
   "source": "1537 artistas adicionados entre 2017-2019.",
   "metadata": {
    "cell_id": "a18a751bbeb3414aa189fa95e84afb23",
    "tags": [],
    "is_collapsed": false,
    "deepnote_cell_type": "text-cell-p"
   }
  },
  {
   "cell_type": "markdown",
   "source": "### 4) Quais os 5 tipos de artista mais presentes no catálogo?",
   "metadata": {
    "tags": [],
    "cell_id": "00014-5f7015cf-37c1-49f3-86bb-fd3d71378d16",
    "deepnote_cell_type": "markdown",
    "deepnote_cell_height": 62
   }
  },
  {
   "cell_type": "code",
   "metadata": {
    "cell_id": "d8c0e52ea8a24af59048d1ef8ad66931",
    "tags": [],
    "deepnote_to_be_reexecuted": false,
    "source_hash": "dd33e5c4",
    "execution_start": 1652566093115,
    "execution_millis": 24,
    "deepnote_cell_type": "code",
    "deepnote_cell_height": 233.375,
    "deepnote_output_heights": [
     136.390625
    ]
   },
   "source": "artists_df.groupby('role')['id'].count().sort_values(ascending=False).head()",
   "execution_count": null,
   "outputs": [
    {
     "output_type": "execute_result",
     "execution_count": 38,
     "data": {
      "text/plain": "role\nrapper     2743\nsinger     2671\nDJ         1868\ndrummer    1786\nartist     1778\nName: id, dtype: int64"
     },
     "metadata": {}
    }
   ]
  },
  {
   "cell_type": "markdown",
   "source": "### 5) Qual faixa de idade mais comum entre os artistas do catálogo?",
   "metadata": {
    "tags": [],
    "cell_id": "00016-c82e327a-370d-45a0-baf8-ec199e16c99f",
    "deepnote_cell_type": "markdown",
    "deepnote_cell_height": 62
   }
  },
  {
   "cell_type": "code",
   "metadata": {
    "tags": [],
    "cell_id": "00017-3979167f-4be8-464b-b647-f4de0d3b563b",
    "deepnote_to_be_reexecuted": false,
    "source_hash": "69a1f976",
    "execution_start": 1652716570852,
    "execution_millis": 2,
    "deepnote_cell_type": "code",
    "deepnote_cell_height": 268.1875,
    "deepnote_output_heights": [
     117.1875
    ]
   },
   "source": "# Criação de nova coluna calculada para descobrir a idade\n\nartists_df['idade'] = 2019 - artists_df['year_of_birth']\nartists_df['idade'].head()",
   "outputs": [
    {
     "output_type": "execute_result",
     "execution_count": 2,
     "data": {
      "text/plain": "0    38\n1    64\n2    26\n3    31\n4    30\nName: idade, dtype: int64"
     },
     "metadata": {}
    }
   ],
   "execution_count": null
  },
  {
   "cell_type": "markdown",
   "source": "Melhor que utilizar o ano atual para o cálculo, o ideal seria importar a biblioteca datetime e usar a linha:<br>\n```artists_df['idade'] = datetime.today().year - artists_df['year_of_birth']```\n\nPensando em reprodutibilidade do código, ele geraria o resultado correto independente do ano.\nComo assumi 2019 como \"ano atual\", vou utilizar ele diretamente.",
   "metadata": {
    "cell_id": "8863ce1dd2d94b3b968231ad229cb35f",
    "tags": [],
    "deepnote_cell_type": "markdown",
    "deepnote_cell_height": 133.59375
   }
  },
  {
   "cell_type": "code",
   "source": "# Faixa de idade: 20-29, 30-39, etc\n\ndf = artists_df.copy()\n\ndf['faixa_idade'] = df['idade']\n\ndf.loc[:, 'faixa_idade'] = np.floor((df['idade']) / 10) * 10 \n# divide-se a idade por 10 para que o floor seja aplicado; entra na faixa após a multiplicação por 10\n\ndf = df.groupby('faixa_idade').agg({'id':'count'}).sort_values(by='id', ascending=False)\ndf.rename(columns={'id': 'qtde_artistas'}, inplace=True)\n\ndf",
   "metadata": {
    "cell_id": "d4902cde7f834bf2bdddc4dff9ef0045",
    "tags": [],
    "deepnote_to_be_reexecuted": false,
    "source_hash": "fbddd1d2",
    "execution_start": 1652722459304,
    "execution_millis": 43,
    "deepnote_cell_type": "code",
    "deepnote_cell_height": 652
   },
   "outputs": [
    {
     "output_type": "execute_result",
     "execution_count": 67,
     "data": {
      "application/vnd.deepnote.dataframe.v3+json": {
       "column_count": 1,
       "row_count": 6,
       "columns": [
        {
         "name": "qtde_artistas",
         "dtype": "int64",
         "stats": {
          "unique_count": 6,
          "nan_count": 0,
          "min": "626",
          "max": "6065",
          "histogram": [
           {
            "bin_start": 626,
            "bin_end": 1169.9,
            "count": 1
           },
           {
            "bin_start": 1169.9,
            "bin_end": 1713.8,
            "count": 0
           },
           {
            "bin_start": 1713.8,
            "bin_end": 2257.7,
            "count": 0
           },
           {
            "bin_start": 2257.7,
            "bin_end": 2801.6,
            "count": 0
           },
           {
            "bin_start": 2801.6,
            "bin_end": 3345.5,
            "count": 1
           },
           {
            "bin_start": 3345.5,
            "bin_end": 3889.3999999999996,
            "count": 0
           },
           {
            "bin_start": 3889.3999999999996,
            "bin_end": 4433.299999999999,
            "count": 0
           },
           {
            "bin_start": 4433.299999999999,
            "bin_end": 4977.2,
            "count": 0
           },
           {
            "bin_start": 4977.2,
            "bin_end": 5521.099999999999,
            "count": 0
           },
           {
            "bin_start": 5521.099999999999,
            "bin_end": 6065,
            "count": 4
           }
          ]
         }
        },
        {
         "name": "_deepnote_index_column",
         "dtype": "float64"
        }
       ],
       "rows": [
        {
         "qtde_artistas": 6065,
         "_deepnote_index_column": 30
        },
        {
         "qtde_artistas": 6023,
         "_deepnote_index_column": 50
        },
        {
         "qtde_artistas": 5976,
         "_deepnote_index_column": 40
        },
        {
         "qtde_artistas": 5954,
         "_deepnote_index_column": 20
        },
        {
         "qtde_artistas": 2892,
         "_deepnote_index_column": 60
        },
        {
         "qtde_artistas": 626,
         "_deepnote_index_column": 10
        }
       ]
      },
      "text/plain": "             qtde_artistas\nfaixa_idade               \n30.0                  6065\n50.0                  6023\n40.0                  5976\n20.0                  5954\n60.0                  2892\n10.0                   626",
      "text/html": "<div>\n<style scoped>\n    .dataframe tbody tr th:only-of-type {\n        vertical-align: middle;\n    }\n\n    .dataframe tbody tr th {\n        vertical-align: top;\n    }\n\n    .dataframe thead th {\n        text-align: right;\n    }\n</style>\n<table border=\"1\" class=\"dataframe\">\n  <thead>\n    <tr style=\"text-align: right;\">\n      <th></th>\n      <th>qtde_artistas</th>\n    </tr>\n    <tr>\n      <th>faixa_idade</th>\n      <th></th>\n    </tr>\n  </thead>\n  <tbody>\n    <tr>\n      <th>30.0</th>\n      <td>6065</td>\n    </tr>\n    <tr>\n      <th>50.0</th>\n      <td>6023</td>\n    </tr>\n    <tr>\n      <th>40.0</th>\n      <td>5976</td>\n    </tr>\n    <tr>\n      <th>20.0</th>\n      <td>5954</td>\n    </tr>\n    <tr>\n      <th>60.0</th>\n      <td>2892</td>\n    </tr>\n    <tr>\n      <th>10.0</th>\n      <td>626</td>\n    </tr>\n  </tbody>\n</table>\n</div>"
     },
     "metadata": {}
    }
   ],
   "execution_count": null
  },
  {
   "cell_type": "markdown",
   "source": "### 6) Quantos álbuns foram lançados nos últimos 5 anos?",
   "metadata": {
    "tags": [],
    "cell_id": "00018-4a7f784f-771f-4ad8-abfc-3ef26eb5d9c8",
    "deepnote_cell_type": "markdown",
    "deepnote_cell_height": 62
   }
  },
  {
   "cell_type": "code",
   "metadata": {
    "tags": [],
    "cell_id": "00020-c2948073-26e9-444b-81b4-efd869cda5ac",
    "deepnote_to_be_reexecuted": false,
    "source_hash": "9cb557f0",
    "execution_start": 1652717315112,
    "execution_millis": 2,
    "deepnote_cell_type": "code",
    "deepnote_cell_height": 118.1875,
    "deepnote_output_heights": [
     21.1875
    ]
   },
   "source": "albums_df['id'].loc[albums_df['year_of_pub'] >= 2014].count()",
   "outputs": [
    {
     "output_type": "execute_result",
     "execution_count": 12,
     "data": {
      "text/plain": "19356"
     },
     "metadata": {}
    }
   ],
   "execution_count": null
  },
  {
   "cell_type": "markdown",
   "source": "19.356 álbuns foram lançados desde 2014.",
   "metadata": {
    "cell_id": "b9a83d34acd746b5ae2e50ce1e3710c8",
    "tags": [],
    "is_collapsed": false,
    "deepnote_cell_type": "text-cell-p"
   }
  },
  {
   "cell_type": "markdown",
   "source": "### 7) Quais os 10 gêneros musicais mais presentes no catálogo? Quanto cada um representa do total de vendas?",
   "metadata": {
    "tags": [],
    "cell_id": "00022-8e4a4963-690f-4d21-b8f0-301bf0da19a5",
    "deepnote_cell_type": "markdown",
    "deepnote_cell_height": 94
   }
  },
  {
   "cell_type": "code",
   "metadata": {
    "tags": [],
    "cell_id": "00021-9f044688-526c-4f20-9399-910610877241",
    "deepnote_to_be_reexecuted": false,
    "source_hash": "174afbef",
    "execution_start": 1652719728866,
    "execution_millis": 27,
    "deepnote_cell_type": "code",
    "deepnote_cell_height": 726,
    "deepnote_output_heights": [
     322
    ]
   },
   "source": "# Gêneros mais presentes\n\ntop_ten_genre = albums_df.groupby('genre', as_index=False).agg({'id': 'count'}\n    ).sort_values(by='id', ascending=False).reset_index(drop=True)\n\ntop_ten_genre.rename(columns={'id': 'qty_sales'}, inplace=True)\ntop_ten_genre.head(10)\n",
   "outputs": [
    {
     "output_type": "execute_result",
     "execution_count": 41,
     "data": {
      "application/vnd.deepnote.dataframe.v3+json": {
       "column_count": 2,
       "row_count": 10,
       "columns": [
        {
         "name": "genre",
         "dtype": "object",
         "stats": {
          "unique_count": 10,
          "nan_count": 0,
          "categories": [
           {
            "name": "Indie",
            "count": 1
           },
           {
            "name": "Pop",
            "count": 1
           },
           {
            "name": "8 others",
            "count": 8
           }
          ]
         }
        },
        {
         "name": "qty_sales",
         "dtype": "int64",
         "stats": {
          "unique_count": 10,
          "nan_count": 0,
          "min": "1294",
          "max": "5947",
          "histogram": [
           {
            "bin_start": 1294,
            "bin_end": 1759.3,
            "count": 2
           },
           {
            "bin_start": 1759.3,
            "bin_end": 2224.6,
            "count": 0
           },
           {
            "bin_start": 2224.6,
            "bin_end": 2689.9,
            "count": 5
           },
           {
            "bin_start": 2689.9,
            "bin_end": 3155.2,
            "count": 0
           },
           {
            "bin_start": 3155.2,
            "bin_end": 3620.5,
            "count": 0
           },
           {
            "bin_start": 3620.5,
            "bin_end": 4085.8,
            "count": 1
           },
           {
            "bin_start": 4085.8,
            "bin_end": 4551.1,
            "count": 0
           },
           {
            "bin_start": 4551.1,
            "bin_end": 5016.4,
            "count": 1
           },
           {
            "bin_start": 5016.4,
            "bin_end": 5481.7,
            "count": 0
           },
           {
            "bin_start": 5481.7,
            "bin_end": 5947,
            "count": 1
           }
          ]
         }
        },
        {
         "name": "_deepnote_index_column",
         "dtype": "int64"
        }
       ],
       "rows": [
        {
         "genre": "Indie",
         "qty_sales": 5947,
         "_deepnote_index_column": 0
        },
        {
         "genre": "Pop",
         "qty_sales": 4930,
         "_deepnote_index_column": 1
        },
        {
         "genre": "Rap",
         "qty_sales": 3709,
         "_deepnote_index_column": 2
        },
        {
         "genre": "Latino",
         "qty_sales": 2489,
         "_deepnote_index_column": 3
        },
        {
         "genre": "Pop-Rock",
         "qty_sales": 2482,
         "_deepnote_index_column": 4
        },
        {
         "genre": "Dance",
         "qty_sales": 2460,
         "_deepnote_index_column": 5
        },
        {
         "genre": "Rock",
         "qty_sales": 2431,
         "_deepnote_index_column": 6
        },
        {
         "genre": "Punk",
         "qty_sales": 2413,
         "_deepnote_index_column": 7
        },
        {
         "genre": "Compilation",
         "qty_sales": 1299,
         "_deepnote_index_column": 8
        },
        {
         "genre": "Country",
         "qty_sales": 1294,
         "_deepnote_index_column": 9
        }
       ]
      },
      "text/plain": "         genre  qty_sales\n0        Indie       5947\n1          Pop       4930\n2          Rap       3709\n3       Latino       2489\n4     Pop-Rock       2482\n5        Dance       2460\n6         Rock       2431\n7         Punk       2413\n8  Compilation       1299\n9      Country       1294",
      "text/html": "<div>\n<style scoped>\n    .dataframe tbody tr th:only-of-type {\n        vertical-align: middle;\n    }\n\n    .dataframe tbody tr th {\n        vertical-align: top;\n    }\n\n    .dataframe thead th {\n        text-align: right;\n    }\n</style>\n<table border=\"1\" class=\"dataframe\">\n  <thead>\n    <tr style=\"text-align: right;\">\n      <th></th>\n      <th>genre</th>\n      <th>qty_sales</th>\n    </tr>\n  </thead>\n  <tbody>\n    <tr>\n      <th>0</th>\n      <td>Indie</td>\n      <td>5947</td>\n    </tr>\n    <tr>\n      <th>1</th>\n      <td>Pop</td>\n      <td>4930</td>\n    </tr>\n    <tr>\n      <th>2</th>\n      <td>Rap</td>\n      <td>3709</td>\n    </tr>\n    <tr>\n      <th>3</th>\n      <td>Latino</td>\n      <td>2489</td>\n    </tr>\n    <tr>\n      <th>4</th>\n      <td>Pop-Rock</td>\n      <td>2482</td>\n    </tr>\n    <tr>\n      <th>5</th>\n      <td>Dance</td>\n      <td>2460</td>\n    </tr>\n    <tr>\n      <th>6</th>\n      <td>Rock</td>\n      <td>2431</td>\n    </tr>\n    <tr>\n      <th>7</th>\n      <td>Punk</td>\n      <td>2413</td>\n    </tr>\n    <tr>\n      <th>8</th>\n      <td>Compilation</td>\n      <td>1299</td>\n    </tr>\n    <tr>\n      <th>9</th>\n      <td>Country</td>\n      <td>1294</td>\n    </tr>\n  </tbody>\n</table>\n</div>"
     },
     "metadata": {}
    }
   ],
   "execution_count": null
  },
  {
   "cell_type": "code",
   "source": "# Quanto cada gênero representa em vendas\n# Primeiro passo: Total de vendas por gênero\n\ntop_ten_sales = albums_df.groupby('genre', as_index=False).agg({'id': 'count', 'num_of_sales': 'sum'}\n    ).sort_values(by='num_of_sales', ascending=False).reset_index(drop=True)\n\ntop_ten_sales.rename(columns={'id': 'qty_sales'}, inplace=True)\ntop_ten_sales",
   "metadata": {
    "cell_id": "82e2fc3ddb904956a5b3ed80c29b0450",
    "tags": [],
    "deepnote_to_be_reexecuted": false,
    "source_hash": "9c40f6f9",
    "execution_start": 1652718834772,
    "execution_millis": 26,
    "deepnote_cell_type": "code",
    "deepnote_cell_height": 726
   },
   "outputs": [
    {
     "output_type": "execute_result",
     "execution_count": 34,
     "data": {
      "application/vnd.deepnote.dataframe.v3+json": {
       "column_count": 3,
       "row_count": 38,
       "columns": [
        {
         "name": "genre",
         "dtype": "object",
         "stats": {
          "unique_count": 38,
          "nan_count": 0,
          "categories": [
           {
            "name": "Indie",
            "count": 1
           },
           {
            "name": "Pop",
            "count": 1
           },
           {
            "name": "36 others",
            "count": 36
           }
          ]
         }
        },
        {
         "name": "qty_sales",
         "dtype": "int64",
         "stats": {
          "unique_count": 34,
          "nan_count": 0,
          "min": "1145",
          "max": "5947",
          "histogram": [
           {
            "bin_start": 1145,
            "bin_end": 1625.2,
            "count": 30
           },
           {
            "bin_start": 1625.2,
            "bin_end": 2105.4,
            "count": 0
           },
           {
            "bin_start": 2105.4,
            "bin_end": 2585.6,
            "count": 5
           },
           {
            "bin_start": 2585.6,
            "bin_end": 3065.8,
            "count": 0
           },
           {
            "bin_start": 3065.8,
            "bin_end": 3546,
            "count": 0
           },
           {
            "bin_start": 3546,
            "bin_end": 4026.2,
            "count": 1
           },
           {
            "bin_start": 4026.2,
            "bin_end": 4506.4,
            "count": 0
           },
           {
            "bin_start": 4506.4,
            "bin_end": 4986.6,
            "count": 1
           },
           {
            "bin_start": 4986.6,
            "bin_end": 5466.8,
            "count": 0
           },
           {
            "bin_start": 5466.8,
            "bin_end": 5947,
            "count": 1
           }
          ]
         }
        },
        {
         "name": "num_of_sales",
         "dtype": "int64",
         "stats": {
          "unique_count": 38,
          "nan_count": 0,
          "min": "571215645",
          "max": "2985458455",
          "histogram": [
           {
            "bin_start": 571215645,
            "bin_end": 812639926,
            "count": 30
           },
           {
            "bin_start": 812639926,
            "bin_end": 1054064207,
            "count": 0
           },
           {
            "bin_start": 1054064207,
            "bin_end": 1295488488,
            "count": 5
           },
           {
            "bin_start": 1295488488,
            "bin_end": 1536912769,
            "count": 0
           },
           {
            "bin_start": 1536912769,
            "bin_end": 1778337050,
            "count": 0
           },
           {
            "bin_start": 1778337050,
            "bin_end": 2019761331,
            "count": 1
           },
           {
            "bin_start": 2019761331,
            "bin_end": 2261185612,
            "count": 0
           },
           {
            "bin_start": 2261185612,
            "bin_end": 2502609893,
            "count": 1
           },
           {
            "bin_start": 2502609893,
            "bin_end": 2744034174,
            "count": 0
           },
           {
            "bin_start": 2744034174,
            "bin_end": 2985458455,
            "count": 1
           }
          ]
         }
        },
        {
         "name": "_deepnote_index_column",
         "dtype": "int64"
        }
       ],
       "rows": [
        {
         "genre": "Indie",
         "qty_sales": 5947,
         "num_of_sales": 2985458455,
         "_deepnote_index_column": 0
        },
        {
         "genre": "Pop",
         "qty_sales": 4930,
         "num_of_sales": 2494235976,
         "_deepnote_index_column": 1
        },
        {
         "genre": "Rap",
         "qty_sales": 3709,
         "num_of_sales": 1843054863,
         "_deepnote_index_column": 2
        },
        {
         "genre": "Latino",
         "qty_sales": 2489,
         "num_of_sales": 1253417813,
         "_deepnote_index_column": 3
        },
        {
         "genre": "Pop-Rock",
         "qty_sales": 2482,
         "num_of_sales": 1230952047,
         "_deepnote_index_column": 4
        },
        {
         "genre": "Dance",
         "qty_sales": 2460,
         "num_of_sales": 1213471819,
         "_deepnote_index_column": 5
        },
        {
         "genre": "Rock",
         "qty_sales": 2431,
         "num_of_sales": 1208839731,
         "_deepnote_index_column": 6
        },
        {
         "genre": "Punk",
         "qty_sales": 2413,
         "num_of_sales": 1205791976,
         "_deepnote_index_column": 7
        },
        {
         "genre": "Heavy Metal",
         "qty_sales": 1280,
         "num_of_sales": 656182270,
         "_deepnote_index_column": 8
        },
        {
         "genre": "Compilation",
         "qty_sales": 1299,
         "num_of_sales": 656140262,
         "_deepnote_index_column": 9
        }
       ]
      },
      "text/plain": "           genre  qty_sales  num_of_sales\n0          Indie       5947    2985458455\n1            Pop       4930    2494235976\n2            Rap       3709    1843054863\n3         Latino       2489    1253417813\n4       Pop-Rock       2482    1230952047\n5          Dance       2460    1213471819\n6           Rock       2431    1208839731\n7           Punk       2413    1205791976\n8    Heavy Metal       1280     656182270\n9    Compilation       1299     656140262\n10        J-Rock       1253     640231764\n11       Country       1294     638348109\n12   Death Metal       1243     631386202\n13   Progressive       1249     630236991\n14          Trap       1276     624786555\n15        Gospel       1260     624513953\n16    Holy Metal       1249     624343872\n17      Boy Band       1222     623412486\n18        Techno       1235     621672669\n19     Hard Rock       1234     621498031\n20          Jazz       1260     616843990\n21        Parody       1246     616807345\n22          Folk       1211     615809917\n23        Lounge       1225     614905677\n24         Retro       1237     611734118\n25         K-Pop       1259     611404822\n26         Metal       1212     607539315\n27      Brit-Pop       1220     606057456\n28   Alternative       1244     604760479\n29          Live       1234     600280593\n30       Western       1211     597560398\n31         Blues       1206     595462097\n32   Electro-Pop       1186     593294700\n33       Ambient       1194     591463848\n34   Black Metal       1180     590952399\n35    Deep House       1201     588272932\n36  Indietronica       1191     586351345\n37     Unplugged       1145     571215645",
      "text/html": "<div>\n<style scoped>\n    .dataframe tbody tr th:only-of-type {\n        vertical-align: middle;\n    }\n\n    .dataframe tbody tr th {\n        vertical-align: top;\n    }\n\n    .dataframe thead th {\n        text-align: right;\n    }\n</style>\n<table border=\"1\" class=\"dataframe\">\n  <thead>\n    <tr style=\"text-align: right;\">\n      <th></th>\n      <th>genre</th>\n      <th>qty_sales</th>\n      <th>num_of_sales</th>\n    </tr>\n  </thead>\n  <tbody>\n    <tr>\n      <th>0</th>\n      <td>Indie</td>\n      <td>5947</td>\n      <td>2985458455</td>\n    </tr>\n    <tr>\n      <th>1</th>\n      <td>Pop</td>\n      <td>4930</td>\n      <td>2494235976</td>\n    </tr>\n    <tr>\n      <th>2</th>\n      <td>Rap</td>\n      <td>3709</td>\n      <td>1843054863</td>\n    </tr>\n    <tr>\n      <th>3</th>\n      <td>Latino</td>\n      <td>2489</td>\n      <td>1253417813</td>\n    </tr>\n    <tr>\n      <th>4</th>\n      <td>Pop-Rock</td>\n      <td>2482</td>\n      <td>1230952047</td>\n    </tr>\n    <tr>\n      <th>5</th>\n      <td>Dance</td>\n      <td>2460</td>\n      <td>1213471819</td>\n    </tr>\n    <tr>\n      <th>6</th>\n      <td>Rock</td>\n      <td>2431</td>\n      <td>1208839731</td>\n    </tr>\n    <tr>\n      <th>7</th>\n      <td>Punk</td>\n      <td>2413</td>\n      <td>1205791976</td>\n    </tr>\n    <tr>\n      <th>8</th>\n      <td>Heavy Metal</td>\n      <td>1280</td>\n      <td>656182270</td>\n    </tr>\n    <tr>\n      <th>9</th>\n      <td>Compilation</td>\n      <td>1299</td>\n      <td>656140262</td>\n    </tr>\n    <tr>\n      <th>10</th>\n      <td>J-Rock</td>\n      <td>1253</td>\n      <td>640231764</td>\n    </tr>\n    <tr>\n      <th>11</th>\n      <td>Country</td>\n      <td>1294</td>\n      <td>638348109</td>\n    </tr>\n    <tr>\n      <th>12</th>\n      <td>Death Metal</td>\n      <td>1243</td>\n      <td>631386202</td>\n    </tr>\n    <tr>\n      <th>13</th>\n      <td>Progressive</td>\n      <td>1249</td>\n      <td>630236991</td>\n    </tr>\n    <tr>\n      <th>14</th>\n      <td>Trap</td>\n      <td>1276</td>\n      <td>624786555</td>\n    </tr>\n    <tr>\n      <th>15</th>\n      <td>Gospel</td>\n      <td>1260</td>\n      <td>624513953</td>\n    </tr>\n    <tr>\n      <th>16</th>\n      <td>Holy Metal</td>\n      <td>1249</td>\n      <td>624343872</td>\n    </tr>\n    <tr>\n      <th>17</th>\n      <td>Boy Band</td>\n      <td>1222</td>\n      <td>623412486</td>\n    </tr>\n    <tr>\n      <th>18</th>\n      <td>Techno</td>\n      <td>1235</td>\n      <td>621672669</td>\n    </tr>\n    <tr>\n      <th>19</th>\n      <td>Hard Rock</td>\n      <td>1234</td>\n      <td>621498031</td>\n    </tr>\n    <tr>\n      <th>20</th>\n      <td>Jazz</td>\n      <td>1260</td>\n      <td>616843990</td>\n    </tr>\n    <tr>\n      <th>21</th>\n      <td>Parody</td>\n      <td>1246</td>\n      <td>616807345</td>\n    </tr>\n    <tr>\n      <th>22</th>\n      <td>Folk</td>\n      <td>1211</td>\n      <td>615809917</td>\n    </tr>\n    <tr>\n      <th>23</th>\n      <td>Lounge</td>\n      <td>1225</td>\n      <td>614905677</td>\n    </tr>\n    <tr>\n      <th>24</th>\n      <td>Retro</td>\n      <td>1237</td>\n      <td>611734118</td>\n    </tr>\n    <tr>\n      <th>25</th>\n      <td>K-Pop</td>\n      <td>1259</td>\n      <td>611404822</td>\n    </tr>\n    <tr>\n      <th>26</th>\n      <td>Metal</td>\n      <td>1212</td>\n      <td>607539315</td>\n    </tr>\n    <tr>\n      <th>27</th>\n      <td>Brit-Pop</td>\n      <td>1220</td>\n      <td>606057456</td>\n    </tr>\n    <tr>\n      <th>28</th>\n      <td>Alternative</td>\n      <td>1244</td>\n      <td>604760479</td>\n    </tr>\n    <tr>\n      <th>29</th>\n      <td>Live</td>\n      <td>1234</td>\n      <td>600280593</td>\n    </tr>\n    <tr>\n      <th>30</th>\n      <td>Western</td>\n      <td>1211</td>\n      <td>597560398</td>\n    </tr>\n    <tr>\n      <th>31</th>\n      <td>Blues</td>\n      <td>1206</td>\n      <td>595462097</td>\n    </tr>\n    <tr>\n      <th>32</th>\n      <td>Electro-Pop</td>\n      <td>1186</td>\n      <td>593294700</td>\n    </tr>\n    <tr>\n      <th>33</th>\n      <td>Ambient</td>\n      <td>1194</td>\n      <td>591463848</td>\n    </tr>\n    <tr>\n      <th>34</th>\n      <td>Black Metal</td>\n      <td>1180</td>\n      <td>590952399</td>\n    </tr>\n    <tr>\n      <th>35</th>\n      <td>Deep House</td>\n      <td>1201</td>\n      <td>588272932</td>\n    </tr>\n    <tr>\n      <th>36</th>\n      <td>Indietronica</td>\n      <td>1191</td>\n      <td>586351345</td>\n    </tr>\n    <tr>\n      <th>37</th>\n      <td>Unplugged</td>\n      <td>1145</td>\n      <td>571215645</td>\n    </tr>\n  </tbody>\n</table>\n</div>"
     },
     "metadata": {}
    }
   ],
   "execution_count": null
  },
  {
   "cell_type": "code",
   "source": "# Segundo passo: Criando campo calculado (% do total de vendas)\n\ntop_ten_sales['total_sales%'] = (\n    (top_ten_sales['num_of_sales'] / sum(top_ten_sales['num_of_sales'])) * 100).round(2)\n\ntop_ten_sales.head(10)",
   "metadata": {
    "cell_id": "7b4ecb31c43f4957b29e4fc8310ea7bd",
    "tags": [],
    "deepnote_to_be_reexecuted": false,
    "source_hash": "f4446aa2",
    "execution_start": 1652720306530,
    "execution_millis": 8,
    "deepnote_cell_type": "code",
    "deepnote_cell_height": 690,
    "deepnote_output_heights": [
     611
    ]
   },
   "outputs": [
    {
     "output_type": "execute_result",
     "execution_count": 49,
     "data": {
      "application/vnd.deepnote.dataframe.v3+json": {
       "column_count": 4,
       "row_count": 10,
       "columns": [
        {
         "name": "genre",
         "dtype": "object",
         "stats": {
          "unique_count": 10,
          "nan_count": 0,
          "categories": [
           {
            "name": "Indie",
            "count": 1
           },
           {
            "name": "Pop",
            "count": 1
           },
           {
            "name": "8 others",
            "count": 8
           }
          ]
         }
        },
        {
         "name": "qty_sales",
         "dtype": "int64",
         "stats": {
          "unique_count": 10,
          "nan_count": 0,
          "min": "1280",
          "max": "5947",
          "histogram": [
           {
            "bin_start": 1280,
            "bin_end": 1746.7,
            "count": 2
           },
           {
            "bin_start": 1746.7,
            "bin_end": 2213.4,
            "count": 0
           },
           {
            "bin_start": 2213.4,
            "bin_end": 2680.1,
            "count": 5
           },
           {
            "bin_start": 2680.1,
            "bin_end": 3146.8,
            "count": 0
           },
           {
            "bin_start": 3146.8,
            "bin_end": 3613.5,
            "count": 0
           },
           {
            "bin_start": 3613.5,
            "bin_end": 4080.2,
            "count": 1
           },
           {
            "bin_start": 4080.2,
            "bin_end": 4546.9,
            "count": 0
           },
           {
            "bin_start": 4546.9,
            "bin_end": 5013.6,
            "count": 1
           },
           {
            "bin_start": 5013.6,
            "bin_end": 5480.3,
            "count": 0
           },
           {
            "bin_start": 5480.3,
            "bin_end": 5947,
            "count": 1
           }
          ]
         }
        },
        {
         "name": "num_of_sales",
         "dtype": "int64",
         "stats": {
          "unique_count": 10,
          "nan_count": 0,
          "min": "656140262",
          "max": "2985458455",
          "histogram": [
           {
            "bin_start": 656140262,
            "bin_end": 889072081.3,
            "count": 2
           },
           {
            "bin_start": 889072081.3,
            "bin_end": 1122003900.6,
            "count": 0
           },
           {
            "bin_start": 1122003900.6,
            "bin_end": 1354935719.9,
            "count": 5
           },
           {
            "bin_start": 1354935719.9,
            "bin_end": 1587867539.2,
            "count": 0
           },
           {
            "bin_start": 1587867539.2,
            "bin_end": 1820799358.5,
            "count": 0
           },
           {
            "bin_start": 1820799358.5,
            "bin_end": 2053731177.8000002,
            "count": 1
           },
           {
            "bin_start": 2053731177.8000002,
            "bin_end": 2286662997.1000004,
            "count": 0
           },
           {
            "bin_start": 2286662997.1000004,
            "bin_end": 2519594816.4,
            "count": 1
           },
           {
            "bin_start": 2519594816.4,
            "bin_end": 2752526635.7,
            "count": 0
           },
           {
            "bin_start": 2752526635.7,
            "bin_end": 2985458455,
            "count": 1
           }
          ]
         }
        },
        {
         "name": "total_sales%",
         "dtype": "float64",
         "stats": {
          "unique_count": 9,
          "nan_count": 0,
          "min": "2.06",
          "max": "9.37",
          "histogram": [
           {
            "bin_start": 2.06,
            "bin_end": 2.791,
            "count": 2
           },
           {
            "bin_start": 2.791,
            "bin_end": 3.522,
            "count": 0
           },
           {
            "bin_start": 3.522,
            "bin_end": 4.253,
            "count": 5
           },
           {
            "bin_start": 4.253,
            "bin_end": 4.984,
            "count": 0
           },
           {
            "bin_start": 4.984,
            "bin_end": 5.715,
            "count": 0
           },
           {
            "bin_start": 5.715,
            "bin_end": 6.446,
            "count": 1
           },
           {
            "bin_start": 6.446,
            "bin_end": 7.177,
            "count": 0
           },
           {
            "bin_start": 7.177,
            "bin_end": 7.9079999999999995,
            "count": 1
           },
           {
            "bin_start": 7.9079999999999995,
            "bin_end": 8.639,
            "count": 0
           },
           {
            "bin_start": 8.639,
            "bin_end": 9.37,
            "count": 1
           }
          ]
         }
        },
        {
         "name": "_deepnote_index_column",
         "dtype": "int64"
        }
       ],
       "rows": [
        {
         "genre": "Indie",
         "qty_sales": 5947,
         "num_of_sales": 2985458455,
         "total_sales%": 9.37,
         "_deepnote_index_column": 0
        },
        {
         "genre": "Pop",
         "qty_sales": 4930,
         "num_of_sales": 2494235976,
         "total_sales%": 7.83,
         "_deepnote_index_column": 1
        },
        {
         "genre": "Rap",
         "qty_sales": 3709,
         "num_of_sales": 1843054863,
         "total_sales%": 5.79,
         "_deepnote_index_column": 2
        },
        {
         "genre": "Latino",
         "qty_sales": 2489,
         "num_of_sales": 1253417813,
         "total_sales%": 3.94,
         "_deepnote_index_column": 3
        },
        {
         "genre": "Pop-Rock",
         "qty_sales": 2482,
         "num_of_sales": 1230952047,
         "total_sales%": 3.87,
         "_deepnote_index_column": 4
        },
        {
         "genre": "Dance",
         "qty_sales": 2460,
         "num_of_sales": 1213471819,
         "total_sales%": 3.81,
         "_deepnote_index_column": 5
        },
        {
         "genre": "Rock",
         "qty_sales": 2431,
         "num_of_sales": 1208839731,
         "total_sales%": 3.8,
         "_deepnote_index_column": 6
        },
        {
         "genre": "Punk",
         "qty_sales": 2413,
         "num_of_sales": 1205791976,
         "total_sales%": 3.79,
         "_deepnote_index_column": 7
        },
        {
         "genre": "Heavy Metal",
         "qty_sales": 1280,
         "num_of_sales": 656182270,
         "total_sales%": 2.06,
         "_deepnote_index_column": 8
        },
        {
         "genre": "Compilation",
         "qty_sales": 1299,
         "num_of_sales": 656140262,
         "total_sales%": 2.06,
         "_deepnote_index_column": 9
        }
       ]
      },
      "text/plain": "         genre  qty_sales  num_of_sales  total_sales%\n0        Indie       5947    2985458455          9.37\n1          Pop       4930    2494235976          7.83\n2          Rap       3709    1843054863          5.79\n3       Latino       2489    1253417813          3.94\n4     Pop-Rock       2482    1230952047          3.87\n5        Dance       2460    1213471819          3.81\n6         Rock       2431    1208839731          3.80\n7         Punk       2413    1205791976          3.79\n8  Heavy Metal       1280     656182270          2.06\n9  Compilation       1299     656140262          2.06",
      "text/html": "<div>\n<style scoped>\n    .dataframe tbody tr th:only-of-type {\n        vertical-align: middle;\n    }\n\n    .dataframe tbody tr th {\n        vertical-align: top;\n    }\n\n    .dataframe thead th {\n        text-align: right;\n    }\n</style>\n<table border=\"1\" class=\"dataframe\">\n  <thead>\n    <tr style=\"text-align: right;\">\n      <th></th>\n      <th>genre</th>\n      <th>qty_sales</th>\n      <th>num_of_sales</th>\n      <th>total_sales%</th>\n    </tr>\n  </thead>\n  <tbody>\n    <tr>\n      <th>0</th>\n      <td>Indie</td>\n      <td>5947</td>\n      <td>2985458455</td>\n      <td>9.37</td>\n    </tr>\n    <tr>\n      <th>1</th>\n      <td>Pop</td>\n      <td>4930</td>\n      <td>2494235976</td>\n      <td>7.83</td>\n    </tr>\n    <tr>\n      <th>2</th>\n      <td>Rap</td>\n      <td>3709</td>\n      <td>1843054863</td>\n      <td>5.79</td>\n    </tr>\n    <tr>\n      <th>3</th>\n      <td>Latino</td>\n      <td>2489</td>\n      <td>1253417813</td>\n      <td>3.94</td>\n    </tr>\n    <tr>\n      <th>4</th>\n      <td>Pop-Rock</td>\n      <td>2482</td>\n      <td>1230952047</td>\n      <td>3.87</td>\n    </tr>\n    <tr>\n      <th>5</th>\n      <td>Dance</td>\n      <td>2460</td>\n      <td>1213471819</td>\n      <td>3.81</td>\n    </tr>\n    <tr>\n      <th>6</th>\n      <td>Rock</td>\n      <td>2431</td>\n      <td>1208839731</td>\n      <td>3.80</td>\n    </tr>\n    <tr>\n      <th>7</th>\n      <td>Punk</td>\n      <td>2413</td>\n      <td>1205791976</td>\n      <td>3.79</td>\n    </tr>\n    <tr>\n      <th>8</th>\n      <td>Heavy Metal</td>\n      <td>1280</td>\n      <td>656182270</td>\n      <td>2.06</td>\n    </tr>\n    <tr>\n      <th>9</th>\n      <td>Compilation</td>\n      <td>1299</td>\n      <td>656140262</td>\n      <td>2.06</td>\n    </tr>\n  </tbody>\n</table>\n</div>"
     },
     "metadata": {}
    }
   ],
   "execution_count": null
  },
  {
   "cell_type": "markdown",
   "source": "### 8) Quais os gêneros com as melhores avaliações pela Rolling Stone? E quais os piores?",
   "metadata": {
    "tags": [],
    "cell_id": "00025-bb86afbf-96d2-4beb-872d-27f74ecc00b6",
    "deepnote_cell_type": "markdown",
    "deepnote_cell_height": 94
   }
  },
  {
   "cell_type": "code",
   "metadata": {
    "tags": [],
    "cell_id": "00024-a7525dde-4c9e-4ef2-be91-11709731c446",
    "deepnote_to_be_reexecuted": false,
    "source_hash": "9cc10fe0",
    "execution_start": 1652724253697,
    "execution_millis": 69,
    "deepnote_cell_type": "code",
    "deepnote_cell_height": 485,
    "deepnote_output_heights": [
     322
    ]
   },
   "source": "# 5 melhores avaliações pela média\n\nratings = albums_df.groupby('genre').agg({'rolling_stone_critic': 'mean'}\n    ).sort_values(by='rolling_stone_critic', ascending=False).round(3)\n\nratings.head()",
   "execution_count": 2,
   "outputs": [
    {
     "output_type": "execute_result",
     "execution_count": 2,
     "data": {
      "application/vnd.deepnote.dataframe.v3+json": {
       "column_count": 1,
       "row_count": 5,
       "columns": [
        {
         "name": "rolling_stone_critic",
         "dtype": "float64",
         "stats": {
          "unique_count": 5,
          "nan_count": 0,
          "min": "2.791",
          "max": "2.803",
          "histogram": [
           {
            "bin_start": 2.791,
            "bin_end": 2.7922,
            "count": 1
           },
           {
            "bin_start": 2.7922,
            "bin_end": 2.7934,
            "count": 0
           },
           {
            "bin_start": 2.7934,
            "bin_end": 2.7946,
            "count": 0
           },
           {
            "bin_start": 2.7946,
            "bin_end": 2.7958,
            "count": 0
           },
           {
            "bin_start": 2.7958,
            "bin_end": 2.7969999999999997,
            "count": 0
           },
           {
            "bin_start": 2.7969999999999997,
            "bin_end": 2.7982,
            "count": 1
           },
           {
            "bin_start": 2.7982,
            "bin_end": 2.7994,
            "count": 1
           },
           {
            "bin_start": 2.7994,
            "bin_end": 2.8005999999999998,
            "count": 0
           },
           {
            "bin_start": 2.8005999999999998,
            "bin_end": 2.8018,
            "count": 1
           },
           {
            "bin_start": 2.8018,
            "bin_end": 2.803,
            "count": 1
           }
          ]
         }
        },
        {
         "name": "_deepnote_index_column",
         "dtype": "object"
        }
       ],
       "rows": [
        {
         "rolling_stone_critic": 2.803,
         "_deepnote_index_column": "Rap"
        },
        {
         "rolling_stone_critic": 2.801,
         "_deepnote_index_column": "K-Pop"
        },
        {
         "rolling_stone_critic": 2.799,
         "_deepnote_index_column": "Folk"
        },
        {
         "rolling_stone_critic": 2.797,
         "_deepnote_index_column": "Electro-Pop"
        },
        {
         "rolling_stone_critic": 2.791,
         "_deepnote_index_column": "Blues"
        }
       ]
      },
      "text/plain": "             rolling_stone_critic\ngenre                            \nRap                         2.803\nK-Pop                       2.801\nFolk                        2.799\nElectro-Pop                 2.797\nBlues                       2.791",
      "text/html": "<div>\n<style scoped>\n    .dataframe tbody tr th:only-of-type {\n        vertical-align: middle;\n    }\n\n    .dataframe tbody tr th {\n        vertical-align: top;\n    }\n\n    .dataframe thead th {\n        text-align: right;\n    }\n</style>\n<table border=\"1\" class=\"dataframe\">\n  <thead>\n    <tr style=\"text-align: right;\">\n      <th></th>\n      <th>rolling_stone_critic</th>\n    </tr>\n    <tr>\n      <th>genre</th>\n      <th></th>\n    </tr>\n  </thead>\n  <tbody>\n    <tr>\n      <th>Rap</th>\n      <td>2.803</td>\n    </tr>\n    <tr>\n      <th>K-Pop</th>\n      <td>2.801</td>\n    </tr>\n    <tr>\n      <th>Folk</th>\n      <td>2.799</td>\n    </tr>\n    <tr>\n      <th>Electro-Pop</th>\n      <td>2.797</td>\n    </tr>\n    <tr>\n      <th>Blues</th>\n      <td>2.791</td>\n    </tr>\n  </tbody>\n</table>\n</div>"
     },
     "metadata": {}
    }
   ]
  },
  {
   "cell_type": "code",
   "metadata": {
    "tags": [],
    "cell_id": "00026-470b0a00-a16d-479f-bad4-422ace9e4f52",
    "deepnote_to_be_reexecuted": false,
    "source_hash": "6eded02f",
    "execution_start": 1652724265187,
    "execution_millis": 6,
    "deepnote_cell_type": "code",
    "deepnote_cell_height": 431,
    "deepnote_output_heights": [
     322
    ]
   },
   "source": "# 5 piores avaliações pela média\n\nratings.sort_values(by='rolling_stone_critic').head()",
   "execution_count": 3,
   "outputs": [
    {
     "output_type": "execute_result",
     "execution_count": 3,
     "data": {
      "application/vnd.deepnote.dataframe.v3+json": {
       "column_count": 1,
       "row_count": 5,
       "columns": [
        {
         "name": "rolling_stone_critic",
         "dtype": "float64",
         "stats": {
          "unique_count": 4,
          "nan_count": 0,
          "min": "2.637",
          "max": "2.683",
          "histogram": [
           {
            "bin_start": 2.637,
            "bin_end": 2.6416,
            "count": 1
           },
           {
            "bin_start": 2.6416,
            "bin_end": 2.6462,
            "count": 0
           },
           {
            "bin_start": 2.6462,
            "bin_end": 2.6508,
            "count": 1
           },
           {
            "bin_start": 2.6508,
            "bin_end": 2.6553999999999998,
            "count": 0
           },
           {
            "bin_start": 2.6553999999999998,
            "bin_end": 2.66,
            "count": 0
           },
           {
            "bin_start": 2.66,
            "bin_end": 2.6646,
            "count": 0
           },
           {
            "bin_start": 2.6646,
            "bin_end": 2.6692,
            "count": 0
           },
           {
            "bin_start": 2.6692,
            "bin_end": 2.6738,
            "count": 0
           },
           {
            "bin_start": 2.6738,
            "bin_end": 2.6784,
            "count": 2
           },
           {
            "bin_start": 2.6784,
            "bin_end": 2.683,
            "count": 1
           }
          ]
         }
        },
        {
         "name": "_deepnote_index_column",
         "dtype": "object"
        }
       ],
       "rows": [
        {
         "rolling_stone_critic": 2.637,
         "_deepnote_index_column": "Techno"
        },
        {
         "rolling_stone_critic": 2.647,
         "_deepnote_index_column": "Brit-Pop"
        },
        {
         "rolling_stone_critic": 2.677,
         "_deepnote_index_column": "Retro"
        },
        {
         "rolling_stone_critic": 2.677,
         "_deepnote_index_column": "J-Rock"
        },
        {
         "rolling_stone_critic": 2.683,
         "_deepnote_index_column": "Black Metal"
        }
       ]
      },
      "text/plain": "             rolling_stone_critic\ngenre                            \nTechno                      2.637\nBrit-Pop                    2.647\nRetro                       2.677\nJ-Rock                      2.677\nBlack Metal                 2.683",
      "text/html": "<div>\n<style scoped>\n    .dataframe tbody tr th:only-of-type {\n        vertical-align: middle;\n    }\n\n    .dataframe tbody tr th {\n        vertical-align: top;\n    }\n\n    .dataframe thead th {\n        text-align: right;\n    }\n</style>\n<table border=\"1\" class=\"dataframe\">\n  <thead>\n    <tr style=\"text-align: right;\">\n      <th></th>\n      <th>rolling_stone_critic</th>\n    </tr>\n    <tr>\n      <th>genre</th>\n      <th></th>\n    </tr>\n  </thead>\n  <tbody>\n    <tr>\n      <th>Techno</th>\n      <td>2.637</td>\n    </tr>\n    <tr>\n      <th>Brit-Pop</th>\n      <td>2.647</td>\n    </tr>\n    <tr>\n      <th>Retro</th>\n      <td>2.677</td>\n    </tr>\n    <tr>\n      <th>J-Rock</th>\n      <td>2.677</td>\n    </tr>\n    <tr>\n      <th>Black Metal</th>\n      <td>2.683</td>\n    </tr>\n  </tbody>\n</table>\n</div>"
     },
     "metadata": {}
    }
   ]
  },
  {
   "cell_type": "markdown",
   "source": "### 9) Quais os artistas de maior sucesso comercial? E de sucesso da crítica especializada?",
   "metadata": {
    "tags": [],
    "cell_id": "00027-75c1c208-a215-4539-a339-d880a721159c",
    "deepnote_cell_type": "markdown",
    "deepnote_cell_height": 94
   }
  },
  {
   "cell_type": "code",
   "source": "# Agrupamento pelo artist_id, usando-o como índice; df com nº de vendas e média da crítica\ndf = albums_df.groupby(['artist_id']).agg({'num_of_sales': 'sum', 'rolling_stone_critic':'mean'})\n\n# Novo df com base no artists_df, que tem id como índice (para fazer join na sequencia)\nartistas = artists_df.set_index('id').loc[:, ['real_name', 'art_name']]\n\n# Criação da coluna 'artista' que contém o nome artístico; caso vazio é preenchido com o nome real\nartistas['artista'] = artistas['art_name'].fillna(artistas['real_name'])\n\n# join dos df; basea-se no índice para unir\nartistas = df.join(artistas['artista'])\n\n# Os 5 artistas de maior sucesso comercial\nartistas.iloc[:, [2, 0]].sort_values(by='num_of_sales', ascending=False).head()",
   "metadata": {
    "cell_id": "e21eadc1a401479a9885c761f5876efb",
    "tags": [],
    "deepnote_to_be_reexecuted": false,
    "source_hash": "27e13499",
    "execution_start": 1652725705217,
    "execution_millis": 44,
    "deepnote_cell_type": "code",
    "deepnote_cell_height": 629
   },
   "outputs": [
    {
     "output_type": "execute_result",
     "execution_count": 16,
     "data": {
      "application/vnd.deepnote.dataframe.v3+json": {
       "column_count": 2,
       "row_count": 5,
       "columns": [
        {
         "name": "artista",
         "dtype": "object",
         "stats": {
          "unique_count": 5,
          "nan_count": 0,
          "categories": [
           {
            "name": "Kim Hays",
            "count": 1
           },
           {
            "name": "Traditional price Difficult former",
            "count": 1
           },
           {
            "name": "3 others",
            "count": 3
           }
          ]
         }
        },
        {
         "name": "num_of_sales",
         "dtype": "int64",
         "stats": {
          "unique_count": 5,
          "nan_count": 0,
          "min": "5267296",
          "max": "6267844",
          "histogram": [
           {
            "bin_start": 5267296,
            "bin_end": 5367350.8,
            "count": 1
           },
           {
            "bin_start": 5367350.8,
            "bin_end": 5467405.6,
            "count": 0
           },
           {
            "bin_start": 5467405.6,
            "bin_end": 5567460.4,
            "count": 0
           },
           {
            "bin_start": 5567460.4,
            "bin_end": 5667515.2,
            "count": 2
           },
           {
            "bin_start": 5667515.2,
            "bin_end": 5767570,
            "count": 0
           },
           {
            "bin_start": 5767570,
            "bin_end": 5867624.8,
            "count": 0
           },
           {
            "bin_start": 5867624.8,
            "bin_end": 5967679.6,
            "count": 0
           },
           {
            "bin_start": 5967679.6,
            "bin_end": 6067734.4,
            "count": 0
           },
           {
            "bin_start": 6067734.4,
            "bin_end": 6167789.2,
            "count": 1
           },
           {
            "bin_start": 6167789.2,
            "bin_end": 6267844,
            "count": 1
           }
          ]
         }
        },
        {
         "name": "_deepnote_index_column",
         "dtype": "int64"
        }
       ],
       "rows": [
        {
         "artista": "Kim Hays",
         "num_of_sales": 6267844,
         "_deepnote_index_column": 11290
        },
        {
         "artista": "Traditional price Difficult former",
         "num_of_sales": 6072907,
         "_deepnote_index_column": 33896
        },
        {
         "artista": "Bunbury Invention Leif",
         "num_of_sales": 5643206,
         "_deepnote_index_column": 44614
        },
        {
         "artista": "Remarkable Gentle",
         "num_of_sales": 5573891,
         "_deepnote_index_column": 7889
        },
        {
         "artista": "Ibuprofen Believe Dispotix",
         "num_of_sales": 5267296,
         "_deepnote_index_column": 27648
        }
       ]
      },
      "text/plain": "                                      artista  num_of_sales\nartist_id                                                  \n11290                                Kim Hays       6267844\n33896      Traditional price Difficult former       6072907\n44614                  Bunbury Invention Leif       5643206\n7889                        Remarkable Gentle       5573891\n27648              Ibuprofen Believe Dispotix       5267296",
      "text/html": "<div>\n<style scoped>\n    .dataframe tbody tr th:only-of-type {\n        vertical-align: middle;\n    }\n\n    .dataframe tbody tr th {\n        vertical-align: top;\n    }\n\n    .dataframe thead th {\n        text-align: right;\n    }\n</style>\n<table border=\"1\" class=\"dataframe\">\n  <thead>\n    <tr style=\"text-align: right;\">\n      <th></th>\n      <th>artista</th>\n      <th>num_of_sales</th>\n    </tr>\n    <tr>\n      <th>artist_id</th>\n      <th></th>\n      <th></th>\n    </tr>\n  </thead>\n  <tbody>\n    <tr>\n      <th>11290</th>\n      <td>Kim Hays</td>\n      <td>6267844</td>\n    </tr>\n    <tr>\n      <th>33896</th>\n      <td>Traditional price Difficult former</td>\n      <td>6072907</td>\n    </tr>\n    <tr>\n      <th>44614</th>\n      <td>Bunbury Invention Leif</td>\n      <td>5643206</td>\n    </tr>\n    <tr>\n      <th>7889</th>\n      <td>Remarkable Gentle</td>\n      <td>5573891</td>\n    </tr>\n    <tr>\n      <th>27648</th>\n      <td>Ibuprofen Believe Dispotix</td>\n      <td>5267296</td>\n    </tr>\n  </tbody>\n</table>\n</div>"
     },
     "metadata": {}
    }
   ],
   "execution_count": 16
  },
  {
   "cell_type": "code",
   "source": "# Os 5 artistas de maior sucesso da crítica\n\nartistas.iloc[:, [2, 1]].sort_values(by='rolling_stone_critic', ascending=False).head()",
   "metadata": {
    "cell_id": "211933b74a204f7c8b8e7d3b4b463a3f",
    "tags": [],
    "deepnote_to_be_reexecuted": false,
    "source_hash": "4d146aa9",
    "execution_start": 1652727553434,
    "execution_millis": 18,
    "deepnote_cell_type": "code",
    "deepnote_cell_height": 431
   },
   "outputs": [
    {
     "output_type": "execute_result",
     "execution_count": 28,
     "data": {
      "application/vnd.deepnote.dataframe.v3+json": {
       "column_count": 2,
       "row_count": 5,
       "columns": [
        {
         "name": "artista",
         "dtype": "object",
         "stats": {
          "unique_count": 5,
          "nan_count": 0,
          "categories": [
           {
            "name": "Ted Read",
            "count": 1
           },
           {
            "name": "Taylos Reporter",
            "count": 1
           },
           {
            "name": "3 others",
            "count": 3
           }
          ]
         }
        },
        {
         "name": "rolling_stone_critic",
         "dtype": "float64",
         "stats": {
          "unique_count": 1,
          "nan_count": 0,
          "min": "5.0",
          "max": "5.0",
          "histogram": [
           {
            "bin_start": 4.5,
            "bin_end": 4.6,
            "count": 0
           },
           {
            "bin_start": 4.6,
            "bin_end": 4.7,
            "count": 0
           },
           {
            "bin_start": 4.7,
            "bin_end": 4.8,
            "count": 0
           },
           {
            "bin_start": 4.8,
            "bin_end": 4.9,
            "count": 0
           },
           {
            "bin_start": 4.9,
            "bin_end": 5,
            "count": 0
           },
           {
            "bin_start": 5,
            "bin_end": 5.1,
            "count": 5
           },
           {
            "bin_start": 5.1,
            "bin_end": 5.2,
            "count": 0
           },
           {
            "bin_start": 5.2,
            "bin_end": 5.3,
            "count": 0
           },
           {
            "bin_start": 5.3,
            "bin_end": 5.4,
            "count": 0
           },
           {
            "bin_start": 5.4,
            "bin_end": 5.5,
            "count": 0
           }
          ]
         }
        },
        {
         "name": "_deepnote_index_column",
         "dtype": "int64"
        }
       ],
       "rows": [
        {
         "artista": "Ted Read",
         "rolling_stone_critic": 5,
         "_deepnote_index_column": 27527
        },
        {
         "artista": "Taylos Reporter",
         "rolling_stone_critic": 5,
         "_deepnote_index_column": 48116
        },
        {
         "artista": "Omega Potassium",
         "rolling_stone_critic": 5,
         "_deepnote_index_column": 7101
        },
        {
         "artista": "Crestor Believe alleged",
         "rolling_stone_critic": 5,
         "_deepnote_index_column": 23761
        },
        {
         "artista": "Suspend Polish Terrible impossible",
         "rolling_stone_critic": 5,
         "_deepnote_index_column": 23708
        }
       ]
      },
      "text/plain": "                                      artista  rolling_stone_critic\nartist_id                                                          \n27527                                Ted Read                   5.0\n48116                         Taylos Reporter                   5.0\n7101                          Omega Potassium                   5.0\n23761                 Crestor Believe alleged                   5.0\n23708      Suspend Polish Terrible impossible                   5.0",
      "text/html": "<div>\n<style scoped>\n    .dataframe tbody tr th:only-of-type {\n        vertical-align: middle;\n    }\n\n    .dataframe tbody tr th {\n        vertical-align: top;\n    }\n\n    .dataframe thead th {\n        text-align: right;\n    }\n</style>\n<table border=\"1\" class=\"dataframe\">\n  <thead>\n    <tr style=\"text-align: right;\">\n      <th></th>\n      <th>artista</th>\n      <th>rolling_stone_critic</th>\n    </tr>\n    <tr>\n      <th>artist_id</th>\n      <th></th>\n      <th></th>\n    </tr>\n  </thead>\n  <tbody>\n    <tr>\n      <th>27527</th>\n      <td>Ted Read</td>\n      <td>5.0</td>\n    </tr>\n    <tr>\n      <th>48116</th>\n      <td>Taylos Reporter</td>\n      <td>5.0</td>\n    </tr>\n    <tr>\n      <th>7101</th>\n      <td>Omega Potassium</td>\n      <td>5.0</td>\n    </tr>\n    <tr>\n      <th>23761</th>\n      <td>Crestor Believe alleged</td>\n      <td>5.0</td>\n    </tr>\n    <tr>\n      <th>23708</th>\n      <td>Suspend Polish Terrible impossible</td>\n      <td>5.0</td>\n    </tr>\n  </tbody>\n</table>\n</div>"
     },
     "metadata": {}
    }
   ],
   "execution_count": 28
  },
  {
   "cell_type": "markdown",
   "source": "### 10) Se tivéssemos que não renovar o contrato dos 20% artistas com pior desempenho na crítica, quanto estaríamos arriscando de vendas?",
   "metadata": {
    "tags": [],
    "cell_id": "00030-19a925cb-3ab4-4d73-902f-d4aa6c421a20",
    "deepnote_cell_type": "markdown",
    "deepnote_cell_height": 94
   }
  },
  {
   "cell_type": "code",
   "source": "print(artists_df.columns)\nprint(albums_df.columns)",
   "metadata": {
    "cell_id": "9062d6b43451410db7a784b1790c01e8",
    "tags": [],
    "deepnote_to_be_reexecuted": false,
    "source_hash": "96a33cc4",
    "execution_start": 1652727061937,
    "execution_millis": 1,
    "deepnote_cell_type": "code",
    "deepnote_cell_height": 270
   },
   "outputs": [
    {
     "name": "stdout",
     "text": "Index(['id', 'real_name', 'art_name', 'role', 'year_of_birth', 'country',\n       'city', 'email', 'zip_code', 'first_release', 'latest_release',\n       'released_albums'],\n      dtype='object')\nIndex(['id', 'artist_id', 'album_title', 'genre', 'year_of_pub',\n       'num_of_tracks', 'num_of_sales', 'rolling_stone_critic', 'mtv_critic',\n       'music_maniac_critic'],\n      dtype='object')\n",
     "output_type": "stream"
    }
   ],
   "execution_count": 24
  },
  {
   "cell_type": "markdown",
   "source": "As colunas desnecessárias serão removidas e a união dos datasets será feita pela coluna 'id'.",
   "metadata": {
    "cell_id": "e17d765cddc54f72b1e997a181d7a5e3",
    "tags": [],
    "is_collapsed": false,
    "deepnote_cell_type": "text-cell-p"
   }
  },
  {
   "cell_type": "code",
   "metadata": {
    "tags": [],
    "cell_id": "00030-1107676b-1233-4d88-8e42-bb18521855a4",
    "deepnote_to_be_reexecuted": false,
    "source_hash": "2a8136bd",
    "execution_start": 1652728175160,
    "execution_millis": 6,
    "deepnote_cell_type": "code",
    "deepnote_cell_height": 189,
    "deepnote_output_heights": [
     21.1875
    ]
   },
   "source": "# Filtro das colunas desnecessárias de ambas as tabelas antes de fazer união delas\n\nart = artists_df.drop(columns=['year_of_birth', 'role',\n    'country', 'city','first_release', 'latest_release', 'email', 'zip_code'])\n\nalb = albums_df.drop(columns=['artist_id', 'album_title', 'genre', 'num_of_tracks', 'year_of_pub'])\n",
   "execution_count": 33,
   "outputs": []
  },
  {
   "cell_type": "code",
   "source": "alb['all_critics'] = (\n    (alb['rolling_stone_critic'] + alb['mtv_critic'] + alb['music_maniac_critic']) / 3).round(3)\n\nalb.head()",
   "metadata": {
    "cell_id": "dffb12a8aa504c47a646fbf462c8b7c4",
    "tags": [],
    "deepnote_to_be_reexecuted": false,
    "source_hash": "68161034",
    "execution_start": 1652728811053,
    "execution_millis": 19,
    "deepnote_cell_type": "code",
    "deepnote_cell_height": 449
   },
   "outputs": [
    {
     "output_type": "execute_result",
     "execution_count": 41,
     "data": {
      "application/vnd.deepnote.dataframe.v3+json": {
       "column_count": 6,
       "row_count": 5,
       "columns": [
        {
         "name": "id",
         "dtype": "int64",
         "stats": {
          "unique_count": 5,
          "nan_count": 0,
          "min": "1",
          "max": "6",
          "histogram": [
           {
            "bin_start": 1,
            "bin_end": 1.5,
            "count": 1
           },
           {
            "bin_start": 1.5,
            "bin_end": 2,
            "count": 0
           },
           {
            "bin_start": 2,
            "bin_end": 2.5,
            "count": 1
           },
           {
            "bin_start": 2.5,
            "bin_end": 3,
            "count": 0
           },
           {
            "bin_start": 3,
            "bin_end": 3.5,
            "count": 0
           },
           {
            "bin_start": 3.5,
            "bin_end": 4,
            "count": 0
           },
           {
            "bin_start": 4,
            "bin_end": 4.5,
            "count": 1
           },
           {
            "bin_start": 4.5,
            "bin_end": 5,
            "count": 0
           },
           {
            "bin_start": 5,
            "bin_end": 5.5,
            "count": 1
           },
           {
            "bin_start": 5.5,
            "bin_end": 6,
            "count": 1
           }
          ]
         }
        },
        {
         "name": "num_of_sales",
         "dtype": "int64",
         "stats": {
          "unique_count": 5,
          "nan_count": 0,
          "min": "151111",
          "max": "969122",
          "histogram": [
           {
            "bin_start": 151111,
            "bin_end": 232912.1,
            "count": 1
           },
           {
            "bin_start": 232912.1,
            "bin_end": 314713.2,
            "count": 0
           },
           {
            "bin_start": 314713.2,
            "bin_end": 396514.30000000005,
            "count": 0
           },
           {
            "bin_start": 396514.30000000005,
            "bin_end": 478315.4,
            "count": 0
           },
           {
            "bin_start": 478315.4,
            "bin_end": 560116.5,
            "count": 1
           },
           {
            "bin_start": 560116.5,
            "bin_end": 641917.6000000001,
            "count": 1
           },
           {
            "bin_start": 641917.6000000001,
            "bin_end": 723718.7000000001,
            "count": 0
           },
           {
            "bin_start": 723718.7000000001,
            "bin_end": 805519.8,
            "count": 0
           },
           {
            "bin_start": 805519.8,
            "bin_end": 887320.9,
            "count": 0
           },
           {
            "bin_start": 887320.9,
            "bin_end": 969122,
            "count": 2
           }
          ]
         }
        },
        {
         "name": "rolling_stone_critic",
         "dtype": "float64",
         "stats": {
          "unique_count": 4,
          "nan_count": 0,
          "min": "1.5",
          "max": "4.5",
          "histogram": [
           {
            "bin_start": 1.5,
            "bin_end": 1.8,
            "count": 1
           },
           {
            "bin_start": 1.8,
            "bin_end": 2.1,
            "count": 0
           },
           {
            "bin_start": 2.1,
            "bin_end": 2.4,
            "count": 0
           },
           {
            "bin_start": 2.4,
            "bin_end": 2.7,
            "count": 0
           },
           {
            "bin_start": 2.7,
            "bin_end": 3,
            "count": 0
           },
           {
            "bin_start": 3,
            "bin_end": 3.3,
            "count": 1
           },
           {
            "bin_start": 3.3,
            "bin_end": 3.6,
            "count": 0
           },
           {
            "bin_start": 3.6,
            "bin_end": 3.9,
            "count": 0
           },
           {
            "bin_start": 3.9,
            "bin_end": 4.199999999999999,
            "count": 1
           },
           {
            "bin_start": 4.199999999999999,
            "bin_end": 4.5,
            "count": 2
           }
          ]
         }
        },
        {
         "name": "mtv_critic",
         "dtype": "float64",
         "stats": {
          "unique_count": 4,
          "nan_count": 0,
          "min": "1.5",
          "max": "4.0",
          "histogram": [
           {
            "bin_start": 1.5,
            "bin_end": 1.75,
            "count": 2
           },
           {
            "bin_start": 1.75,
            "bin_end": 2,
            "count": 0
           },
           {
            "bin_start": 2,
            "bin_end": 2.25,
            "count": 1
           },
           {
            "bin_start": 2.25,
            "bin_end": 2.5,
            "count": 0
           },
           {
            "bin_start": 2.5,
            "bin_end": 2.75,
            "count": 1
           },
           {
            "bin_start": 2.75,
            "bin_end": 3,
            "count": 0
           },
           {
            "bin_start": 3,
            "bin_end": 3.25,
            "count": 0
           },
           {
            "bin_start": 3.25,
            "bin_end": 3.5,
            "count": 0
           },
           {
            "bin_start": 3.5,
            "bin_end": 3.75,
            "count": 0
           },
           {
            "bin_start": 3.75,
            "bin_end": 4,
            "count": 1
           }
          ]
         }
        },
        {
         "name": "music_maniac_critic",
         "dtype": "float64",
         "stats": {
          "unique_count": 5,
          "nan_count": 0,
          "min": "1.0",
          "max": "5.0",
          "histogram": [
           {
            "bin_start": 1,
            "bin_end": 1.4,
            "count": 1
           },
           {
            "bin_start": 1.4,
            "bin_end": 1.8,
            "count": 0
           },
           {
            "bin_start": 1.8,
            "bin_end": 2.2,
            "count": 1
           },
           {
            "bin_start": 2.2,
            "bin_end": 2.6,
            "count": 0
           },
           {
            "bin_start": 2.6,
            "bin_end": 3,
            "count": 0
           },
           {
            "bin_start": 3,
            "bin_end": 3.4000000000000004,
            "count": 1
           },
           {
            "bin_start": 3.4000000000000004,
            "bin_end": 3.8000000000000003,
            "count": 0
           },
           {
            "bin_start": 3.8000000000000003,
            "bin_end": 4.2,
            "count": 1
           },
           {
            "bin_start": 4.2,
            "bin_end": 4.6,
            "count": 0
           },
           {
            "bin_start": 4.6,
            "bin_end": 5,
            "count": 1
           }
          ]
         }
        },
        {
         "name": "all_critics",
         "dtype": "float64",
         "stats": {
          "unique_count": 4,
          "nan_count": 0,
          "min": "2.5",
          "max": "4.0",
          "histogram": [
           {
            "bin_start": 2.5,
            "bin_end": 2.65,
            "count": 1
           },
           {
            "bin_start": 2.65,
            "bin_end": 2.8,
            "count": 2
           },
           {
            "bin_start": 2.8,
            "bin_end": 2.95,
            "count": 1
           },
           {
            "bin_start": 2.95,
            "bin_end": 3.1,
            "count": 0
           },
           {
            "bin_start": 3.1,
            "bin_end": 3.25,
            "count": 0
           },
           {
            "bin_start": 3.25,
            "bin_end": 3.4,
            "count": 0
           },
           {
            "bin_start": 3.4,
            "bin_end": 3.55,
            "count": 0
           },
           {
            "bin_start": 3.55,
            "bin_end": 3.7,
            "count": 0
           },
           {
            "bin_start": 3.7,
            "bin_end": 3.8499999999999996,
            "count": 0
           },
           {
            "bin_start": 3.8499999999999996,
            "bin_end": 4,
            "count": 1
           }
          ]
         }
        },
        {
         "name": "_deepnote_index_column",
         "dtype": "int64"
        }
       ],
       "rows": [
        {
         "id": 1,
         "num_of_sales": 905193,
         "rolling_stone_critic": 4,
         "mtv_critic": 1.5,
         "music_maniac_critic": 3,
         "all_critics": 2.833,
         "_deepnote_index_column": 0
        },
        {
         "id": 2,
         "num_of_sales": 969122,
         "rolling_stone_critic": 3,
         "mtv_critic": 4,
         "music_maniac_critic": 5,
         "all_critics": 4,
         "_deepnote_index_column": 1
        },
        {
         "id": 4,
         "num_of_sales": 610116,
         "rolling_stone_critic": 1.5,
         "mtv_critic": 2,
         "music_maniac_critic": 4,
         "all_critics": 2.5,
         "_deepnote_index_column": 2
        },
        {
         "id": 5,
         "num_of_sales": 151111,
         "rolling_stone_critic": 4.5,
         "mtv_critic": 2.5,
         "music_maniac_critic": 1,
         "all_critics": 2.667,
         "_deepnote_index_column": 3
        },
        {
         "id": 6,
         "num_of_sales": 537615,
         "rolling_stone_critic": 4.5,
         "mtv_critic": 1.5,
         "music_maniac_critic": 2,
         "all_critics": 2.667,
         "_deepnote_index_column": 4
        }
       ]
      },
      "text/plain": "   id  num_of_sales  rolling_stone_critic  mtv_critic  music_maniac_critic  \\\n0   1        905193                   4.0         1.5                  3.0   \n1   2        969122                   3.0         4.0                  5.0   \n2   4        610116                   1.5         2.0                  4.0   \n3   5        151111                   4.5         2.5                  1.0   \n4   6        537615                   4.5         1.5                  2.0   \n\n   all_critics  \n0        2.833  \n1        4.000  \n2        2.500  \n3        2.667  \n4        2.667  ",
      "text/html": "<div>\n<style scoped>\n    .dataframe tbody tr th:only-of-type {\n        vertical-align: middle;\n    }\n\n    .dataframe tbody tr th {\n        vertical-align: top;\n    }\n\n    .dataframe thead th {\n        text-align: right;\n    }\n</style>\n<table border=\"1\" class=\"dataframe\">\n  <thead>\n    <tr style=\"text-align: right;\">\n      <th></th>\n      <th>id</th>\n      <th>num_of_sales</th>\n      <th>rolling_stone_critic</th>\n      <th>mtv_critic</th>\n      <th>music_maniac_critic</th>\n      <th>all_critics</th>\n    </tr>\n  </thead>\n  <tbody>\n    <tr>\n      <th>0</th>\n      <td>1</td>\n      <td>905193</td>\n      <td>4.0</td>\n      <td>1.5</td>\n      <td>3.0</td>\n      <td>2.833</td>\n    </tr>\n    <tr>\n      <th>1</th>\n      <td>2</td>\n      <td>969122</td>\n      <td>3.0</td>\n      <td>4.0</td>\n      <td>5.0</td>\n      <td>4.000</td>\n    </tr>\n    <tr>\n      <th>2</th>\n      <td>4</td>\n      <td>610116</td>\n      <td>1.5</td>\n      <td>2.0</td>\n      <td>4.0</td>\n      <td>2.500</td>\n    </tr>\n    <tr>\n      <th>3</th>\n      <td>5</td>\n      <td>151111</td>\n      <td>4.5</td>\n      <td>2.5</td>\n      <td>1.0</td>\n      <td>2.667</td>\n    </tr>\n    <tr>\n      <th>4</th>\n      <td>6</td>\n      <td>537615</td>\n      <td>4.5</td>\n      <td>1.5</td>\n      <td>2.0</td>\n      <td>2.667</td>\n    </tr>\n  </tbody>\n</table>\n</div>"
     },
     "metadata": {}
    }
   ],
   "execution_count": 41
  },
  {
   "cell_type": "code",
   "metadata": {
    "tags": [],
    "cell_id": "00032-80cdaa6f-79de-4f3a-90a7-b7ad139dc700",
    "deepnote_to_be_reexecuted": false,
    "source_hash": "dc848e4c",
    "execution_start": 1652728288077,
    "execution_millis": 48,
    "deepnote_cell_type": "code",
    "deepnote_cell_height": 465.796875,
    "deepnote_output_heights": [
     177
    ]
   },
   "source": "# O resultado após o merge é uma tabela mais compacta\n\ndf_m = art.merge(alb, on='id')\ndf_m.head()",
   "execution_count": 36,
   "outputs": [
    {
     "output_type": "execute_result",
     "execution_count": 36,
     "data": {
      "application/vnd.deepnote.dataframe.v3+json": {
       "column_count": 9,
       "row_count": 5,
       "columns": [
        {
         "name": "id",
         "dtype": "int64",
         "stats": {
          "unique_count": 5,
          "nan_count": 0,
          "min": "1",
          "max": "7",
          "histogram": [
           {
            "bin_start": 1,
            "bin_end": 1.6,
            "count": 1
           },
           {
            "bin_start": 1.6,
            "bin_end": 2.2,
            "count": 1
           },
           {
            "bin_start": 2.2,
            "bin_end": 2.8,
            "count": 0
           },
           {
            "bin_start": 2.8,
            "bin_end": 3.4,
            "count": 0
           },
           {
            "bin_start": 3.4,
            "bin_end": 4,
            "count": 0
           },
           {
            "bin_start": 4,
            "bin_end": 4.6,
            "count": 0
           },
           {
            "bin_start": 4.6,
            "bin_end": 5.2,
            "count": 1
           },
           {
            "bin_start": 5.2,
            "bin_end": 5.8,
            "count": 0
           },
           {
            "bin_start": 5.8,
            "bin_end": 6.3999999999999995,
            "count": 1
           },
           {
            "bin_start": 6.3999999999999995,
            "bin_end": 7,
            "count": 1
           }
          ]
         }
        },
        {
         "name": "real_name",
         "dtype": "object",
         "stats": {
          "unique_count": 5,
          "nan_count": 0,
          "categories": [
           {
            "name": "Kameko Nelson",
            "count": 1
           },
           {
            "name": "Sacha Cameron",
            "count": 1
           },
           {
            "name": "3 others",
            "count": 3
           }
          ]
         }
        },
        {
         "name": "art_name",
         "dtype": "object",
         "stats": {
          "unique_count": 4,
          "nan_count": 1,
          "categories": [
           {
            "name": "Bianco Ibureno Chloride",
            "count": 1
           },
           {
            "name": "3 others",
            "count": 3
           },
           {
            "name": "Missing",
            "count": 1
           }
          ]
         }
        },
        {
         "name": "released_albums",
         "dtype": "int64",
         "stats": {
          "unique_count": 3,
          "nan_count": 0,
          "min": "1",
          "max": "4",
          "histogram": [
           {
            "bin_start": 1,
            "bin_end": 1.3,
            "count": 2
           },
           {
            "bin_start": 1.3,
            "bin_end": 1.6,
            "count": 0
           },
           {
            "bin_start": 1.6,
            "bin_end": 1.9,
            "count": 0
           },
           {
            "bin_start": 1.9,
            "bin_end": 2.2,
            "count": 2
           },
           {
            "bin_start": 2.2,
            "bin_end": 2.5,
            "count": 0
           },
           {
            "bin_start": 2.5,
            "bin_end": 2.8,
            "count": 0
           },
           {
            "bin_start": 2.8,
            "bin_end": 3.1,
            "count": 0
           },
           {
            "bin_start": 3.1,
            "bin_end": 3.4,
            "count": 0
           },
           {
            "bin_start": 3.4,
            "bin_end": 3.6999999999999997,
            "count": 0
           },
           {
            "bin_start": 3.6999999999999997,
            "bin_end": 4,
            "count": 1
           }
          ]
         }
        },
        {
         "name": "num_of_sales",
         "dtype": "int64",
         "stats": {
          "unique_count": 5,
          "nan_count": 0,
          "min": "151111",
          "max": "969122",
          "histogram": [
           {
            "bin_start": 151111,
            "bin_end": 232912.1,
            "count": 1
           },
           {
            "bin_start": 232912.1,
            "bin_end": 314713.2,
            "count": 1
           },
           {
            "bin_start": 314713.2,
            "bin_end": 396514.30000000005,
            "count": 0
           },
           {
            "bin_start": 396514.30000000005,
            "bin_end": 478315.4,
            "count": 0
           },
           {
            "bin_start": 478315.4,
            "bin_end": 560116.5,
            "count": 1
           },
           {
            "bin_start": 560116.5,
            "bin_end": 641917.6000000001,
            "count": 0
           },
           {
            "bin_start": 641917.6000000001,
            "bin_end": 723718.7000000001,
            "count": 0
           },
           {
            "bin_start": 723718.7000000001,
            "bin_end": 805519.8,
            "count": 0
           },
           {
            "bin_start": 805519.8,
            "bin_end": 887320.9,
            "count": 0
           },
           {
            "bin_start": 887320.9,
            "bin_end": 969122,
            "count": 2
           }
          ]
         }
        },
        {
         "name": "rolling_stone_critic",
         "dtype": "float64",
         "stats": {
          "unique_count": 4,
          "nan_count": 0,
          "min": "3.0",
          "max": "5.0",
          "histogram": [
           {
            "bin_start": 3,
            "bin_end": 3.2,
            "count": 1
           },
           {
            "bin_start": 3.2,
            "bin_end": 3.4,
            "count": 0
           },
           {
            "bin_start": 3.4,
            "bin_end": 3.6,
            "count": 0
           },
           {
            "bin_start": 3.6,
            "bin_end": 3.8,
            "count": 0
           },
           {
            "bin_start": 3.8,
            "bin_end": 4,
            "count": 0
           },
           {
            "bin_start": 4,
            "bin_end": 4.2,
            "count": 1
           },
           {
            "bin_start": 4.2,
            "bin_end": 4.4,
            "count": 0
           },
           {
            "bin_start": 4.4,
            "bin_end": 4.6,
            "count": 2
           },
           {
            "bin_start": 4.6,
            "bin_end": 4.8,
            "count": 0
           },
           {
            "bin_start": 4.8,
            "bin_end": 5,
            "count": 1
           }
          ]
         }
        },
        {
         "name": "mtv_critic",
         "dtype": "float64",
         "stats": {
          "unique_count": 4,
          "nan_count": 0,
          "min": "1.5",
          "max": "4.0",
          "histogram": [
           {
            "bin_start": 1.5,
            "bin_end": 1.75,
            "count": 2
           },
           {
            "bin_start": 1.75,
            "bin_end": 2,
            "count": 0
           },
           {
            "bin_start": 2,
            "bin_end": 2.25,
            "count": 1
           },
           {
            "bin_start": 2.25,
            "bin_end": 2.5,
            "count": 0
           },
           {
            "bin_start": 2.5,
            "bin_end": 2.75,
            "count": 1
           },
           {
            "bin_start": 2.75,
            "bin_end": 3,
            "count": 0
           },
           {
            "bin_start": 3,
            "bin_end": 3.25,
            "count": 0
           },
           {
            "bin_start": 3.25,
            "bin_end": 3.5,
            "count": 0
           },
           {
            "bin_start": 3.5,
            "bin_end": 3.75,
            "count": 0
           },
           {
            "bin_start": 3.75,
            "bin_end": 4,
            "count": 1
           }
          ]
         }
        },
        {
         "name": "music_maniac_critic",
         "dtype": "float64",
         "stats": {
          "unique_count": 5,
          "nan_count": 0,
          "min": "1.0",
          "max": "5.0",
          "histogram": [
           {
            "bin_start": 1,
            "bin_end": 1.4,
            "count": 1
           },
           {
            "bin_start": 1.4,
            "bin_end": 1.8,
            "count": 0
           },
           {
            "bin_start": 1.8,
            "bin_end": 2.2,
            "count": 1
           },
           {
            "bin_start": 2.2,
            "bin_end": 2.6,
            "count": 1
           },
           {
            "bin_start": 2.6,
            "bin_end": 3,
            "count": 0
           },
           {
            "bin_start": 3,
            "bin_end": 3.4000000000000004,
            "count": 1
           },
           {
            "bin_start": 3.4000000000000004,
            "bin_end": 3.8000000000000003,
            "count": 0
           },
           {
            "bin_start": 3.8000000000000003,
            "bin_end": 4.2,
            "count": 0
           },
           {
            "bin_start": 4.2,
            "bin_end": 4.6,
            "count": 0
           },
           {
            "bin_start": 4.6,
            "bin_end": 5,
            "count": 1
           }
          ]
         }
        },
        {
         "name": "all_critics",
         "dtype": "float64",
         "stats": {
          "unique_count": 4,
          "nan_count": 0,
          "min": "2.67",
          "max": "4.0",
          "histogram": [
           {
            "bin_start": 2.67,
            "bin_end": 2.803,
            "count": 2
           },
           {
            "bin_start": 2.803,
            "bin_end": 2.936,
            "count": 1
           },
           {
            "bin_start": 2.936,
            "bin_end": 3.069,
            "count": 0
           },
           {
            "bin_start": 3.069,
            "bin_end": 3.202,
            "count": 1
           },
           {
            "bin_start": 3.202,
            "bin_end": 3.335,
            "count": 0
           },
           {
            "bin_start": 3.335,
            "bin_end": 3.468,
            "count": 0
           },
           {
            "bin_start": 3.468,
            "bin_end": 3.601,
            "count": 0
           },
           {
            "bin_start": 3.601,
            "bin_end": 3.734,
            "count": 0
           },
           {
            "bin_start": 3.734,
            "bin_end": 3.867,
            "count": 0
           },
           {
            "bin_start": 3.867,
            "bin_end": 4,
            "count": 1
           }
          ]
         }
        },
        {
         "name": "_deepnote_index_column",
         "dtype": "int64"
        }
       ],
       "rows": [
        {
         "id": 1,
         "real_name": "Kameko Nelson",
         "art_name": "nan",
         "released_albums": 1,
         "num_of_sales": 905193,
         "rolling_stone_critic": 4,
         "mtv_critic": 1.5,
         "music_maniac_critic": 3,
         "all_critics": 2.83,
         "_deepnote_index_column": 0
        },
        {
         "id": 2,
         "real_name": "Sacha Cameron",
         "art_name": "Bianco Ibureno Chloride",
         "released_albums": 1,
         "num_of_sales": 969122,
         "rolling_stone_critic": 3,
         "mtv_critic": 4,
         "music_maniac_critic": 5,
         "all_critics": 4,
         "_deepnote_index_column": 1
        },
        {
         "id": 5,
         "real_name": "Sonia U. Jensen",
         "art_name": "Asleep lonely Big Morgan",
         "released_albums": 2,
         "num_of_sales": 151111,
         "rolling_stone_critic": 4.5,
         "mtv_critic": 2.5,
         "music_maniac_critic": 1,
         "all_critics": 2.67,
         "_deepnote_index_column": 2
        },
        {
         "id": 6,
         "real_name": "Xanthus Wyatt",
         "art_name": "Paint of Heart Lorazepam",
         "released_albums": 4,
         "num_of_sales": 537615,
         "rolling_stone_critic": 4.5,
         "mtv_critic": 1.5,
         "music_maniac_critic": 2,
         "all_critics": 2.67,
         "_deepnote_index_column": 3
        },
        {
         "id": 7,
         "real_name": "Guinevere L. Fitzpatrick",
         "art_name": "Global The Africa Times",
         "released_albums": 2,
         "num_of_sales": 254802,
         "rolling_stone_critic": 5,
         "mtv_critic": 2,
         "music_maniac_critic": 2.5,
         "all_critics": 3.17,
         "_deepnote_index_column": 4
        }
       ]
      },
      "text/plain": "   id                 real_name                  art_name  released_albums  \\\n0   1             Kameko Nelson                       NaN                1   \n1   2             Sacha Cameron   Bianco Ibureno Chloride                1   \n2   5           Sonia U. Jensen  Asleep lonely Big Morgan                2   \n3   6             Xanthus Wyatt  Paint of Heart Lorazepam                4   \n4   7  Guinevere L. Fitzpatrick   Global The Africa Times                2   \n\n   num_of_sales  rolling_stone_critic  mtv_critic  music_maniac_critic  \\\n0        905193                   4.0         1.5                  3.0   \n1        969122                   3.0         4.0                  5.0   \n2        151111                   4.5         2.5                  1.0   \n3        537615                   4.5         1.5                  2.0   \n4        254802                   5.0         2.0                  2.5   \n\n   all_critics  \n0         2.83  \n1         4.00  \n2         2.67  \n3         2.67  \n4         3.17  ",
      "text/html": "<div>\n<style scoped>\n    .dataframe tbody tr th:only-of-type {\n        vertical-align: middle;\n    }\n\n    .dataframe tbody tr th {\n        vertical-align: top;\n    }\n\n    .dataframe thead th {\n        text-align: right;\n    }\n</style>\n<table border=\"1\" class=\"dataframe\">\n  <thead>\n    <tr style=\"text-align: right;\">\n      <th></th>\n      <th>id</th>\n      <th>real_name</th>\n      <th>art_name</th>\n      <th>released_albums</th>\n      <th>num_of_sales</th>\n      <th>rolling_stone_critic</th>\n      <th>mtv_critic</th>\n      <th>music_maniac_critic</th>\n      <th>all_critics</th>\n    </tr>\n  </thead>\n  <tbody>\n    <tr>\n      <th>0</th>\n      <td>1</td>\n      <td>Kameko Nelson</td>\n      <td>NaN</td>\n      <td>1</td>\n      <td>905193</td>\n      <td>4.0</td>\n      <td>1.5</td>\n      <td>3.0</td>\n      <td>2.83</td>\n    </tr>\n    <tr>\n      <th>1</th>\n      <td>2</td>\n      <td>Sacha Cameron</td>\n      <td>Bianco Ibureno Chloride</td>\n      <td>1</td>\n      <td>969122</td>\n      <td>3.0</td>\n      <td>4.0</td>\n      <td>5.0</td>\n      <td>4.00</td>\n    </tr>\n    <tr>\n      <th>2</th>\n      <td>5</td>\n      <td>Sonia U. Jensen</td>\n      <td>Asleep lonely Big Morgan</td>\n      <td>2</td>\n      <td>151111</td>\n      <td>4.5</td>\n      <td>2.5</td>\n      <td>1.0</td>\n      <td>2.67</td>\n    </tr>\n    <tr>\n      <th>3</th>\n      <td>6</td>\n      <td>Xanthus Wyatt</td>\n      <td>Paint of Heart Lorazepam</td>\n      <td>4</td>\n      <td>537615</td>\n      <td>4.5</td>\n      <td>1.5</td>\n      <td>2.0</td>\n      <td>2.67</td>\n    </tr>\n    <tr>\n      <th>4</th>\n      <td>7</td>\n      <td>Guinevere L. Fitzpatrick</td>\n      <td>Global The Africa Times</td>\n      <td>2</td>\n      <td>254802</td>\n      <td>5.0</td>\n      <td>2.0</td>\n      <td>2.5</td>\n      <td>3.17</td>\n    </tr>\n  </tbody>\n</table>\n</div>"
     },
     "metadata": {}
    }
   ]
  },
  {
   "cell_type": "code",
   "source": "# Como feito anteriormente: criação da coluna 'artista'contendo nome artístico; se vazio recebe o nome real\n\ndf_m['artista'] = df_m['art_name'].fillna(df_m['real_name'])",
   "metadata": {
    "cell_id": "dab51b3ff89e4bc2af33de4853bfe802",
    "tags": [],
    "deepnote_to_be_reexecuted": false,
    "source_hash": "539cd2de",
    "execution_start": 1652728619396,
    "execution_millis": 1,
    "deepnote_table_state": {
     "pageSize": 10,
     "pageIndex": 0,
     "filters": [
      {
       "id": "artista",
       "value": "Hayes",
       "type": "contains"
      }
     ],
     "sortBy": []
    },
    "deepnote_table_loading": false,
    "deepnote_cell_type": "code",
    "deepnote_cell_height": 117
   },
   "outputs": [],
   "execution_count": 40
  },
  {
   "cell_type": "code",
   "source": "# encontrar os 20% piores de acordo com all critics\n\ndf_m['rank'] = df_m['all_critics'].rank(method='dense', pct=True)\ndf_m[['artista', 'all_critics', 'rank']].head()",
   "metadata": {
    "cell_id": "b72c3f92f6dc43b191a767ac21977909",
    "tags": [],
    "deepnote_to_be_reexecuted": false,
    "source_hash": "f525625e",
    "execution_start": 1652730142131,
    "execution_millis": 27,
    "deepnote_cell_type": "code",
    "deepnote_cell_height": 449
   },
   "outputs": [
    {
     "output_type": "execute_result",
     "execution_count": 50,
     "data": {
      "application/vnd.deepnote.dataframe.v3+json": {
       "column_count": 3,
       "row_count": 5,
       "columns": [
        {
         "name": "artista",
         "dtype": "object",
         "stats": {
          "unique_count": 5,
          "nan_count": 0,
          "categories": [
           {
            "name": "Kameko Nelson",
            "count": 1
           },
           {
            "name": "Bianco Ibureno Chloride",
            "count": 1
           },
           {
            "name": "3 others",
            "count": 3
           }
          ]
         }
        },
        {
         "name": "all_critics",
         "dtype": "float64",
         "stats": {
          "unique_count": 4,
          "nan_count": 0,
          "min": "2.67",
          "max": "4.0",
          "histogram": [
           {
            "bin_start": 2.67,
            "bin_end": 2.803,
            "count": 2
           },
           {
            "bin_start": 2.803,
            "bin_end": 2.936,
            "count": 1
           },
           {
            "bin_start": 2.936,
            "bin_end": 3.069,
            "count": 0
           },
           {
            "bin_start": 3.069,
            "bin_end": 3.202,
            "count": 1
           },
           {
            "bin_start": 3.202,
            "bin_end": 3.335,
            "count": 0
           },
           {
            "bin_start": 3.335,
            "bin_end": 3.468,
            "count": 0
           },
           {
            "bin_start": 3.468,
            "bin_end": 3.601,
            "count": 0
           },
           {
            "bin_start": 3.601,
            "bin_end": 3.734,
            "count": 0
           },
           {
            "bin_start": 3.734,
            "bin_end": 3.867,
            "count": 0
           },
           {
            "bin_start": 3.867,
            "bin_end": 4,
            "count": 1
           }
          ]
         }
        },
        {
         "name": "rank",
         "dtype": "float64",
         "stats": {
          "unique_count": 4,
          "nan_count": 0,
          "min": "0.5",
          "max": "0.7857142857142857",
          "histogram": [
           {
            "bin_start": 0.5,
            "bin_end": 0.5285714285714286,
            "count": 2
           },
           {
            "bin_start": 0.5285714285714286,
            "bin_end": 0.5571428571428572,
            "count": 1
           },
           {
            "bin_start": 0.5571428571428572,
            "bin_end": 0.5857142857142857,
            "count": 0
           },
           {
            "bin_start": 0.5857142857142857,
            "bin_end": 0.6142857142857143,
            "count": 1
           },
           {
            "bin_start": 0.6142857142857143,
            "bin_end": 0.6428571428571428,
            "count": 0
           },
           {
            "bin_start": 0.6428571428571428,
            "bin_end": 0.6714285714285715,
            "count": 0
           },
           {
            "bin_start": 0.6714285714285715,
            "bin_end": 0.7,
            "count": 0
           },
           {
            "bin_start": 0.7,
            "bin_end": 0.7285714285714285,
            "count": 0
           },
           {
            "bin_start": 0.7285714285714285,
            "bin_end": 0.7571428571428571,
            "count": 0
           },
           {
            "bin_start": 0.7571428571428571,
            "bin_end": 0.7857142857142857,
            "count": 1
           }
          ]
         }
        },
        {
         "name": "_deepnote_index_column",
         "dtype": "int64"
        }
       ],
       "rows": [
        {
         "artista": "Kameko Nelson",
         "all_critics": 2.83,
         "rank": 0.5357142857142857,
         "_deepnote_index_column": 0
        },
        {
         "artista": "Bianco Ibureno Chloride",
         "all_critics": 4,
         "rank": 0.7857142857142857,
         "_deepnote_index_column": 1
        },
        {
         "artista": "Asleep lonely Big Morgan",
         "all_critics": 2.67,
         "rank": 0.5,
         "_deepnote_index_column": 2
        },
        {
         "artista": "Paint of Heart Lorazepam",
         "all_critics": 2.67,
         "rank": 0.5,
         "_deepnote_index_column": 3
        },
        {
         "artista": "Global The Africa Times",
         "all_critics": 3.17,
         "rank": 0.6071428571428571,
         "_deepnote_index_column": 4
        }
       ]
      },
      "text/plain": "                    artista  all_critics      rank\n0             Kameko Nelson         2.83  0.535714\n1   Bianco Ibureno Chloride         4.00  0.785714\n2  Asleep lonely Big Morgan         2.67  0.500000\n3  Paint of Heart Lorazepam         2.67  0.500000\n4   Global The Africa Times         3.17  0.607143",
      "text/html": "<div>\n<style scoped>\n    .dataframe tbody tr th:only-of-type {\n        vertical-align: middle;\n    }\n\n    .dataframe tbody tr th {\n        vertical-align: top;\n    }\n\n    .dataframe thead th {\n        text-align: right;\n    }\n</style>\n<table border=\"1\" class=\"dataframe\">\n  <thead>\n    <tr style=\"text-align: right;\">\n      <th></th>\n      <th>artista</th>\n      <th>all_critics</th>\n      <th>rank</th>\n    </tr>\n  </thead>\n  <tbody>\n    <tr>\n      <th>0</th>\n      <td>Kameko Nelson</td>\n      <td>2.83</td>\n      <td>0.535714</td>\n    </tr>\n    <tr>\n      <th>1</th>\n      <td>Bianco Ibureno Chloride</td>\n      <td>4.00</td>\n      <td>0.785714</td>\n    </tr>\n    <tr>\n      <th>2</th>\n      <td>Asleep lonely Big Morgan</td>\n      <td>2.67</td>\n      <td>0.500000</td>\n    </tr>\n    <tr>\n      <th>3</th>\n      <td>Paint of Heart Lorazepam</td>\n      <td>2.67</td>\n      <td>0.500000</td>\n    </tr>\n    <tr>\n      <th>4</th>\n      <td>Global The Africa Times</td>\n      <td>3.17</td>\n      <td>0.607143</td>\n    </tr>\n  </tbody>\n</table>\n</div>"
     },
     "metadata": {}
    }
   ],
   "execution_count": 50
  },
  {
   "cell_type": "code",
   "source": "# Quantos dinheiros os 20% piores arrecadaram\npiores = df_m['num_of_sales'].loc[(df_m['rank'] <= 0.20)].sum()\n\n# Quantos % representa do total\nshare = 100 * piores / alb['num_of_sales'].sum()\n\n# Quantas pessoas cortadas\ncorte = df_m['artista'].loc[df_m['rank'] <= 20].count()",
   "metadata": {
    "cell_id": "81b83409035f4af7baa515a75846b7b8",
    "tags": [],
    "deepnote_to_be_reexecuted": false,
    "source_hash": "6a6c8132",
    "execution_start": 1652730951908,
    "execution_millis": 1,
    "deepnote_cell_type": "code",
    "deepnote_cell_height": 207,
    "deepnote_output_heights": [
     21.1875
    ]
   },
   "outputs": [],
   "execution_count": 68
  },
  {
   "cell_type": "code",
   "source": "print(f'Os 20% piores representam {share:.3f}% das vendas,\\n'\n    f'Totalizando {piores} dinheiros\\n'\n    f'{corte} artistas não teriam o contrato renovado.')",
   "metadata": {
    "cell_id": "65bd06793243415a9d2aaf5ac670896c",
    "tags": [],
    "deepnote_to_be_reexecuted": false,
    "source_hash": "12573adf",
    "execution_start": 1652730952512,
    "execution_millis": 301,
    "owner_user_id": "d0aabf1f-174b-4a51-a777-8bd80c6c2a7f",
    "deepnote_cell_type": "code",
    "deepnote_cell_height": 188,
    "deepnote_output_heights": [
     21.1875
    ]
   },
   "outputs": [
    {
     "name": "stdout",
     "text": "Os 20% piores representam 0.988% das vendas,\nTotalizando 314718970 dinheiros\n17526 artistas não teriam o contrato renovado.\n",
     "output_type": "stream"
    }
   ],
   "execution_count": 69
  },
  {
   "cell_type": "markdown",
   "source": "<a style='text-decoration:none;line-height:16px;display:flex;color:#5B5B62;padding:10px;justify-content:end;' href='https://deepnote.com?utm_source=created-in-deepnote-cell&projectId=6c57ce19-4c83-42d2-828d-d933e5de0771' target=\"_blank\">\n<img alt='Created in deepnote.com' style='display:inline;max-height:16px;margin:0px;margin-right:7.5px;' src='data:image/svg+xml;base64,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' > </img>\nCreated in <span style='font-weight:600;margin-left:4px;'>Deepnote</span></a>",
   "metadata": {
    "tags": [],
    "created_in_deepnote_cell": true,
    "deepnote_cell_type": "markdown"
   }
  }
 ],
 "nbformat": 4,
 "nbformat_minor": 2,
 "metadata": {
  "orig_nbformat": 2,
  "deepnote": {
   "is_reactive": false
  },
  "deepnote_notebook_id": "28c8c4a4-584c-4022-99ac-c96d19d4d92b",
  "deepnote_execution_queue": []
 }
}